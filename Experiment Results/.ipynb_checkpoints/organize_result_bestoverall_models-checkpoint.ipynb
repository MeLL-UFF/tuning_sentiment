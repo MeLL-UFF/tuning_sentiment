{
 "cells": [
  {
   "cell_type": "code",
   "execution_count": 1,
   "metadata": {},
   "outputs": [],
   "source": [
    "def deParaClassifierName(textDe):\n",
    "  if textDe == 'MLPClassifier':\n",
    "    return 'MLP'\n",
    "  elif textDe == 'Reg_Logistica':\n",
    "    return 'LR'\n",
    "  elif textDe == 'Random_Forest':\n",
    "    return 'RF'\n",
    "  elif textDe == 'XGboost':\n",
    "    return 'Xgb'\n",
    "  else:\n",
    "    return textDe"
   ]
  },
  {
   "cell_type": "code",
   "execution_count": 2,
   "metadata": {
    "colab": {},
    "colab_type": "code",
    "executionInfo": {
     "elapsed": 1280,
     "status": "ok",
     "timestamp": 1595009919129,
     "user": {
      "displayName": "Ricardo Moura",
      "photoUrl": "https://lh3.googleusercontent.com/a-/AOh14Gh4BPVXR6IythXBJgaEEl5JosseAHCEwlRIxpBjww=s64",
      "userId": "10784804889662280666"
     },
     "user_tz": 180
    },
    "id": "J4oWDmB6inaO"
   },
   "outputs": [],
   "source": [
    "def deParaEmbeddingName(textDe):\n",
    "  if textDe == 'W2V-GN':\n",
    "    return 'w2v-GN'\n",
    "  elif textDe == 'GloveWP':\n",
    "    return 'GloVe-WP'\n",
    "  elif textDe == 'FastText':\n",
    "    return 'fastText'\n",
    "  elif textDe == 'GloveTW':\n",
    "    return 'GloVe-TWT'\n",
    "  elif textDe == 'Bert: bert-base-uncased / STATIC_AVG':\n",
    "    return 'Bert-static'\n",
    "  elif textDe == 'TFIDF':\n",
    "    return 'TF-IDF'\n",
    "  elif textDe == 'W2VAraque':\n",
    "    return 'w2v-Araque'\n",
    "  elif textDe == 'W2VEdin':\n",
    "    return 'w2v-Edin'\n",
    "  elif textDe == 'Roberta: roberta-base / STATIC_AVG':\n",
    "    return 'Roberta-static'\n",
    "\n",
    "  elif textDe == 'Roberta: roberta-base / CONTEXT_CONCAT':\n",
    "    return 'Roberta-context'\n",
    "  elif textDe == 'Bert: bert-base-uncased / CONTEXT_CONCAT':\n",
    "    return 'Bert-context'\n",
    "  \n",
    "  elif textDe == 'Roberta: ./Seed/RoBERTa-05-12-LM / CONTEXT_CONCAT':\n",
    "    return 'RoBERTa\\-0.5K'\n",
    "  elif textDe == 'Roberta: ./Seed/RoBERTa-1-12-LM / CONTEXT_CONCAT':\n",
    "    return 'RoBERTa\\-1K'\n",
    "  elif textDe == 'Roberta: ./Seed/RoBERTa-5-12-LM / CONTEXT_CONCAT':\n",
    "    return 'RoBERTa\\-5K'\n",
    "  elif textDe == 'Roberta: ./Seed/RoBERTa-10-12-LM / CONTEXT_CONCAT':\n",
    "    return 'RoBERTa\\-10K'\n",
    "  elif textDe == 'Roberta: ./Seed/RoBERTa-25-12-LM / CONTEXT_CONCAT':\n",
    "    return 'RoBERTa\\-25K'\n",
    "  elif textDe == 'Roberta: ./Seed/RoBERTa-50-12-LM / CONTEXT_CONCAT':\n",
    "    return 'RoBERTa\\-50K'\n",
    "  elif textDe == 'Roberta: ./Seed/RoBERTa-250-12-LM / CONTEXT_CONCAT':\n",
    "    return 'RoBERTa\\-250K'\n",
    "  elif textDe == \"Roberta: ./Seed/RoBERTa-500-12-LM / CONTEXT_CONCAT\":\n",
    "    return 'RoBERTa\\-500K'\n",
    "  elif textDe == 'Roberta: ./Seed/RoBERTa-1500-12-LM / CONTEXT_CONCAT':\n",
    "    return 'RoBERTa\\-1.5M'\n",
    "  elif textDe == 'Roberta: ./Seed/RoBERTa-6600-12-LM / CONTEXT_CONCAT':\n",
    "    return 'RoBERTa\\-6.6M'\n",
    "  \n",
    "\n",
    "  elif textDe == 'Bert: ./Seed/BERT-05-12-LM / CONTEXT_CONCAT':\n",
    "    return 'BERT\\-0.5K'\n",
    "  elif textDe == 'Bert: ./Seed/BERT-1-12-LM / CONTEXT_CONCAT':\n",
    "    return 'BERT\\-1K'\n",
    "  elif textDe == 'Bert: ./Seed/BERT-5-12-LM / CONTEXT_CONCAT':\n",
    "    return 'BERT\\-5K'\n",
    "  elif textDe == 'Bert: ./Seed/BERT-10-12-LM / CONTEXT_CONCAT':\n",
    "    return 'BERT\\-10K'\n",
    "  elif textDe == 'Bert: ./Seed/BERT-25-12-LM / CONTEXT_CONCAT':\n",
    "    return 'BERT\\-25K'\n",
    "  elif textDe == 'Bert: ./Seed/BERT-50-12-LM / CONTEXT_CONCAT':\n",
    "    return 'BERT\\-50K'\n",
    "  elif textDe == 'Bert: ./Seed/BERT-250-12-LM / CONTEXT_CONCAT':\n",
    "    return 'BERT\\-250K'\n",
    "  elif textDe == 'Bert: ./Seed/BERT-500-12-LM / CONTEXT_CONCAT':\n",
    "    return 'BERT\\-500K'\n",
    "  elif textDe == 'Bert: ./Seed/BERT-1500-12-LM / CONTEXT_CONCAT':\n",
    "    return 'BERT\\-1.5M'\n",
    "  elif textDe == 'Bert: ./Seed/BERT-6600-12-LM / CONTEXT_CONCAT':\n",
    "    return 'BERT\\-6.6M'\n",
    "\n",
    "  elif textDe == \"BERTweet_base_transformers_CONTEXT\":\n",
    "    return 'Bertweet\\-context'\n",
    "  elif textDe == \"./Seed/BERTweet-05-12-LM_CONTEXT\":\n",
    "    return 'BERTweet\\-0.5K'\n",
    "  elif textDe == \"./Seed/BERTweet-1-12-LM_CONTEXT\":\n",
    "    return 'BERTweet\\-1K'\n",
    "  elif textDe == \"./Seed/BERTweet-5-12-LM_CONTEXT\":\n",
    "    return 'BERTweet\\-5K'\n",
    "  elif textDe == \"./Seed/BERTweet-10-12-LM_CONTEXT\":\n",
    "    return 'BERTweet\\-10K'\n",
    "  elif textDe == \"./Seed/BERTweet-50-12-LM_CONTEXT\":\n",
    "    return 'BERTweet\\-50K'\n",
    "  elif textDe == \"./Seed/BERTweet-25-12-LM_CONTEXT\":\n",
    "    return 'BERTweet\\-25K'\n",
    "  elif textDe == \"./Seed/BERTweet-250-12-LM_CONTEXT\":\n",
    "    return 'BERTweet\\-250K'\n",
    "  elif textDe == \"./Seed/BERTweet-500-12-LM_CONTEXT\":\n",
    "    return 'BERTweet\\-500K'\n",
    "  elif textDe == \"./Seed/BERTweet-1500-12-LM_CONTEXT\":\n",
    "    return 'BERTweet\\-1.5M'\n",
    "  elif textDe == \"./Seed/BERTweet-6600-12-LM_CONTEXT\":\n",
    "    return 'BERTweet\\-6.6M'\n",
    "\n",
    "\n",
    "  else:\n",
    "    return textDe"
   ]
  },
  {
   "cell_type": "code",
   "execution_count": 3,
   "metadata": {
    "colab": {},
    "colab_type": "code",
    "executionInfo": {
     "elapsed": 1624,
     "status": "ok",
     "timestamp": 1595009919494,
     "user": {
      "displayName": "Ricardo Moura",
      "photoUrl": "https://lh3.googleusercontent.com/a-/AOh14Gh4BPVXR6IythXBJgaEEl5JosseAHCEwlRIxpBjww=s64",
      "userId": "10784804889662280666"
     },
     "user_tz": 180
    },
    "id": "9qVLCGH69TdW"
   },
   "outputs": [],
   "source": [
    "def deParaDatasetName(textDe):\n",
    "  if textDe == 'ntua':\n",
    "    return 'ntu'\n",
    "  elif textDe == 'SemEval15-Task11':\n",
    "    return 'S15'\n",
    "  elif textDe == 'iphone':\n",
    "    return 'iph'\n",
    "  elif textDe == 'Narr-KDML-2012':\n",
    "    return 'Nar'\n",
    "  elif textDe == 'VADER':\n",
    "    return 'Vad'\n",
    "  elif textDe == 'SemEval17-test':\n",
    "    return 'S17'\n",
    "  elif textDe == 'debate08':\n",
    "    return 'OMD'\n",
    "  elif textDe == 'irony':\n",
    "    return 'iro'\n",
    "  elif textDe == 'sarcasm':\n",
    "    return 'sar'\n",
    "  elif textDe == 'sentiment140':\n",
    "    return 'stm'\n",
    "  elif textDe == 'person':\n",
    "    return 'per'\n",
    "  elif textDe == 'hobbit':\n",
    "    return 'hob'\n",
    "  elif textDe == 'movie':\n",
    "    return 'mov'\n",
    "  elif textDe == 'sanders':\n",
    "    return 'san'\n",
    "  elif textDe == 'archeage':\n",
    "    return 'arc'\n",
    "  elif textDe == 'SemEval18':\n",
    "    return 'S18'\n",
    "  elif textDe == 'STS-gold':\n",
    "    return 'STS'\n",
    "  elif textDe == 'SentiStrength':\n",
    "    return 'SSt'\n",
    "  elif textDe == 'Target-dependent':\n",
    "    return 'Tar'\n",
    "  elif textDe == 'SemEval13':\n",
    "    return 'S13'\n",
    "  elif textDe == 'SemEval16':\n",
    "    return 'S16'\n",
    "  else:\n",
    "    return textDe"
   ]
  },
  {
   "cell_type": "code",
   "execution_count": 4,
   "metadata": {},
   "outputs": [],
   "source": [
    "import pandas as pd\n",
    "data=[[0.34,'iro'],\n",
    "      [0.46,'sar'],\n",
    "      [0.57,'ntu'],\n",
    "      [0.15,'S15'],\n",
    "      [0.51,'stm'],\n",
    "      [0.71,'per'],\n",
    "      [0.68,'hob'],\n",
    "      [0.70,'iph'],\n",
    "      [0.82,'mov'],\n",
    "      [0.47,'san'],\n",
    "      [0.60,'Nar'],\n",
    "      [0.42,'arc'],\n",
    "      [0.47,'S18'],\n",
    "      [0.37,'OMD'],\n",
    "      [0.28,'HCR'],\n",
    "      [0.31,'STS'],\n",
    "      [0.59,'SSt'],\n",
    "      [0.50,'Tar'],\n",
    "      [0.69,'Vad'],\n",
    "      [0.73,'S13'],\n",
    "      [0.37,'S17'],\n",
    "      [0.73,'S16']]\n",
    "balance=pd.DataFrame(data,columns=['Positive','Data_Set'])"
   ]
  },
  {
   "cell_type": "code",
   "execution_count": 5,
   "metadata": {
    "colab": {},
    "colab_type": "code",
    "executionInfo": {
     "elapsed": 1585,
     "status": "ok",
     "timestamp": 1595009919495,
     "user": {
      "displayName": "Ricardo Moura",
      "photoUrl": "https://lh3.googleusercontent.com/a-/AOh14Gh4BPVXR6IythXBJgaEEl5JosseAHCEwlRIxpBjww=s64",
      "userId": "10784804889662280666"
     },
     "user_tz": 180
    },
    "id": "PhS6C9E152Xr"
   },
   "outputs": [],
   "source": [
    "import glob\n",
    "import pandas as pd\n",
    "\n",
    "########## Estatico ##########\n",
    "dfStatic = pd.read_csv(glob.glob(\"Static-STATIC-NEW-1234-LM/Pivot_tables/Final_Result_*.csv\")[0], sep=\",\")\n",
    "\n",
    "\n",
    "########## Contextualizado ##########\n",
    "df_roberta = pd.read_csv(glob.glob(\"./RoBERTa/Pivot_tables/Final_Result_*.csv\")[0],sep=\",\")\n",
    "df_bert = pd.read_csv(glob.glob(\"./BERT/Pivot_tables/Final_Result_*.csv\")[0],sep=\",\")\n",
    "df_bertweet = pd.read_csv(glob.glob(\"./BERTweet/Pivot_tables/Final_Result_*.csv\")[0],sep=\",\")\n",
    "tag=''\n",
    "\n",
    "############## FT LOO ##################\n",
    "df_LOO_bt = pd.read_csv(glob.glob(\"./LOO/BERTweet-LM/Final\"+str(tag)+\"*.csv\")[0], sep=\",\")\n",
    "df_LOO_bt['accuracy'] = round(df_LOO_bt['accuracy']/100,2)\n",
    "df_LOO_bt['f1_macro'] = round(df_LOO_bt['f1_macro']/100,2)\n",
    "\n",
    "df_LOO_br = pd.read_csv(glob.glob(\"./LOO/BERT-LM/Final\"+str(tag)+\"*.csv\")[0], sep=\",\")\n",
    "df_LOO_br['accuracy'] = round(df_LOO_br['accuracy']/100,2)\n",
    "df_LOO_br['f1_macro'] = round(df_LOO_br['f1_macro']/100,2)\n",
    "\n",
    "df_LOO_rb = pd.read_csv(glob.glob(\"./LOO/RoBERTa-LM/Final\"+str(tag)+\"*.csv\")[0], sep=\",\")\n",
    "df_LOO_rb['accuracy'] = round(df_LOO_rb['accuracy']/100,2)\n",
    "df_LOO_rb['f1_macro'] = round(df_LOO_rb['f1_macro']/100,2)\n",
    "\n",
    "\n",
    "############### FT 22DT ##############3\n",
    "\n",
    "df_22dt_rb = pd.read_csv(glob.glob(\"/Users/sergiojunior/sentiment-embeddings/scripts_artigo/22Dt/RoBERTa-LM/Final_Result*.csv\")[0], sep=\",\")\n",
    "\n",
    "df_22dt_br = pd.read_csv(glob.glob(\"/Users/sergiojunior/sentiment-embeddings/scripts_artigo/22Dt/BERT-LM/Final_Result*.csv\")[0], sep=\",\")\n",
    "\n",
    "df_22dt_bt = pd.read_csv(glob.glob(\"/Users/sergiojunior/sentiment-embeddings/scripts_artigo/22Dt/BERTweet-LM/Final_Result*.csv\")[0], sep=\",\")\n",
    "\n",
    "############## FT Indata #################\n",
    "\n",
    "df_Indata_bt = pd.read_csv(glob.glob(\"./InData/BERTweet-LM/Final\"+str(tag)+\"*.csv\")[0], sep=\",\")\n",
    "\n",
    "df_Indata_br = pd.read_csv(glob.glob(\"./InData/BERT-LM/Final\"+str(tag)+\"*.csv\")[0], sep=\",\")\n",
    "\n",
    "df_Indata_rb = pd.read_csv(glob.glob(\"./InData/RoBERTa-LM/Final\"+str(tag)+\"*.csv\")[0], sep=\",\")\n",
    "\n",
    "############# FT RoBERTa ##############\n",
    "\n",
    "df_edin_bt_05 = pd.read_csv(glob.glob(\"./Edin/BERTweet-05-LM/Final\"+str(tag)+\"*_.csv\")[0], sep=\",\")\n",
    "df_edin_bt_1 = pd.read_csv(glob.glob(\"./Edin/BERTweet-1-LM/Final\"+str(tag)+\"*_.csv\")[0], sep=\",\")\n",
    "df_edin_bt_5 = pd.read_csv(glob.glob(\"./Edin/BERTweet-5-LM/Final\"+str(tag)+\"*_.csv\")[0], sep=\",\")\n",
    "df_edin_bt_10 = pd.read_csv(glob.glob(\"./Edin/BERTweet-10-LM/Final\"+str(tag)+\"*_.csv\")[0], sep=\",\")\n",
    "df_edin_bt_25 = pd.read_csv(glob.glob(\"./Edin/BERTweet-25-LM/Final\"+str(tag)+\"*_.csv\")[0], sep=\",\")\n",
    "df_edin_bt_50 = pd.read_csv(glob.glob(\"./Edin/BERTweet-50-LM/Final\"+str(tag)+\"*_.csv\")[0], sep=\",\")\n",
    "df_edin_bt_250 = pd.read_csv(glob.glob(\"./Edin/BERTweet-250-LM/Final\"+str(tag)+\"*_.csv\")[0], sep=\",\")\n",
    "df_edin_bt_500 = pd.read_csv(glob.glob(\"./Edin/BERTweet-500-LM/Final\"+str(tag)+\"*_.csv\")[0],sep=\",\")\n",
    "df_edin_bt_1500 = pd.read_csv(glob.glob(\"./Edin/BERTweet-1500-LM/Final\"+str(tag)+\"*_.csv\")[0], sep=\",\")\n",
    "df_edin_bt_6600 = pd.read_csv(glob.glob(\"./Edin/BERTweet-6600-LM/Final\"+str(tag)+\"*_.csv\")[0], sep=\",\")\n",
    "\n",
    "df_edin_bert_05 = pd.read_csv(glob.glob(\"./Edin/BERT-05-LM/Final\"+str(tag)+\"*_.csv\")[0],sep=\",\")\n",
    "df_edin_bert_1 = pd.read_csv(glob.glob(\"./Edin/BERT-1-LM/Final\"+str(tag)+\"*_.csv\")[0],sep=\",\")\n",
    "df_edin_bert_5 = pd.read_csv(glob.glob(\"./Edin/BERT-5-LM/Final\"+str(tag)+\"*_.csv\")[0],sep=\",\")\n",
    "df_edin_bert_10 = pd.read_csv(glob.glob(\"./Edin/BERT-10-LM/Final\"+str(tag)+\"*_.csv\")[0],sep=\",\")\n",
    "df_edin_bert_25 = pd.read_csv(glob.glob(\"./Edin/BERT-25-LM/Final\"+str(tag)+\"*_.csv\")[0],sep=\",\")\n",
    "df_edin_bert_50 = pd.read_csv(glob.glob(\"./Edin/BERT-50-LM/Final\"+str(tag)+\"*_.csv\")[0],sep=\",\")\n",
    "df_edin_bert_250 = pd.read_csv(glob.glob(\"./Edin/BERT-250-LM/Final\"+str(tag)+\"*_.csv\")[0], sep=\",\")\n",
    "df_edin_bert_500 = pd.read_csv(glob.glob(\"./Edin/BERT-500-LM/Final\"+str(tag)+\"*_.csv\")[0],sep=\",\")\n",
    "df_edin_bert_1500 = pd.read_csv(glob.glob(\"./Edin/BERT-1500-LM/Final\"+str(tag)+\"*_.csv\")[0], sep=\",\")\n",
    "df_edin_bert_6600 = pd.read_csv(glob.glob(\"./Edin/BERT-6600-LM/Final\"+str(tag)+\"*_.csv\")[0], sep=\",\")\n",
    "\n",
    "df_edin_rob_05 = pd.read_csv(glob.glob(\"./Edin/RoBERTa-05-LM/Final\"+str(tag)+\"*_.csv\")[0],sep=\",\")\n",
    "df_edin_rob_1 = pd.read_csv(glob.glob(\"./Edin/RoBERTa-1-LM/Final\"+str(tag)+\"*_.csv\")[0],sep=\",\")\n",
    "df_edin_rob_5 = pd.read_csv(glob.glob(\"./Edin/RoBERTa-5-LM/Final\"+str(tag)+\"*_.csv\")[0],sep=\",\")\n",
    "df_edin_rob_10 = pd.read_csv(glob.glob(\"./Edin/RoBERTa-10-LM/Final\"+str(tag)+\"*_.csv\")[0],sep=\",\")\n",
    "df_edin_rob_25 = pd.read_csv(glob.glob(\"./Edin/RoBERTa-25-LM/Final\"+str(tag)+\"*_.csv\")[0],sep=\",\")\n",
    "df_edin_rob_50 = pd.read_csv(glob.glob(\"./Edin/RoBERTa-50-LM/Final\"+str(tag)+\"*_.csv\")[0],sep=\",\")\n",
    "df_edin_rob_250 = pd.read_csv(glob.glob(\"./Edin/RoBERTa-250-LM/Final\"+str(tag)+\"*_.csv\")[0], sep=\",\")\n",
    "df_edin_rob_500 = pd.read_csv(glob.glob(\"./Edin/RoBERTa-500-LM/Final\"+str(tag)+\"*_.csv\")[0],sep=\",\")\n",
    "df_edin_rob_1500 = pd.read_csv(glob.glob(\"./Edin/RoBERTa-1500-LM/Final\"+str(tag)+\"*_.csv\")[0], sep=\",\")\n",
    "df_edin_rob_6600 = pd.read_csv(glob.glob(\"./Edin/RoBERTa-6600-LM/Final\"+str(tag)+\"*_.csv\")[0], sep=\",\")"
   ]
  },
  {
   "cell_type": "code",
   "execution_count": 6,
   "metadata": {},
   "outputs": [
    {
     "name": "stdout",
     "output_type": "stream",
     "text": [
      "Index(['Data_Set', 'accuracy', 'f1_macro', 'Classifier_Model', 'Embedding'], dtype='object')\n"
     ]
    }
   ],
   "source": [
    "df_edin_bert_1['Data_Set']=df_edin_bert_1[\"Data_Set\"].apply(deParaDatasetName)\n",
    "print(df_edin_bert_1.columns)\n",
    "df_edin_bert_1['Data_Set'] = df_edin_bert_1['Data_Set'].map(str)\n",
    "balance['Data_Set'] = balance['Data_Set'].map(str)\n",
    "df_edin_bert_1_ = df_edin_bert_1.merge(balance,how='left')\n"
   ]
  },
  {
   "cell_type": "code",
   "execution_count": 7,
   "metadata": {
    "colab": {},
    "colab_type": "code",
    "executionInfo": {
     "elapsed": 1494,
     "status": "ok",
     "timestamp": 1595009919500,
     "user": {
      "displayName": "Ricardo Moura",
      "photoUrl": "https://lh3.googleusercontent.com/a-/AOh14Gh4BPVXR6IythXBJgaEEl5JosseAHCEwlRIxpBjww=s64",
      "userId": "10784804889662280666"
     },
     "user_tz": 180
    },
    "id": "NCf2vK6MNjkR"
   },
   "outputs": [],
   "source": [
    "#frames = [dfstatic,df_btw_static,df_roberta,df_bert,df_bertweet,df_edin_rob_5,df_edin_rob_10,df_edin_rob_25,df_edin_rob_50,df_edin_rob_250,df_edin_rob_500,df_edin_rob_1500,df_edin_rob_6600,df_edin_bert_5,df_edin_bert_10,df_edin_bert_25,df_edin_bert_50,df_edin_bert_250,df_edin_bert_500,df_edin_bert_1500,df_edin_bert_6600,df_edin_bt_5,df_edin_bt_10,df_edin_bt_25,df_edin_bt_50,df_edin_bt_250,df_edin_bt_500,df_edin_bt_1500,df_edin_bt_1500,df_edin_bt_6600,df_Indata_rb,df_Indata_br,df_Indata_bt,df_LOO_br,df_LOO_rb,df_LOO_bt,df_22dt_br,df_22dt_rb,df_22dt_bt]\n",
    "#frames = [df_bertweet,df_22dt_bt,df_22dt_br,df_22dt_rb,df_LOO_bt,df_LOO_br,df_LOO_rb,df_Indata_br,df_Indata_rb,df_Indata_bt,df_edin_bt_5,df_edin_bt_10,df_edin_bt_25,df_edin_bt_50,df_edin_bt_250,df_edin_bt_500,df_edin_bt_1500,df_edin_bt_1500,df_edin_bt_6600]\n",
    "\n",
    "#best context vs static\n",
    "#frames = [dfstatic,df_btw_static,df_roberta,df_bert,df_bertweet]\n",
    "\n",
    "#roberta vs roberta tunado\n",
    "#frames = [df_roberta,df_edin_rob_05,df_edin_rob_1,df_edin_rob_5,df_edin_rob_10,df_edin_rob_25,df_edin_rob_50,df_edin_rob_250,df_edin_rob_500,df_edin_rob_1500,df_edin_rob_6600,df_LOO_rb,df_Indata_rb,df_22dt_rb]\n",
    "\n",
    "#bert vs bert tunado\n",
    "#frames = [df_bert,df_edin_bert_05,df_edin_bert_1,df_edin_bert_5,df_edin_bert_10,df_edin_bert_25,df_edin_bert_50,df_edin_bert_250,df_edin_bert_500,df_edin_bert_1500,df_edin_bert_6600,df_LOO_br,df_Indata_br,df_22dt_br]\n",
    "\n",
    "#bertweet vs bertweet tunado\n",
    "#frames = [df_bertweet,df_edin_bt_05,df_edin_bt_1,df_edin_bt_5,df_edin_bt_10,df_edin_bt_25,df_edin_bt_50,df_edin_bt_250,df_edin_bt_500,df_edin_bt_1500,df_edin_bt_6600,df_LOO_bt,df_Indata_bt,df_22dt_bt]\n",
    "\n",
    "#bertweet vs todos modelos\n",
    "#frames = [df_bertweet,df_edin_rob_05,df_edin_rob_1,df_edin_rob_5,df_edin_rob_10,df_edin_rob_25,df_edin_rob_50,df_edin_rob_250,df_edin_rob_500,df_edin_rob_1500,df_edin_rob_6600,df_edin_bert_05,df_edin_bert_1,df_edin_bert_5,df_edin_bert_10,df_edin_bert_25,df_edin_bert_50,df_edin_bert_250,df_edin_bert_500,df_edin_bert_1500,df_edin_bert_6600,df_Indata_rb,df_Indata_br,df_LOO_br,df_LOO_rb,df_22dt_br,df_22dt_rb]\n",
    "\n",
    "#Best indata, LOO, 22dataset\n",
    "#frames = [df_Indata_rb,df_Indata_br,df_Indata_bt,df_LOO_br,df_LOO_bt,df_LOO_rb,df_22dt_br,df_22dt_rb,df_22dt_bt]\n",
    "#frames = [df_Indata_bt,df_LOO_bt,df_22dt_bt]\n",
    "\n",
    "#BEST OVER ALL FINE TUNING sem sentimento\n",
    "'''frames = [df_edin_bt_05,df_edin_bt_1,df_edin_bt_5,df_edin_bt_10,df_edin_bt_25,df_edin_bt_50,df_edin_bt_250,df_edin_bt_500,df_edin_bt_1500,df_edin_bt_6600, \\\n",
    "          df_edin_rob_05,df_edin_rob_1,df_edin_rob_5,df_edin_rob_10,df_edin_rob_25,df_edin_rob_50,df_edin_rob_250,df_edin_rob_500,df_edin_rob_1500,df_edin_rob_6600, \\\n",
    "          df_edin_bert_05,df_edin_bert_1,df_edin_bert_5,df_edin_bert_10,df_edin_bert_25,df_edin_bert_50,df_edin_bert_250,df_edin_bert_500,df_edin_bert_1500,df_edin_bert_6600]\n",
    "'''\n",
    "\n",
    "#BEST OVER ALL FINE TUNING\n",
    "'''frames = [df_edin_bt_05,df_edin_bt_1,df_edin_bt_5,df_edin_bt_10,df_edin_bt_25,df_edin_bt_50,df_edin_bt_250,df_edin_bt_500,df_edin_bt_1500,df_edin_bt_6600, \\\n",
    "          df_LOO_bt,df_Indata_bt,df_22dt_bt, \\\n",
    "          df_edin_rob_05,df_edin_rob_1,df_edin_rob_5,df_edin_rob_10,df_edin_rob_25,df_edin_rob_50,df_edin_rob_250,df_edin_rob_500,df_edin_rob_1500,df_edin_rob_6600, \\\n",
    "          df_edin_bert_05,df_edin_bert_1,df_edin_bert_5,df_edin_bert_10,df_edin_bert_25,df_edin_bert_50,df_edin_bert_250,df_edin_bert_500,df_edin_bert_1500,df_edin_bert_6600, \\\n",
    "          df_Indata_rb,df_Indata_br,df_LOO_br,df_LOO_rb,df_22dt_br,df_22dt_rb]'''\n",
    "\n",
    "#BEST OVER ALL MODELS\n",
    "#BEST OVER ALL MODELS\n",
    "frames = [dfStatic,df_roberta,df_bert,df_bertweet, \\\n",
    "          df_edin_bt_05,df_edin_bt_1,df_edin_bt_5,df_edin_bt_10,df_edin_bt_25,df_edin_bt_50,df_edin_bt_250,df_edin_bt_500,df_edin_bt_1500,df_edin_bt_6600, \\\n",
    "          df_LOO_bt,df_Indata_bt,df_22dt_bt, \\\n",
    "          df_edin_rob_05,df_edin_rob_1,df_edin_rob_5,df_edin_rob_10,df_edin_rob_25,df_edin_rob_50,df_edin_rob_250,df_edin_rob_500,df_edin_rob_1500,df_edin_rob_6600, \\\n",
    "          df_edin_bert_05,df_edin_bert_1,df_edin_bert_5,df_edin_bert_10,df_edin_bert_25,df_edin_bert_50,df_edin_bert_250,df_edin_bert_500,df_edin_bert_1500,df_edin_bert_6600, \\\n",
    "          df_Indata_rb,df_Indata_br,df_LOO_br,df_LOO_rb,df_22dt_br,df_22dt_rb]"
   ]
  },
  {
   "cell_type": "code",
   "execution_count": 8,
   "metadata": {
    "colab": {},
    "colab_type": "code",
    "executionInfo": {
     "elapsed": 1465,
     "status": "ok",
     "timestamp": 1595009919501,
     "user": {
      "displayName": "Ricardo Moura",
      "photoUrl": "https://lh3.googleusercontent.com/a-/AOh14Gh4BPVXR6IythXBJgaEEl5JosseAHCEwlRIxpBjww=s64",
      "userId": "10784804889662280666"
     },
     "user_tz": 180
    },
    "id": "IwrQ3coXNuIe"
   },
   "outputs": [],
   "source": [
    "result = pd.concat(frames)"
   ]
  },
  {
   "cell_type": "code",
   "execution_count": 9,
   "metadata": {
    "colab": {},
    "colab_type": "code",
    "executionInfo": {
     "elapsed": 1450,
     "status": "ok",
     "timestamp": 1595009919502,
     "user": {
      "displayName": "Ricardo Moura",
      "photoUrl": "https://lh3.googleusercontent.com/a-/AOh14Gh4BPVXR6IythXBJgaEEl5JosseAHCEwlRIxpBjww=s64",
      "userId": "10784804889662280666"
     },
     "user_tz": 180
    },
    "id": "SkBoFHgNwndl"
   },
   "outputs": [],
   "source": [
    "result[[\"accuracy\", \"f1_macro\"]] = result[[\"accuracy\", \"f1_macro\"]].apply(pd.to_numeric)"
   ]
  },
  {
   "cell_type": "code",
   "execution_count": 10,
   "metadata": {
    "colab": {},
    "colab_type": "code",
    "executionInfo": {
     "elapsed": 1381,
     "status": "ok",
     "timestamp": 1595009919504,
     "user": {
      "displayName": "Ricardo Moura",
      "photoUrl": "https://lh3.googleusercontent.com/a-/AOh14Gh4BPVXR6IythXBJgaEEl5JosseAHCEwlRIxpBjww=s64",
      "userId": "10784804889662280666"
     },
     "user_tz": 180
    },
    "id": "05WFV64O2zJN"
   },
   "outputs": [],
   "source": [
    "result[\"Data_Set\"] = result[\"Data_Set\"].apply(deParaDatasetName)\n",
    "result[\"Embedding\"] = result[\"Embedding\"].apply(deParaEmbeddingName)\n",
    "result[\"Classifier_Model\"] = result[\"Classifier_Model\"].apply(deParaClassifierName)"
   ]
  },
  {
   "cell_type": "code",
   "execution_count": 11,
   "metadata": {
    "colab": {
     "base_uri": "https://localhost:8080/",
     "height": 419
    },
    "colab_type": "code",
    "executionInfo": {
     "elapsed": 1326,
     "status": "ok",
     "timestamp": 1595009919507,
     "user": {
      "displayName": "Ricardo Moura",
      "photoUrl": "https://lh3.googleusercontent.com/a-/AOh14Gh4BPVXR6IythXBJgaEEl5JosseAHCEwlRIxpBjww=s64",
      "userId": "10784804889662280666"
     },
     "user_tz": 180
    },
    "id": "1Idi3E1ehTaV",
    "outputId": "622eaffa-be5a-41f1-aee2-ebdd40a36ff8"
   },
   "outputs": [],
   "source": [
    "#result.sort_values(by='Data_Set')\n",
    "#result[result['Data_Set']=='iro']"
   ]
  },
  {
   "cell_type": "code",
   "execution_count": 12,
   "metadata": {
    "colab": {},
    "colab_type": "code",
    "executionInfo": {
     "elapsed": 1301,
     "status": "ok",
     "timestamp": 1595009919508,
     "user": {
      "displayName": "Ricardo Moura",
      "photoUrl": "https://lh3.googleusercontent.com/a-/AOh14Gh4BPVXR6IythXBJgaEEl5JosseAHCEwlRIxpBjww=s64",
      "userId": "10784804889662280666"
     },
     "user_tz": 180
    },
    "id": "n2i9Vw-ahUnG"
   },
   "outputs": [],
   "source": [
    "result_acc = result.sort_values(by=['Data_Set', 'accuracy'], ascending=False)\n",
    "result_f1 = result.sort_values(by=['Data_Set', 'f1_macro'], ascending=False)\n"
   ]
  },
  {
   "cell_type": "code",
   "execution_count": 13,
   "metadata": {
    "colab": {},
    "colab_type": "code",
    "executionInfo": {
     "elapsed": 1276,
     "status": "ok",
     "timestamp": 1595009919509,
     "user": {
      "displayName": "Ricardo Moura",
      "photoUrl": "https://lh3.googleusercontent.com/a-/AOh14Gh4BPVXR6IythXBJgaEEl5JosseAHCEwlRIxpBjww=s64",
      "userId": "10784804889662280666"
     },
     "user_tz": 180
    },
    "id": "yRP2Qkz3-Wwq"
   },
   "outputs": [],
   "source": [
    "def montaTabelaLatex(df, metrica):\n",
    "  first = True\n",
    "  for ind in df.index:\n",
    "    if first == False:\n",
    "      print(\"\\\\rule{0pt}{3.0ex}\")\n",
    "    else:\n",
    "      first = False\n",
    "    print (str(df[\"Data_Set\"][ind])+'&'+str(df[metrica][ind])+'&'+str(df[\"Classifier_Model\"][ind])+'&'+str(df[\"Embedding\"][ind])+'\\\\\\\\')"
   ]
  },
  {
   "cell_type": "code",
   "execution_count": 14,
   "metadata": {},
   "outputs": [],
   "source": [
    "def montaTabelaLatexNew(df_acc, df_f1):\n",
    "  first = True\n",
    "  for ind in df_acc.index:\n",
    "    if first == False:\n",
    "      print(\"\\\\rule{0pt}{3.0ex}\")\n",
    "    else:\n",
    "      first = False\n",
    "    print (str(df_acc[\"Data_Set\"][ind])+'&'+str(round(df_acc['accuracy'][ind],2))+'&'+str(df_acc[\"Classifier_Model\"][ind])+'&'+str(df_acc[\"Embedding\"][ind])+'&'+str(round(df_f1['f1_macro'][ind],2))+'&'+str(df_f1[\"Classifier_Model\"][ind])+'&'+str(df_f1[\"Embedding\"][ind])+'\\\\\\\\')\n",
    "           "
   ]
  },
  {
   "cell_type": "code",
   "execution_count": 15,
   "metadata": {
    "colab": {},
    "colab_type": "code",
    "executionInfo": {
     "elapsed": 1288,
     "status": "ok",
     "timestamp": 1595009919509,
     "user": {
      "displayName": "Ricardo Moura",
      "photoUrl": "https://lh3.googleusercontent.com/a-/AOh14Gh4BPVXR6IythXBJgaEEl5JosseAHCEwlRIxpBjww=s64",
      "userId": "10784804889662280666"
     },
     "user_tz": 180
    },
    "id": "Mq6A-3oomtFD"
   },
   "outputs": [],
   "source": [
    "max_acc = result_acc[['Data_Set','accuracy']].groupby(by=['Data_Set']).max().reset_index()\n",
    "max_acc = max_acc.merge(result_acc[['Data_Set','accuracy','Embedding','Classifier_Model']],left_on=['Data_Set','accuracy'],right_on=['Data_Set','accuracy'])\n",
    "\n",
    "\n",
    "max_f1 = result_f1[['Data_Set','f1_macro']].groupby(by=['Data_Set']).max().reset_index()\n",
    "max_f1 = max_f1.merge(result_acc[['Data_Set','f1_macro','Embedding','Classifier_Model']],left_on=['Data_Set','f1_macro'],right_on=['Data_Set','f1_macro'])\n",
    "result_acc = result_acc.drop_duplicates(subset='Data_Set', keep=\"first\")\n",
    "result_acc=result_acc.reset_index(drop=True)\n",
    "result_f1 = result_f1.drop_duplicates(subset='Data_Set', keep=\"first\")\n",
    "result_f1=result_f1.reset_index(drop=True)\n"
   ]
  },
  {
   "cell_type": "code",
   "execution_count": 16,
   "metadata": {},
   "outputs": [],
   "source": [
    "result_acc = result_acc.reindex([6,1,4,17,0,3,8,7,5,2,20,9,14,19,21,12,13,11,10,18,15,16])"
   ]
  },
  {
   "cell_type": "code",
   "execution_count": 17,
   "metadata": {},
   "outputs": [],
   "source": [
    "result_f1 = result_f1.reindex([6,1,4,17,0,3,8,7,5,2,20,9,14,19,21,12,13,11,10,18,15,16])"
   ]
  },
  {
   "cell_type": "code",
   "execution_count": 18,
   "metadata": {
    "colab": {
     "base_uri": "https://localhost:8080/",
     "height": 731
    },
    "colab_type": "code",
    "executionInfo": {
     "elapsed": 1466,
     "status": "ok",
     "timestamp": 1595009919790,
     "user": {
      "displayName": "Ricardo Moura",
      "photoUrl": "https://lh3.googleusercontent.com/a-/AOh14Gh4BPVXR6IythXBJgaEEl5JosseAHCEwlRIxpBjww=s64",
      "userId": "10784804889662280666"
     },
     "user_tz": 180
    },
    "id": "Xvx_pVuj0VOX",
    "outputId": "56ea5af9-f85e-4e18-fd63-6b9e15fb9d45"
   },
   "outputs": [
    {
     "name": "stdout",
     "output_type": "stream",
     "text": [
      "iro&83.33&LR&BERTweet\\_LOO&77.24&SVM&BERTweet\\_LOO\\\\\n",
      "\\rule{0pt}{3.0ex}\n",
      "sar&87.5&LR&SSWE&87.19&LR&SSWE\\\\\n",
      "\\rule{0pt}{3.0ex}\n",
      "ntu&95.3&MLP&w2v-Edin&95.19&MLP&w2v-Edin\\\\\n",
      "\\rule{0pt}{3.0ex}\n",
      "S15&94.39&MLP&BERTweet\\_LOO&87.31&MLP&BERTweet\\_LOO\\\\\n",
      "\\rule{0pt}{3.0ex}\n",
      "stm&93.04&SVM&BERTweet-5K&93.02&SVM&BERTweet-5K\\\\\n",
      "\\rule{0pt}{3.0ex}\n",
      "per&89.51&LR&BERTweet-10K&87.53&LR&BERTweet-10K\\\\\n",
      "\\rule{0pt}{3.0ex}\n",
      "hob&94.82&MLP&Bert-static&94.05&MLP&Bert-static\\\\\n",
      "\\rule{0pt}{3.0ex}\n",
      "iph&88.16&MLP&RoBERTa-25K&85.85&MLP&RoBERTa-25K\\\\\n",
      "\\rule{0pt}{3.0ex}\n",
      "mov&93.29&MLP&BERTweet-50K&88.27&LR&BERTweet-50K\\\\\n",
      "\\rule{0pt}{3.0ex}\n",
      "san&91.83&LR&BERTweet-10K&91.77&LR&BERTweet-10K\\\\\n",
      "\\rule{0pt}{3.0ex}\n",
      "Nar&97.04&MLP&BERTweet-1K&96.91&MLP&BERTweet-1K\\\\\n",
      "\\rule{0pt}{3.0ex}\n",
      "arc&92.1&MLP&BERTweet\\_22Dt&91.92&LR&BERTweet-25K\\\\\n",
      "\\rule{0pt}{3.0ex}\n",
      "S18&90.9&SVM&BERTweet\\_22Dt&90.8&SVM&BERTweet\\_22Dt\\\\\n",
      "\\rule{0pt}{3.0ex}\n",
      "OMD&89.77&SVM&BERTweet\\_LOO&88.99&SVM&BERTweet\\_LOO\\\\\n",
      "\\rule{0pt}{3.0ex}\n",
      "HCR&82.21&Xgb&BERTweet\\_LOO&78.18&LR&BERTweet-250K\\\\\n",
      "\\rule{0pt}{3.0ex}\n",
      "STS&95.38&MLP&BERTweet-50K&94.59&MLP&BERTweet-50K\\\\\n",
      "\\rule{0pt}{3.0ex}\n",
      "SSt&89.6&SVM&BERTweet-10K&89.36&SVM&BERTweet-10K\\\\\n",
      "\\rule{0pt}{3.0ex}\n",
      "Tar&87.83&SVM&BERTweet-1K&87.82&SVM&BERTweet-1K\\\\\n",
      "\\rule{0pt}{3.0ex}\n",
      "Vad&93.14&LR&BERTweet\\_LOO&92.05&LR&BERTweet\\_LOO\\\\\n",
      "\\rule{0pt}{3.0ex}\n",
      "S13&90.7&LR&BERTweet-5K&88.59&LR&BERTweet-5K\\\\\n",
      "\\rule{0pt}{3.0ex}\n",
      "S17&93.6&SVM&BERTweet\\_22Dt&93.17&SVM&BERTweet\\_LOO\\\\\n",
      "\\rule{0pt}{3.0ex}\n",
      "S16&91.98&SVM&BERTweet-5K&90.3&SVM&BERTweet-5K\\\\\n"
     ]
    }
   ],
   "source": [
    "montaTabelaLatexNew(result_acc,result_f1)"
   ]
  },
  {
   "cell_type": "code",
   "execution_count": 19,
   "metadata": {},
   "outputs": [],
   "source": [
    "def print_summarization(acc,f1,col):\n",
    "    acc = acc.merge(f1,how='outer',left_on=['index'],right_on=['index'])\n",
    "    for i,row in acc.iterrows():\n",
    "        print(str(row['index'])+\"&\"+str(row[col+'_x'])+\"&\"+str(row[col+'_y'])+\"\\\\\\\\\")"
   ]
  },
  {
   "cell_type": "code",
   "execution_count": 20,
   "metadata": {},
   "outputs": [
    {
     "name": "stdout",
     "output_type": "stream",
     "text": [
      "                index  Embedding\n",
      "0       BERTweet\\_LOO          5\n",
      "1         BERTweet-5K          3\n",
      "2  BERTweet\\\\_AllData          3\n",
      "3        BERTweet-10K          3\n",
      "4         BERTweet-1K          2\n",
      "5        BERTweet-50K          2\n",
      "6            w2v-Edin          1\n",
      "7         RoBERTa-25K          1\n",
      "8                SSWE          1\n",
      "9         Bert-static          1\n",
      "                 index  Embedding\n",
      "0        BERTweet\\_LOO          5\n",
      "1          BERTweet-5K          3\n",
      "2         BERTweet-10K          3\n",
      "3         BERTweet-50K          2\n",
      "4          BERTweet-1K          2\n",
      "5             w2v-Edin          1\n",
      "6   BERTweet\\\\_AllData          1\n",
      "7         BERTweet-25K          1\n",
      "8        BERTweet-250K          1\n",
      "9          RoBERTa-25K          1\n",
      "10                SSWE          1\n",
      "11         Bert-static          1\n",
      "BERTweet\\_LOO&5.0&5\\\\\n",
      "BERTweet-5K&3.0&3\\\\\n",
      "BERTweet\\\\_AllData&3.0&1\\\\\n",
      "BERTweet-10K&3.0&3\\\\\n",
      "BERTweet-1K&2.0&2\\\\\n",
      "BERTweet-50K&2.0&2\\\\\n",
      "w2v-Edin&1.0&1\\\\\n",
      "RoBERTa-25K&1.0&1\\\\\n",
      "SSWE&1.0&1\\\\\n",
      "Bert-static&1.0&1\\\\\n",
      "BERTweet-25K&nan&1\\\\\n",
      "BERTweet-250K&nan&1\\\\\n"
     ]
    }
   ],
   "source": [
    "acc = pd.DataFrame(max_acc['Embedding'].value_counts()).reset_index()\n",
    "acc['index']= acc['index'].str.replace(\"\\_22Dt\",'\\_AllData')\n",
    "#acc['strategy']=acc['index'].str.split('\\_',expand=True)[1]\n",
    "f1 = pd.DataFrame(max_f1['Embedding'].value_counts()).reset_index()\n",
    "f1['index']= f1['index'].str.replace(\"\\_22Dt\",'\\_AllData')\n",
    "#f1['strategy']=f1['index'].str.split('\\_',expand=True)[1]\n",
    "print(acc)\n",
    "print(f1)\n",
    "print_summarization(acc,f1,'Embedding')"
   ]
  },
  {
   "cell_type": "code",
   "execution_count": 21,
   "metadata": {},
   "outputs": [
    {
     "name": "stdout",
     "output_type": "stream",
     "text": [
      "MLP&8&6.0\\\\\n",
      "SVM&7&8.0\\\\\n",
      "LR&6&8.0\\\\\n",
      "Xgb&1&nan\\\\\n"
     ]
    }
   ],
   "source": [
    "acc = pd.DataFrame(max_acc['Classifier_Model'].value_counts()).reset_index()\n",
    "f1 = pd.DataFrame(max_f1['Classifier_Model'].value_counts()).reset_index()\n",
    "print_summarization(acc,f1,'Classifier_Model')"
   ]
  },
  {
   "cell_type": "code",
   "execution_count": null,
   "metadata": {},
   "outputs": [],
   "source": []
  },
  {
   "cell_type": "code",
   "execution_count": null,
   "metadata": {},
   "outputs": [],
   "source": []
  }
 ],
 "metadata": {
  "colab": {
   "authorship_tag": "ABX9TyNu7AB0kwJRPr+r17jbMTv3",
   "collapsed_sections": [],
   "mount_file_id": "18YqNJ9EiloCFcgw03FIBpEvdUpPY5fCt",
   "name": "organize_result_bestoverall.ipynb",
   "provenance": []
  },
  "kernelspec": {
   "display_name": "Python 3",
   "language": "python",
   "name": "python3"
  },
  "language_info": {
   "codemirror_mode": {
    "name": "ipython",
    "version": 3
   },
   "file_extension": ".py",
   "mimetype": "text/x-python",
   "name": "python",
   "nbconvert_exporter": "python",
   "pygments_lexer": "ipython3",
   "version": "3.7.7"
  }
 },
 "nbformat": 4,
 "nbformat_minor": 1
}
