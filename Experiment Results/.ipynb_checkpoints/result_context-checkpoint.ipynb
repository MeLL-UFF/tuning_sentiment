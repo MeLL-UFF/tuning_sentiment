{
 "cells": [
  {
   "cell_type": "code",
   "execution_count": 1,
   "metadata": {
    "colab": {},
    "colab_type": "code",
    "executionInfo": {
     "elapsed": 1503,
     "status": "ok",
     "timestamp": 1594834953413,
     "user": {
      "displayName": "Ricardo Moura",
      "photoUrl": "https://lh3.googleusercontent.com/a-/AOh14Gh4BPVXR6IythXBJgaEEl5JosseAHCEwlRIxpBjww=s64",
      "userId": "10784804889662280666"
     },
     "user_tz": 180
    },
    "id": "XAW3uCp27ptx"
   },
   "outputs": [],
   "source": [
    "dict = {\n",
    "    \"fileNames\" : [\n",
    "                   \"irony\",\n",
    "                   \"sarcasm\",\n",
    "                   \"aisopos\",\n",
    "                   \"SemEval-Fig\",\n",
    "                   \"sentiment140\",\n",
    "                   \"person\",\n",
    "                   \"hobbit\",\n",
    "                   \"iphone6\",\n",
    "                   \"movie\",\n",
    "                   \"sanders\",\n",
    "                   \"Narr\",\n",
    "                   \"archeage\",\n",
    "                   \"SemEval18\",\n",
    "                   \"OMD\",\n",
    "                   \"HCR\",\n",
    "                   \"STS-gold\",\n",
    "                   \"SentiStrength\",\n",
    "                   \"Target-dependent\",\n",
    "                   \"Vader\",\n",
    "                   \"SemEval13\",\n",
    "                   \"SemEval17\",\n",
    "                   \"SemEval16\"\n",
    "                  ]\n",
    "}"
   ]
  },
  {
   "cell_type": "code",
   "execution_count": 2,
   "metadata": {
    "colab": {},
    "colab_type": "code",
    "executionInfo": {
     "elapsed": 1484,
     "status": "ok",
     "timestamp": 1594834953413,
     "user": {
      "displayName": "Ricardo Moura",
      "photoUrl": "https://lh3.googleusercontent.com/a-/AOh14Gh4BPVXR6IythXBJgaEEl5JosseAHCEwlRIxpBjww=s64",
      "userId": "10784804889662280666"
     },
     "user_tz": 180
    },
    "id": "UsamTZP99FUW"
   },
   "outputs": [],
   "source": [
    "def deParaDatasetName(textDe):\n",
    "  if textDe == 'ntua':\n",
    "    return 'ntu'\n",
    "  elif textDe == 'SemEval15-Task11':\n",
    "    return 'S15'\n",
    "  elif textDe == 'iphone':\n",
    "    return 'iph'\n",
    "  elif textDe == 'Narr-KDML-2012':\n",
    "    return 'Nar'\n",
    "  elif textDe == 'VADER':\n",
    "    return 'Vad'\n",
    "  elif textDe == 'SemEval17-test':\n",
    "    return 'S17'\n",
    "  elif textDe == 'debate08':\n",
    "    return 'OMD'\n",
    "  elif textDe == 'irony':\n",
    "    return 'iro'\n",
    "  elif textDe == 'sarcasm':\n",
    "    return 'sar'\n",
    "  elif textDe == 'sentiment140':\n",
    "    return 'stm'\n",
    "  elif textDe == 'person':\n",
    "    return 'per'\n",
    "  elif textDe == 'hobbit':\n",
    "    return 'hob'\n",
    "  elif textDe == 'movie':\n",
    "    return 'mov'\n",
    "  elif textDe == 'sanders':\n",
    "    return 'san'\n",
    "  elif textDe == 'archeage':\n",
    "    return 'arc'\n",
    "  elif textDe == 'SemEval18':\n",
    "    return 'S18'\n",
    "  elif textDe == 'STS-gold':\n",
    "    return 'STS'\n",
    "  elif textDe == 'SentiStrength':\n",
    "    return 'SSt'\n",
    "  elif textDe == 'Target-dependent':\n",
    "    return 'Tar'\n",
    "  elif textDe == 'SemEval13':\n",
    "    return 'S13'\n",
    "  elif textDe == 'SemEval16':\n",
    "    return 'S16'\n",
    "  else:\n",
    "    return textDe"
   ]
  },
  {
   "cell_type": "code",
   "execution_count": 3,
   "metadata": {},
   "outputs": [],
   "source": [
    "models=['Bert','Roberta','Bertweet']\n",
    "def get_result_resume(df,models):\n",
    "    df_t = df.copy()\n",
    "    df_t.index=df_t['Embedding']\n",
    "    del df_t['Embedding']\n",
    "    df_t = df_t.T\n",
    "    df_rank = pd.DataFrame()\n",
    "    for dts in df['Embedding']:\n",
    "        df_rank = pd.concat([df_rank,pd.DataFrame(df_t[dts].rank(ascending=False)).T],axis=0)\n",
    "\n",
    "    dict_emb_sum = pd.DataFrame(df_rank.sum(),columns=['ranksum'])\n",
    "    dict_emb_sum = dict_emb_sum.reindex(models)\n",
    "\n",
    "    dict_emb_ranksum = dict_emb_sum.rank(ascending=True)\n",
    "    dict_emb_ranksum.columns=['position']\n",
    "    dict_emb_ranksum = dict_emb_ranksum.reindex(models)\n",
    "\n",
    "    sum_wins=[]\n",
    "    for col in df_rank.columns:\n",
    "        sum_wins.append(len(df_rank[df_rank[col]<=1.5][col]))\n",
    "\n",
    "    sum_wins = pd.DataFrame(sum_wins,index=df_rank.columns,columns=['wins'])\n",
    "    sum_wins = sum_wins.reindex(models)\n",
    "\n",
    "    final_result = pd.concat([sum_wins,dict_emb_sum,dict_emb_ranksum],axis=1)\n",
    "    return final_result"
   ]
  },
  {
   "cell_type": "code",
   "execution_count": 4,
   "metadata": {},
   "outputs": [],
   "source": [
    "def isTheWinner(df,model,dataset):\n",
    "    df_t = df.copy()\n",
    "    df_t.index=df_t['Embedding']\n",
    "    del df_t['Embedding']\n",
    "    df_t = df_t.T\n",
    "    if df_t[dataset].rank(ascending=False)[model]==1:\n",
    "        return True\n",
    "    else:\n",
    "        return False"
   ]
  },
  {
   "cell_type": "code",
   "execution_count": 5,
   "metadata": {},
   "outputs": [],
   "source": [
    "def printWinnerTableFormat(df,embVal,emb, dsname):\n",
    "  if isTheWinner(df,emb, dsname)==True:\n",
    "    return '\\\\textbf{'+str(embVal)+'}'\n",
    "  return embVal"
   ]
  },
  {
   "cell_type": "code",
   "execution_count": 6,
   "metadata": {},
   "outputs": [],
   "source": [
    "def mont_dataset(tag1,tag2):\n",
    "    df_roberta = pd.read_csv(glob.glob(\"./RoBERTa/Pivot_tables/pivot_\"+str(tag1)+\"*RoBERTaXgboostLM*.csv\")[0], skiprows=[0,2],sep=\",\",decimal='.')\n",
    "    df_bert = pd.read_csv(glob.glob(\"./BERT/Pivot_tables/pivot_\"+str(tag1)+\"*BERTXgboost*.csv\")[0], skiprows=[0,2],sep=\",\",decimal='.')\n",
    "    df_bertweet = pd.read_csv(glob.glob(\"./BERTweet/Pivot_tables/pivot_\"+str(tag1)+\"*BERTweetXgboost*.csv\")[0], skiprows=[0,2],sep=\",\",decimal='.')\n",
    "\n",
    "    df_roberta_f = pd.read_csv(glob.glob(\"./RoBERTa/Pivot_tables/pivot_\"+str(tag2)+\"*.csv\")[0], skiprows=[0,2],sep=\",\",decimal='.')\n",
    "    df_bert_f = pd.read_csv(glob.glob(\"./BERT/Pivot_tables/pivot_\"+str(tag2)+\"*BERTXgboost*.csv\")[0], skiprows=[0,2],sep=\",\",decimal='.')\n",
    "    df_bertweet_f = pd.read_csv(glob.glob(\"./BERTweet/Pivot_tables/pivot_\"+str(tag2)+\"*BERTweetXgboost*.csv\")[0], skiprows=[0,2],sep=\",\",decimal='.')\n",
    "    \n",
    "    df_context_context = pd.concat([df_roberta,df_bert.iloc[:,1],df_bertweet.iloc[:,1]],axis=1)\n",
    "    df_context_context_f = pd.concat([df_roberta_f,df_bert_f.iloc[:,1],df_bertweet_f.iloc[:,1]],axis=1)\n",
    "    df_context_context.columns=['Embedding','Bert','Roberta','Bertweet']\n",
    "    df_context_context_f.columns=['Embedding','Bert','Roberta','Bertweet']\n",
    "    \n",
    "    #df_context_context[\"Embedding\"] = df_context_context[\"Embedding\"].apply(deParaDatasetName)\n",
    "    #df_context_context_f[\"Embedding\"] = df_context_context_f[\"Embedding\"].apply(deParaDatasetName)\n",
    "    \n",
    "    df_context_context = df_context_context.reindex([15,20,17,4,21,18,13,14,16,19,1,11,7,12,0,2,8,9,10,3,6,5])\n",
    "    df_context_context_f = df_context_context_f.reindex([15,20,17,4,21,18,13,14,16,19,1,11,7,12,0,2,8,9,10,3,6,5])\n",
    "    \n",
    "    return df_context_context,df_context_context_f"
   ]
  },
  {
   "cell_type": "markdown",
   "metadata": {
    "colab_type": "text",
    "id": "Yn6jFTzKh60j"
   },
   "source": [
    "Reg_Logistica_accuracy, Reg_Logistica_f1_macro, \n",
    "SVM_accuracy,\n",
    "SVM_f1_macro,\n",
    "MLPClassifier_accuracy,\n",
    "MLPClassifier_f1_macro,\n",
    "Random_Forest_accuracy\n",
    "Random_Forest_f1_macro\n",
    "XGboost_accuracy\n",
    "XGboost_f1_macro"
   ]
  },
  {
   "cell_type": "code",
   "execution_count": 7,
   "metadata": {},
   "outputs": [],
   "source": [
    "import pandas as pd\n",
    "import glob\n",
    "tag1 = \"Reg_Logistica_accuracy\"\n",
    "tag2 = \"Reg_Logistica_f1_macro\"\n",
    "\n",
    "df_roberta = pd.read_csv(glob.glob(\"./RoBERTa/Pivot_tables/pivot_\"+str(tag1)+\"*RoBERTaXgboostLM*.csv\")[0], skiprows=[0,2],sep=\",\",decimal='.')\n",
    "df_bert = pd.read_csv(glob.glob(\"./BERT/Pivot_tables/pivot_\"+str(tag1)+\"*BERTXgboost*.csv\")[0], skiprows=[0,2],sep=\",\",decimal='.')\n",
    "df_bertweet = pd.read_csv(glob.glob(\"./BERTweet/Pivot_tables/pivot_\"+str(tag1)+\"*BERTweetXgboost*.csv\")[0], skiprows=[0,2],sep=\",\",decimal='.')\n",
    "\n",
    "df_roberta_f = pd.read_csv(glob.glob(\"./RoBERTa/Pivot_tables/pivot_\"+str(tag2)+\"*RoBERTaXgboostLM*.csv\")[0], skiprows=[0,2],sep=\",\",decimal='.')\n",
    "df_bert_f = pd.read_csv(glob.glob(\"./BERT/Pivot_tables/pivot_\"+str(tag2)+\"*BERTXgboost*.csv\")[0], skiprows=[0,2],sep=\",\",decimal='.')\n",
    "df_bertweet_f = pd.read_csv(glob.glob(\"./BERTweet/Pivot_tables/pivot_\"+str(tag2)+\"*BERTweetXgboost*.csv\")[0], skiprows=[0,2],sep=\",\",decimal='.')\n",
    "\n"
   ]
  },
  {
   "cell_type": "code",
   "execution_count": 8,
   "metadata": {
    "colab": {
     "base_uri": "https://localhost:8080/",
     "height": 765
    },
    "colab_type": "code",
    "executionInfo": {
     "elapsed": 2499,
     "status": "ok",
     "timestamp": 1594834954504,
     "user": {
      "displayName": "Ricardo Moura",
      "photoUrl": "https://lh3.googleusercontent.com/a-/AOh14Gh4BPVXR6IythXBJgaEEl5JosseAHCEwlRIxpBjww=s64",
      "userId": "10784804889662280666"
     },
     "user_tz": 180
    },
    "id": "hmYNA47jQvp5",
    "outputId": "d9a0a76c-017f-4404-ca9c-4747c1d4a6f8"
   },
   "outputs": [],
   "source": [
    "df_context_context = pd.concat([df_roberta,df_bert.iloc[:,1],df_bertweet.iloc[:,1]],axis=1)\n",
    "df_context_context_f = pd.concat([df_roberta_f,df_bert_f.iloc[:,1],df_bertweet_f.iloc[:,1]],axis=1)\n",
    "df_context_context.columns=['Embedding','Bert','Roberta','Bertweet']\n",
    "df_context_context_f.columns=['Embedding','Bert','Roberta','Bertweet']"
   ]
  },
  {
   "cell_type": "code",
   "execution_count": 9,
   "metadata": {
    "colab": {},
    "colab_type": "code",
    "executionInfo": {
     "elapsed": 2473,
     "status": "ok",
     "timestamp": 1594834954506,
     "user": {
      "displayName": "Ricardo Moura",
      "photoUrl": "https://lh3.googleusercontent.com/a-/AOh14Gh4BPVXR6IythXBJgaEEl5JosseAHCEwlRIxpBjww=s64",
      "userId": "10784804889662280666"
     },
     "user_tz": 180
    },
    "id": "05WFV64O2zJN"
   },
   "outputs": [],
   "source": [
    "df_context_context[\"Embedding\"] = df_context_context[\"Embedding\"].apply(deParaDatasetName)\n",
    "df_context_context_f[\"Embedding\"] = df_context_context_f[\"Embedding\"].apply(deParaDatasetName)"
   ]
  },
  {
   "cell_type": "code",
   "execution_count": 10,
   "metadata": {
    "colab": {},
    "colab_type": "code",
    "executionInfo": {
     "elapsed": 2459,
     "status": "ok",
     "timestamp": 1594834954506,
     "user": {
      "displayName": "Ricardo Moura",
      "photoUrl": "https://lh3.googleusercontent.com/a-/AOh14Gh4BPVXR6IythXBJgaEEl5JosseAHCEwlRIxpBjww=s64",
      "userId": "10784804889662280666"
     },
     "user_tz": 180
    },
    "id": "fHdLHveLMxPn"
   },
   "outputs": [],
   "source": [
    "df_context_context = df_context_context.reindex([15,20,17,4,21,18,13,14,16,19,1,11,7,12,0,2,8,9,10,3,6,5])\n",
    "df_context_context_f = df_context_context_f.reindex([15,20,17,4,21,18,13,14,16,19,1,11,7,12,0,2,8,9,10,3,6,5])"
   ]
  },
  {
   "cell_type": "code",
   "execution_count": 11,
   "metadata": {},
   "outputs": [],
   "source": [
    "final_result = get_result_resume(df_context_context,models)\n",
    "final_result_f = get_result_resume(df_context_context_f,models)"
   ]
  },
  {
   "cell_type": "code",
   "execution_count": 12,
   "metadata": {},
   "outputs": [
    {
     "name": "stdout",
     "output_type": "stream",
     "text": [
      "iro&65.95&\\textbf{80.48}&72.14&57.55&\\textbf{73.08}&65.1\\\\\n",
      "sar&70.18&\\textbf{71.79}&69.11&68.52&\\textbf{70.79}&67.41\\\\\n",
      "ntu&85.99&87.75&\\textbf{91.03}&85.71&87.41&\\textbf{90.8}\\\\\n",
      "S15&86.93&90.66&\\textbf{92.23}&69.44&78.66&\\textbf{83.33}\\\\\n",
      "stm&\\textbf{90.79}&85.8&88.31&\\textbf{90.75}&85.74&88.29\\\\\n",
      "per&86.34&84.97&\\textbf{87.69}&83.6&82.27&\\textbf{85.29}\\\\\n",
      "hob&\\textbf{87.93}&86.01&87.16&\\textbf{86.29}&84.27&85.4\\\\\n",
      "iph&85.53&83.09&\\textbf{86.09}&82.94&79.65&\\textbf{83.63}\\\\\n",
      "mov&88.93&87.7&\\textbf{88.95}&81.2&78.63&\\textbf{82.12}\\\\\n",
      "san&89.05&87.01&\\textbf{91.01}&88.95&86.93&\\textbf{90.95}\\\\\n",
      "Nar&91.11&91.04&\\textbf{95.11}&90.73&90.67&\\textbf{94.95}\\\\\n",
      "arc&89.0&88.59&\\textbf{90.57}&88.75&88.32&\\textbf{90.36}\\\\\n",
      "S18&87.04&83.76&\\textbf{88.54}&86.96&83.65&\\textbf{88.47}\\\\\n",
      "OMD&84.37&84.15&\\textbf{87.15}&83.34&83.09&\\textbf{86.26}\\\\\n",
      "HCR&80.45&79.24&\\textbf{80.5}&76.42&74.75&\\textbf{76.77}\\\\\n",
      "STS&92.43&90.51&\\textbf{93.9}&91.23&88.92&\\textbf{92.98}\\\\\n",
      "SSt&84.67&83.66&\\textbf{86.46}&84.27&83.2&\\textbf{86.1}\\\\\n",
      "Tar&83.91&82.32&\\textbf{85.95}&83.9&82.32&\\textbf{85.95}\\\\\n",
      "Vad&89.97&89.3&\\textbf{90.8}&88.43&87.59&\\textbf{89.38}\\\\\n",
      "S13&87.89&86.78&\\textbf{89.61}&85.15&83.7&\\textbf{87.37}\\\\\n",
      "S17&90.88&90.18&\\textbf{92.31}&90.32&89.57&\\textbf{91.8}\\\\\n",
      "S16&89.39&88.63&\\textbf{91.03}&87.08&86.06&\\textbf{89.05}\\\\\n",
      "\\noalign{\\smallskip}\\hline\n",
      "\\#wins &2& 2& 18& 2& 2&18\\\\\n",
      "rank sums &45.0&60.0&27.0&45.0&60.0&27.0\\\\\n",
      "position &2.0&3.0&1.0&2.0&3.0&1.0\\\\\n"
     ]
    }
   ],
   "source": [
    "for ind in df_context_context.index:\n",
    "  print(df_context_context[\"Embedding\"][ind]+\n",
    "        \"&\"+ str(printWinnerTableFormat(df_context_context,df_context_context[\"Bert\"][ind],\"Bert\", df_context_context[\"Embedding\"][ind]))+\n",
    "        '&'+str(printWinnerTableFormat(df_context_context,df_context_context[\"Roberta\"][ind],\"Roberta\", df_context_context[\"Embedding\"][ind]))+\n",
    "        '&'+str(printWinnerTableFormat(df_context_context,df_context_context[\"Bertweet\"][ind],\"Bertweet\", df_context_context[\"Embedding\"][ind]))+\n",
    "        '&'+str(printWinnerTableFormat(df_context_context_f,df_context_context_f[\"Bert\"][ind],\"Bert\", df_context_context_f[\"Embedding\"][ind]))+\n",
    "        '&'+str(printWinnerTableFormat(df_context_context_f,df_context_context_f[\"Roberta\"][ind],\"Roberta\", df_context_context_f[\"Embedding\"][ind]))+\n",
    "        '&'+str(printWinnerTableFormat(df_context_context_f,df_context_context_f[\"Bertweet\"][ind],\"Bertweet\", df_context_context_f[\"Embedding\"][ind]))+'\\\\\\\\')\n",
    "print(\"\\\\noalign{\\\\smallskip}\\\\hline\")\n",
    "print(\"\\\\#wins &\"+str(final_result['wins'][\"Bert\"])+\"& \"+ \n",
    "      str(final_result['wins'][\"Roberta\"])+\"& \"+\n",
    "      str(final_result['wins'][\"Bertweet\"])+\"& \"+\n",
    "      str(final_result_f['wins'][\"Bert\"])+\"& \"+\n",
    "      str(final_result_f['wins'][\"Roberta\"])+\"&\"+ \n",
    "      str(final_result_f['wins'][\"Bertweet\"])+\"\\\\\\\\\")\n",
    "print(\"rank sums &\"+str(final_result['ranksum'][\"Bert\"])+\"&\"+\n",
    "      str(final_result['ranksum'][\"Roberta\"])+\"&\"+\n",
    "      str(final_result['ranksum'][\"Bertweet\"])+\"&\"+\n",
    "      str(final_result_f['ranksum'][\"Bert\"])+ \"&\"+ \n",
    "      str(final_result_f['ranksum'][\"Roberta\"])+ \"&\"+ \n",
    "      str(final_result_f['ranksum'][\"Bertweet\"])+\"\\\\\\\\\")\n",
    "print(\"position &\"+str(final_result['position']['Bert'])+\"&\"+ \n",
    "      str(final_result['position']['Roberta']) +\"&\"+ \n",
    "      str(final_result['position']['Bertweet']) +\"&\"+ \n",
    "      str(final_result_f['position']['Bert']) +\"&\"+ \n",
    "      str(final_result_f['position']['Roberta'])+\"&\"+ \n",
    "      str(final_result_f['position']['Bertweet'])+\"\\\\\\\\\")"
   ]
  },
  {
   "cell_type": "code",
   "execution_count": 13,
   "metadata": {},
   "outputs": [
    {
     "name": "stdout",
     "output_type": "stream",
     "text": [
      "Bert&2/45.0/2.0&0/65.0/3.0&3/47.0/2.0&4/46.5/2.0&3/43.5/2.0&12/247.0/11.0\\\\\n",
      "\\rule{0pt}{3.8ex}\n",
      "Roberta&2/60.0/3.0&3/42.0/2.0&2/57.0/3.0&5/52.5/3.0&0/63.0/3.0&12/274.5/14.0\\\\\n",
      "\\rule{0pt}{3.8ex}\n",
      "Bertweet&18/27.0/1.0&19/25.0/1.0&17/28.0/1.0&15/33.0/1.0&20/25.5/1.0&89/138.5/5.0\\\\\n",
      "\\rule{0pt}{3.8ex}\n"
     ]
    }
   ],
   "source": [
    "indexes=models\n",
    "\n",
    "count_model=0\n",
    "print_dataset=pd.DataFrame()\n",
    "sum_win=pd.Series(0,index=indexes)\n",
    "sum_rank=pd.Series(0,index=indexes)\n",
    "sum_pos=pd.Series(0,index=indexes)\n",
    "for clasf in ['Reg_Logistica_accuracy','SVM_accuracy','MLPClassifier_accuracy',\n",
    "              'Random_Forest_accuracy','XGboost_accuracy']:\n",
    "    df,_ = mont_dataset(clasf,clasf)\n",
    "    final_result = get_result_resume(df,models)\n",
    "    sum_win=sum_win+final_result['wins'].values\n",
    "    sum_rank=sum_rank+final_result['ranksum']\n",
    "    sum_pos=sum_pos+final_result['position']\n",
    "    print_dataset = pd.concat([print_dataset, pd.DataFrame(final_result['wins'].map(str)+\"/\"+final_result['ranksum'].map(str)+\"/\"+final_result['position'].map(str))],axis=1)\n",
    "\n",
    "print_dataset['total'] = pd.DataFrame(sum_win.map(str)+\"/\"+sum_rank.map(str)+\"/\"+sum_pos.map(str))\n",
    "print_dataset = print_dataset.reset_index() \n",
    "#print_dataset=print_dataset.reindex([10,6,4,2,5,8,9,1,11,12,3,0,7,13])\n",
    "#print_dataset['index'] = print_dataset['index'].apply(deParaEmbtName) \n",
    "print_dataset.columns = ['index','RL','SVM','MLP',\"RF\",\"Xgb\",\"Total\"]\n",
    "\n",
    "for ind, row in print_dataset.iterrows():\n",
    "    print(str(row['index'])+\"&\"+str(row['RL'])+\"&\"+str(row['SVM'])+\"&\"+str(row['MLP'])+\"&\"+str(row['RF'])+\"&\"+str(row['Xgb'])+\"&\"+str(row['Total'])+\"\\\\\\\\\")\n",
    "    print(\"\\\\rule{0pt}{3.8ex}\")\n",
    "    "
   ]
  },
  {
   "cell_type": "code",
   "execution_count": 14,
   "metadata": {},
   "outputs": [
    {
     "name": "stdout",
     "output_type": "stream",
     "text": [
      "Bert&2/45.0/2.0&0/65.0/3.0&3/47.0/2.0&3/48.0/2.0&3/44.0/2.0&11/249.0/11.0\\\\\n",
      "\\rule{0pt}{3.8ex}\n",
      "Roberta&2/60.0/3.0&3/42.0/2.0&2/57.0/3.0&5/52.5/3.0&0/61.0/3.0&12/272.5/14.0\\\\\n",
      "\\rule{0pt}{3.8ex}\n",
      "Bertweet&18/27.0/1.0&19/25.0/1.0&17/28.0/1.0&15/31.5/1.0&19/27.0/1.0&88/138.5/5.0\\\\\n",
      "\\rule{0pt}{3.8ex}\n"
     ]
    }
   ],
   "source": [
    "indexes=models\n",
    "\n",
    "count_model=0\n",
    "print_dataset=pd.DataFrame()\n",
    "sum_win=pd.Series(0,index=indexes)\n",
    "sum_rank=pd.Series(0,index=indexes)\n",
    "sum_pos=pd.Series(0,index=indexes)\n",
    "for clasf in ['Reg_Logistica_f1_macro','SVM_f1_macro','MLPClassifier_f1_macro',\n",
    "              'Random_Forest_f1_macro','XGboost_f1_macro']:\n",
    "    df,_ = mont_dataset(clasf,clasf)\n",
    "    final_result = get_result_resume(df,models)\n",
    "    sum_win=sum_win+final_result['wins'].values\n",
    "    sum_rank=sum_rank+final_result['ranksum']\n",
    "    sum_pos=sum_pos+final_result['position']\n",
    "    print_dataset = pd.concat([print_dataset, pd.DataFrame(final_result['wins'].map(str)+\"/\"+final_result['ranksum'].map(str)+\"/\"+final_result['position'].map(str))],axis=1)\n",
    "\n",
    "print_dataset['total'] = pd.DataFrame(sum_win.map(str)+\"/\"+sum_rank.map(str)+\"/\"+sum_pos.map(str))\n",
    "print_dataset = print_dataset.reset_index() \n",
    "#print_dataset=print_dataset.reindex([10,6,4,2,5,8,9,1,11,12,3,0,7,13])\n",
    "#print_dataset['index'] = print_dataset['index'].apply(deParaEmbtName) \n",
    "print_dataset.columns = ['index','RL','SVM','MLP',\"RF\",\"Xgb\",\"Total\"]\n",
    "\n",
    "for ind, row in print_dataset.iterrows():\n",
    "    print(str(row['index'])+\"&\"+str(row['RL'])+\"&\"+str(row['SVM'])+\"&\"+str(row['MLP'])+\"&\"+str(row['RF'])+\"&\"+str(row['Xgb'])+\"&\"+str(row['Total'])+\"\\\\\\\\\")\n",
    "    print(\"\\\\rule{0pt}{3.8ex}\")\n",
    "    "
   ]
  },
  {
   "cell_type": "code",
   "execution_count": null,
   "metadata": {},
   "outputs": [],
   "source": []
  }
 ],
 "metadata": {
  "colab": {
   "authorship_tag": "ABX9TyNqsV7rqiEzux7q7tMSk4GZ",
   "collapsed_sections": [],
   "mount_file_id": "18YqNJ9EiloCFcgw03FIBpEvdUpPY5fCt",
   "name": "organize_result_context_ALL.ipynb",
   "provenance": []
  },
  "kernelspec": {
   "display_name": "Python 3",
   "language": "python",
   "name": "python3"
  },
  "language_info": {
   "codemirror_mode": {
    "name": "ipython",
    "version": 3
   },
   "file_extension": ".py",
   "mimetype": "text/x-python",
   "name": "python",
   "nbconvert_exporter": "python",
   "pygments_lexer": "ipython3",
   "version": "3.7.7"
  }
 },
 "nbformat": 4,
 "nbformat_minor": 1
}
