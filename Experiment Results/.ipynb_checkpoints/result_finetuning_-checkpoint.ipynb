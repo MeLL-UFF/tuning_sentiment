{
 "cells": [
  {
   "cell_type": "code",
   "execution_count": 1,
   "metadata": {
    "colab": {},
    "colab_type": "code",
    "executionInfo": {
     "elapsed": 1503,
     "status": "ok",
     "timestamp": 1594834953413,
     "user": {
      "displayName": "Ricardo Moura",
      "photoUrl": "https://lh3.googleusercontent.com/a-/AOh14Gh4BPVXR6IythXBJgaEEl5JosseAHCEwlRIxpBjww=s64",
      "userId": "10784804889662280666"
     },
     "user_tz": 180
    },
    "id": "XAW3uCp27ptx"
   },
   "outputs": [],
   "source": [
    "dict = {\n",
    "    \"fileNames\" : [\n",
    "                   \"irony\",\n",
    "                   \"sarcasm\",\n",
    "                   \"aisopos\",\n",
    "                   \"SemEval-Fig\",\n",
    "                   \"sentiment140\",\n",
    "                   \"person\",\n",
    "                   \"hobbit\",\n",
    "                   \"iphone6\",\n",
    "                   \"movie\",\n",
    "                   \"sanders\",\n",
    "                   \"Narr\",\n",
    "                   \"archeage\",\n",
    "                   \"SemEval18\",\n",
    "                   \"OMD\",\n",
    "                   \"HCR\",\n",
    "                   \"STS-gold\",\n",
    "                   \"SentiStrength\",\n",
    "                   \"Target-dependent\",\n",
    "                   \"Vader\",\n",
    "                   \"SemEval13\",\n",
    "                   \"SemEval17\",\n",
    "                   \"SemEval16\"\n",
    "                  ]\n",
    "}"
   ]
  },
  {
   "cell_type": "code",
   "execution_count": 2,
   "metadata": {
    "colab": {},
    "colab_type": "code",
    "executionInfo": {
     "elapsed": 1484,
     "status": "ok",
     "timestamp": 1594834953413,
     "user": {
      "displayName": "Ricardo Moura",
      "photoUrl": "https://lh3.googleusercontent.com/a-/AOh14Gh4BPVXR6IythXBJgaEEl5JosseAHCEwlRIxpBjww=s64",
      "userId": "10784804889662280666"
     },
     "user_tz": 180
    },
    "id": "UsamTZP99FUW"
   },
   "outputs": [],
   "source": [
    "def deParaDatasetName(textDe):\n",
    "  if textDe == 'ntua':\n",
    "    return 'ntu'\n",
    "  elif textDe == 'SemEval15-Task11':\n",
    "    return 'S15'\n",
    "  elif textDe == 'iphone':\n",
    "    return 'iph'\n",
    "  elif textDe == 'Narr-KDML-2012':\n",
    "    return 'Nar'\n",
    "  elif textDe == 'VADER':\n",
    "    return 'Vad'\n",
    "  elif textDe == 'SemEval17-test':\n",
    "    return 'S17'\n",
    "  elif textDe == 'debate08':\n",
    "    return 'OMD'\n",
    "  elif textDe == 'irony':\n",
    "    return 'iro'\n",
    "  elif textDe == 'sarcasm':\n",
    "    return 'sar'\n",
    "  elif textDe == 'sentiment140':\n",
    "    return 'stm'\n",
    "  elif textDe == 'person':\n",
    "    return 'per'\n",
    "  elif textDe == 'hobbit':\n",
    "    return 'hob'\n",
    "  elif textDe == 'movie':\n",
    "    return 'mov'\n",
    "  elif textDe == 'sanders':\n",
    "    return 'san'\n",
    "  elif textDe == 'archeage':\n",
    "    return 'arc'\n",
    "  elif textDe == 'SemEval18':\n",
    "    return 'S18'\n",
    "  elif textDe == 'STS-gold':\n",
    "    return 'STS'\n",
    "  elif textDe == 'SentiStrength':\n",
    "    return 'SSt'\n",
    "  elif textDe == 'Target-dependent':\n",
    "    return 'Tar'\n",
    "  elif textDe == 'SemEval13':\n",
    "    return 'S13'\n",
    "  elif textDe == 'SemEval16':\n",
    "    return 'S16'\n",
    "  else:\n",
    "    return textDe"
   ]
  },
  {
   "cell_type": "code",
   "execution_count": 3,
   "metadata": {},
   "outputs": [],
   "source": [
    "models=['AllData','LOO','InData']\n",
    "def get_result_resume(df,models):\n",
    "    df_t = df.copy()\n",
    "    df_t.index=df_t['Embedding']\n",
    "    del df_t['Embedding']\n",
    "    df_t = df_t.T\n",
    "    df_rank = pd.DataFrame()\n",
    "    for dts in df['Embedding']:\n",
    "        df_rank = pd.concat([df_rank,pd.DataFrame(df_t[dts].rank(ascending=False)).T],axis=0)\n",
    "\n",
    "    dict_emb_sum = pd.DataFrame(df_rank.sum(),columns=['ranksum'])\n",
    "    dict_emb_sum = dict_emb_sum.reindex(models)\n",
    "\n",
    "    dict_emb_ranksum = dict_emb_sum.rank(ascending=True)\n",
    "    dict_emb_ranksum.columns=['position']\n",
    "    dict_emb_ranksum = dict_emb_ranksum.reindex(models)\n",
    "\n",
    "    sum_wins=[]\n",
    "    for col in df_rank.columns:\n",
    "        sum_wins.append(len(df_rank[df_rank[col]<=1.5][col]))\n",
    "\n",
    "    sum_wins = pd.DataFrame(sum_wins,index=df_rank.columns,columns=['wins'])\n",
    "    sum_wins = sum_wins.reindex(models)\n",
    "\n",
    "    final_result = pd.concat([sum_wins,dict_emb_sum,dict_emb_ranksum],axis=1)\n",
    "    return final_result"
   ]
  },
  {
   "cell_type": "code",
   "execution_count": 4,
   "metadata": {},
   "outputs": [],
   "source": [
    "def isTheWinner(df,model,dataset):\n",
    "    df_t = df.copy()\n",
    "    df_t.index=df_t['Embedding']\n",
    "    del df_t['Embedding']\n",
    "    df_t = df_t.T\n",
    "    if df_t[dataset].rank(ascending=False)[model]==1:\n",
    "        return True\n",
    "    else:\n",
    "        return False"
   ]
  },
  {
   "cell_type": "code",
   "execution_count": 5,
   "metadata": {},
   "outputs": [],
   "source": [
    "def printWinnerTableFormat(df,embVal,emb, dsname):\n",
    "  if isTheWinner(df,emb, dsname)==True:\n",
    "    return '\\\\textbf{'+str(embVal)+'}'\n",
    "  return embVal"
   ]
  },
  {
   "cell_type": "code",
   "execution_count": 6,
   "metadata": {},
   "outputs": [],
   "source": [
    "def mont_dataset(tag1,tag2,file_path):\n",
    "    df_22 = pd.read_csv(glob.glob(\"./22Dt/\"+str(file_path)+\"/pivot_\"+str(tag1)+\"*.csv\")[0],sep=\",\",decimal='.')\n",
    "    df_f_22 = pd.read_csv(glob.glob(\"./22Dt/\"+str(file_path)+\"/pivot_\"+str(tag2)+\"*.csv\")[0],sep=\",\",decimal='.')\n",
    "    \n",
    "    df_loo = pd.read_csv(glob.glob(\"./LOO/\"+str(file_path)+\"/pivot_\"+str(tag1)+\"*.csv\")[0],sep=\",\",decimal='.')\n",
    "    df_f_loo = pd.read_csv(glob.glob(\"./LOO/\"+str(file_path)+\"/pivot_\"+str(tag2)+\"*.csv\")[0],sep=\",\",decimal='.')\n",
    "    \n",
    "    df_indata = pd.read_csv(glob.glob(\"./InData/\"+str(file_path)+\"/pivot_\"+str(tag1)+\"*.csv\")[0],sep=\",\",decimal='.')\n",
    "    df_f_indata = pd.read_csv(glob.glob(\"./InData/\"+str(file_path)+\"/pivot_\"+str(tag2)+\"*.csv\")[0],sep=\",\",decimal='.')\n",
    "    \n",
    "    df_context_context = pd.concat([df_22,round(df_loo.iloc[:,1],2),round(df_indata.iloc[:,1]*100,2)],axis=1)\n",
    "    df_context_context_f = pd.concat([df_f_22,round(df_f_loo.iloc[:,1],2),round(df_f_indata.iloc[:,1]*100,2)],axis=1)\n",
    "    \n",
    "    df_context_context.columns=['Embedding','AllData','LOO','InData']\n",
    "    df_context_context_f.columns=['Embedding','AllData','LOO','InData']\n",
    "    df_context_context['AllData']=round(df_context_context['AllData']*100,2)\n",
    "    df_context_context_f['AllData']=round(df_context_context_f['AllData']*100,2)\n",
    "    #df_context_context[\"Embedding\"] = df_context_context[\"Embedding\"].apply(deParaDatasetName)\n",
    "    #df_context_context_f[\"Embedding\"] = df_context_context_f[\"Embedding\"].apply(deParaDatasetName)\n",
    "    \n",
    "    df_context_context = df_context_context.reindex([15,20,17,4,21,18,13,14,16,19,1,11,7,12,0,2,8,9,10,3,6,5])\n",
    "    df_context_context_f = df_context_context_f.reindex([15,20,17,4,21,18,13,14,16,19,1,11,7,12,0,2,8,9,10,3,6,5])\n",
    "    \n",
    "    return df_context_context,df_context_context_f"
   ]
  },
  {
   "cell_type": "markdown",
   "metadata": {
    "colab_type": "text",
    "id": "Yn6jFTzKh60j"
   },
   "source": [
    "Reg_Logistica_accuracy, Reg_Logistica_f1_macro, \n",
    "SVM_accuracy,\n",
    "SVM_f1_macro,\n",
    "MLPClassifier_accuracy,\n",
    "MLPClassifier_f1_macro,\n",
    "Random_Forest_accuracy\n",
    "Random_Forest_f1_macro\n",
    "XGboost_accuracy\n",
    "XGboost_f1_macro"
   ]
  },
  {
   "cell_type": "code",
   "execution_count": 7,
   "metadata": {},
   "outputs": [],
   "source": [
    "import pandas as pd\n",
    "import glob\n",
    "tag1 = \"SVM_accuracy\"\n",
    "tag2 = \"SVM_f1_macro\"\n",
    "\n",
    "df_roberta_22 = pd.read_csv(glob.glob(\"./22Dt/RoBERTa-LM/pivot_\"+str(tag1)+\"*.csv\")[0],sep=\",\",decimal='.')\n",
    "df_bert_22 = pd.read_csv(glob.glob(\"./22Dt/BERT-LM/pivot_\"+str(tag1)+\"*.csv\")[0],sep=\",\",decimal='.')\n",
    "df_bertweet_22 = pd.read_csv(glob.glob(\"./22Dt/BERTweet-LM/pivot_\"+str(tag1)+\"*.csv\")[0],sep=\",\",decimal='.')\n",
    "\n",
    "df_roberta_f_22 = pd.read_csv(glob.glob(\"./22Dt/RoBERTa-LM/pivot_\"+str(tag2)+\"*.csv\")[0],sep=\",\",decimal='.')\n",
    "df_bert_f_22 = pd.read_csv(glob.glob(\"./22Dt/BERT-LM/pivot_\"+str(tag2)+\"*.csv\")[0],sep=\",\",decimal='.')\n",
    "df_bertweet_f_22 = pd.read_csv(glob.glob(\"./22Dt/BERTweet-LM/pivot_\"+str(tag2)+\"*.csv\")[0],sep=\",\",decimal='.')\n",
    "\n",
    "df_roberta_loo = pd.read_csv(glob.glob(\"./LOO/RoBERTa-LM*/pivot_\"+str(tag1)+\"*.csv\")[0],sep=\",\",decimal='.')\n",
    "df_bert_loo = pd.read_csv(glob.glob(\"./LOO/BERT-LM/pivot_\"+str(tag1)+\"*.csv\")[0],sep=\",\",decimal='.')\n",
    "df_bertweet_loo = pd.read_csv(glob.glob(\"./LOO/BERTweet-LM/pivot_\"+str(tag1)+\"*.csv\")[0],sep=\",\",decimal='.')\n",
    "\n",
    "df_roberta_f_loo = pd.read_csv(glob.glob(\"./LOO/RoBERTa-LM/pivot_\"+str(tag2)+\"*.csv\")[0],sep=\",\",decimal='.')\n",
    "df_bert_f_loo = pd.read_csv(glob.glob(\"./LOO/BERT-LM/pivot_\"+str(tag2)+\"*.csv\")[0],sep=\",\",decimal='.')\n",
    "df_bertweet_f_loo = pd.read_csv(glob.glob(\"./LOO/BERTweet-LM/pivot_\"+str(tag2)+\"*.csv\")[0],sep=\",\",decimal='.')\n",
    "\n",
    "df_roberta_indata = pd.read_csv(glob.glob(\"./InData/RoBERTa-LM/pivot_\"+str(tag1)+\"*.csv\")[0],sep=\",\",decimal='.')\n",
    "df_bert_indata = pd.read_csv(glob.glob(\"./InData/BERT-LM/pivot_\"+str(tag1)+\"*.csv\")[0],sep=\",\",decimal='.')\n",
    "df_bertweet_indata = pd.read_csv(glob.glob(\"./InData/BERTweet-LM/pivot_\"+str(tag1)+\"*.csv\")[0],sep=\",\",decimal='.')\n",
    "\n",
    "df_roberta_f_indata = pd.read_csv(glob.glob(\"./InData/RoBERTa-LM/pivot_\"+str(tag2)+\"*.csv\")[0],sep=\",\",decimal='.')\n",
    "df_bert_f_indata = pd.read_csv(glob.glob(\"./InData/BERT-LM/pivot_\"+str(tag2)+\"*.csv\")[0],sep=\",\",decimal='.')\n",
    "df_bertweet_f_indata = pd.read_csv(glob.glob(\"./InData/BERTweet-LM/pivot_\"+str(tag2)+\"*.csv\")[0],sep=\",\",decimal='.')\n",
    "    \n"
   ]
  },
  {
   "cell_type": "code",
   "execution_count": 8,
   "metadata": {
    "colab": {
     "base_uri": "https://localhost:8080/",
     "height": 765
    },
    "colab_type": "code",
    "executionInfo": {
     "elapsed": 2499,
     "status": "ok",
     "timestamp": 1594834954504,
     "user": {
      "displayName": "Ricardo Moura",
      "photoUrl": "https://lh3.googleusercontent.com/a-/AOh14Gh4BPVXR6IythXBJgaEEl5JosseAHCEwlRIxpBjww=s64",
      "userId": "10784804889662280666"
     },
     "user_tz": 180
    },
    "id": "hmYNA47jQvp5",
    "outputId": "d9a0a76c-017f-4404-ca9c-4747c1d4a6f8"
   },
   "outputs": [],
   "source": [
    "#df_context_context = pd.concat([df_bertweet_22,round(df_bertweet_loo.iloc[:,1],2),round(df_bertweet_indata.iloc[:,1]*100,2)],axis=1)\n",
    "#df_context_context_f = pd.concat([df_bertweet_f_22,round(df_bertweet_f_loo.iloc[:,1],2),round(df_bertweet_f_indata.iloc[:,1]*100,2)],axis=1)\n",
    "\n",
    "#df_context_context = pd.concat([df_bert_22,round(df_bert_loo.iloc[:,1],2),round(df_bert_indata.iloc[:,1]*100,2)],axis=1)\n",
    "#df_context_context_f = pd.concat([df_bert_f_22,round(df_bert_f_loo.iloc[:,1],2),round(df_bert_f_indata.iloc[:,1]*100,2)],axis=1)\n",
    "\n",
    "df_context_context = pd.concat([df_roberta_22,round(df_roberta_loo.iloc[:,1],2),round(df_roberta_indata.iloc[:,1]*100,2)],axis=1)\n",
    "df_context_context_f = pd.concat([df_roberta_f_22,round(df_roberta_f_loo.iloc[:,1],2),round(df_roberta_f_indata.iloc[:,1]*100,2)],axis=1)\n",
    "\n",
    "df_context_context.columns=['Embedding','AllData','LOO','InData']\n",
    "df_context_context_f.columns=['Embedding','AllData','LOO','InData']\n",
    "df_context_context['AllData']=round(df_context_context['AllData']*100,2)\n",
    "df_context_context_f['AllData']=round(df_context_context_f['AllData']*100,2)\n"
   ]
  },
  {
   "cell_type": "code",
   "execution_count": 9,
   "metadata": {
    "colab": {},
    "colab_type": "code",
    "executionInfo": {
     "elapsed": 2473,
     "status": "ok",
     "timestamp": 1594834954506,
     "user": {
      "displayName": "Ricardo Moura",
      "photoUrl": "https://lh3.googleusercontent.com/a-/AOh14Gh4BPVXR6IythXBJgaEEl5JosseAHCEwlRIxpBjww=s64",
      "userId": "10784804889662280666"
     },
     "user_tz": 180
    },
    "id": "05WFV64O2zJN"
   },
   "outputs": [],
   "source": [
    "df_context_context[\"Embedding\"] = df_context_context[\"Embedding\"].apply(deParaDatasetName)\n",
    "df_context_context_f[\"Embedding\"] = df_context_context_f[\"Embedding\"].apply(deParaDatasetName)"
   ]
  },
  {
   "cell_type": "code",
   "execution_count": 10,
   "metadata": {
    "colab": {},
    "colab_type": "code",
    "executionInfo": {
     "elapsed": 2459,
     "status": "ok",
     "timestamp": 1594834954506,
     "user": {
      "displayName": "Ricardo Moura",
      "photoUrl": "https://lh3.googleusercontent.com/a-/AOh14Gh4BPVXR6IythXBJgaEEl5JosseAHCEwlRIxpBjww=s64",
      "userId": "10784804889662280666"
     },
     "user_tz": 180
    },
    "id": "fHdLHveLMxPn"
   },
   "outputs": [],
   "source": [
    "df_context_context = df_context_context.reindex([15,20,17,4,21,18,13,14,16,19,1,11,7,12,0,2,8,9,10,3,6,5])\n",
    "df_context_context_f = df_context_context_f.reindex([15,20,17,4,21,18,13,14,16,19,1,11,7,12,0,2,8,9,10,3,6,5])"
   ]
  },
  {
   "cell_type": "code",
   "execution_count": 11,
   "metadata": {},
   "outputs": [],
   "source": [
    "final_result = get_result_resume(df_context_context,models)\n",
    "final_result_f = get_result_resume(df_context_context_f,models)"
   ]
  },
  {
   "cell_type": "code",
   "execution_count": 12,
   "metadata": {},
   "outputs": [
    {
     "name": "stdout",
     "output_type": "stream",
     "text": [
      "iro&46.7&46.67&46.7&31.0&31.0&31.0\\\\\n",
      "sar&64.0&\\textbf{65.0}&64.0&52.9&53.49&\\textbf{54.2}\\\\\n",
      "ntu&\\textbf{84.3}&83.48&81.2&\\textbf{83.9}&83.07&80.8\\\\\n",
      "S15&\\textbf{87.2}&86.31&86.2&\\textbf{74.9}&74.28&72.4\\\\\n",
      "stm&90.0&\\textbf{90.25}&87.6&89.9&\\textbf{90.21}&87.6\\\\\n",
      "per&\\textbf{71.1}&70.38&65.5&\\textbf{70.2}&69.17&64.9\\\\\n",
      "hob&72.8&\\textbf{73.94}&71.3&71.9&\\textbf{73.1}&70.5\\\\\n",
      "iph&\\textbf{79.9}&78.96&78.6&\\textbf{78.6}&77.72&77.2\\\\\n",
      "mov&\\textbf{81.5}&79.87&72.1&\\textbf{75.3}&74.01&66.5\\\\\n",
      "san&\\textbf{87.5}&87.17&85.5&\\textbf{87.4}&87.04&85.3\\\\\n",
      "Nar&\\textbf{93.1}&92.5&92.1&\\textbf{92.9}&92.35&91.9\\\\\n",
      "arc&89.4&\\textbf{89.47}&89.0&\\textbf{89.3}&89.27&88.7\\\\\n",
      "S18&88.4&\\textbf{88.54}&88.0&88.3&\\textbf{88.44}&87.8\\\\\n",
      "OMD&85.6&84.58&\\textbf{85.7}&84.5&83.6&\\textbf{84.7}\\\\\n",
      "HCR&76.9&76.04&\\textbf{78.1}&73.2&72.59&\\textbf{74.2}\\\\\n",
      "STS&\\textbf{92.6}&92.13&91.5&\\textbf{91.6}&90.97&90.3\\\\\n",
      "SSt&\\textbf{86.4}&85.63&85.9&\\textbf{86.1}&85.41&85.7\\\\\n",
      "Tar&85.9&85.87&\\textbf{86.3}&85.9&85.85&\\textbf{86.3}\\\\\n",
      "Vad&89.8&89.37&\\textbf{89.9}&88.6&88.1&88.6\\\\\n",
      "S13&\\textbf{86.6}&86.41&86.1&\\textbf{84.6}&84.41&83.9\\\\\n",
      "S17&\\textbf{92.0}&91.71&91.6&\\textbf{91.5}&91.21&91.1\\\\\n",
      "S16&89.5&\\textbf{89.71}&89.3&87.6&\\textbf{87.75}&87.4\\\\\n",
      "\\noalign{\\smallskip}\\hline\n",
      "\\#wins &12& 6& 5& 13& 4&5\\\\\n",
      "rank sums &33.0&44.0&55.0&32.5&45.0&54.5\\\\\n",
      "position &1.0&2.0&3.0&1.0&2.0&3.0\\\\\n"
     ]
    }
   ],
   "source": [
    "for ind in df_context_context.index:\n",
    "  print(df_context_context[\"Embedding\"][ind]+\n",
    "        \"&\"+ str(printWinnerTableFormat(df_context_context,df_context_context[\"AllData\"][ind],\"AllData\", df_context_context[\"Embedding\"][ind]))+\n",
    "        '&'+str(printWinnerTableFormat(df_context_context,df_context_context[\"LOO\"][ind],\"LOO\", df_context_context[\"Embedding\"][ind]))+\n",
    "        '&'+str(printWinnerTableFormat(df_context_context,df_context_context[\"InData\"][ind],\"InData\", df_context_context[\"Embedding\"][ind]))+\n",
    "        '&'+str(printWinnerTableFormat(df_context_context_f,df_context_context_f[\"AllData\"][ind],\"AllData\", df_context_context_f[\"Embedding\"][ind]))+\n",
    "        '&'+str(printWinnerTableFormat(df_context_context_f,df_context_context_f[\"LOO\"][ind],\"LOO\", df_context_context_f[\"Embedding\"][ind]))+\n",
    "        '&'+str(printWinnerTableFormat(df_context_context_f,df_context_context_f[\"InData\"][ind],\"InData\", df_context_context_f[\"Embedding\"][ind]))+'\\\\\\\\')\n",
    "print(\"\\\\noalign{\\\\smallskip}\\\\hline\")\n",
    "print(\"\\\\#wins &\"+str(final_result['wins'][\"AllData\"])+\"& \"+ \n",
    "      str(final_result['wins'][\"LOO\"])+\"& \"+\n",
    "      str(final_result['wins'][\"InData\"])+\"& \"+\n",
    "      str(final_result_f['wins'][\"AllData\"])+\"& \"+\n",
    "      str(final_result_f['wins'][\"LOO\"])+\"&\"+ \n",
    "      str(final_result_f['wins'][\"InData\"])+\"\\\\\\\\\")\n",
    "print(\"rank sums &\"+str(final_result['ranksum'][\"AllData\"])+\"&\"+\n",
    "      str(final_result['ranksum'][\"LOO\"])+\"&\"+\n",
    "      str(final_result['ranksum'][\"InData\"])+\"&\"+\n",
    "      str(final_result_f['ranksum'][\"AllData\"])+ \"&\"+ \n",
    "      str(final_result_f['ranksum'][\"LOO\"])+ \"&\"+ \n",
    "      str(final_result_f['ranksum'][\"InData\"])+\"\\\\\\\\\")\n",
    "print(\"position &\"+str(final_result['position']['AllData'])+\"&\"+ \n",
    "      str(final_result['position']['LOO']) +\"&\"+ \n",
    "      str(final_result['position']['InData']) +\"&\"+ \n",
    "      str(final_result_f['position']['AllData']) +\"&\"+ \n",
    "      str(final_result_f['position']['LOO'])+\"&\"+ \n",
    "      str(final_result_f['position']['InData'])+\"\\\\\\\\\")\n"
   ]
  },
  {
   "cell_type": "code",
   "execution_count": 13,
   "metadata": {},
   "outputs": [
    {
     "name": "stdout",
     "output_type": "stream",
     "text": [
      "AllData&13/32.0/1.0&12/33.0/1.0&11/35.0/1.0&11/34.0/1.0&12/35.0/1.0&59/169.0/5.0\\\\\n",
      "\\rule{0pt}{3.8ex}\n",
      "LOO&6/48.0/2.0&6/44.0/2.0&9/42.0/2.0&10/37.0/2.0&8/41.0/2.0&39/212.0/10.0\\\\\n",
      "\\rule{0pt}{3.8ex}\n",
      "InData&5/52.0/3.0&5/55.0/3.0&3/55.0/3.0&1/61.0/3.0&2/56.0/3.0&16/279.0/15.0\\\\\n",
      "\\rule{0pt}{3.8ex}\n"
     ]
    }
   ],
   "source": [
    "indexes=models\n",
    "\n",
    "count_model=0\n",
    "print_dataset=pd.DataFrame()\n",
    "sum_win=pd.Series(0,index=indexes)\n",
    "sum_rank=pd.Series(0,index=indexes)\n",
    "sum_pos=pd.Series(0,index=indexes)\n",
    "\n",
    "for clasf in ['Reg_Logistica_accuracy','SVM_accuracy','MLPClassifier_accuracy',\n",
    "              'Random_Forest_accuracy','XGboost_accuracy']:\n",
    "    df,_ = mont_dataset(clasf,clasf,'RoBERTa-LM')\n",
    "    final_result = get_result_resume(df,models)\n",
    "    sum_win=sum_win+final_result['wins'].values\n",
    "    sum_rank=sum_rank+final_result['ranksum']\n",
    "    sum_pos=sum_pos+final_result['position']\n",
    "    print_dataset = pd.concat([print_dataset, pd.DataFrame(final_result['wins'].map(str)+\"/\"+final_result['ranksum'].map(str)+\"/\"+final_result['position'].map(str))],axis=1)\n",
    "\n",
    "print_dataset['total'] = pd.DataFrame(sum_win.map(str)+\"/\"+sum_rank.map(str)+\"/\"+sum_pos.map(str))\n",
    "print_dataset = print_dataset.reset_index() \n",
    "#print_dataset=print_dataset.reindex([10,6,4,2,5,8,9,1,11,12,3,0,7,13])\n",
    "#print_dataset['index'] = print_dataset['index'].apply(deParaEmbtName) \n",
    "print_dataset.columns = ['index','RL','SVM','MLP',\"RF\",\"Xgb\",\"Total\"]\n",
    "\n",
    "for ind, row in print_dataset.iterrows():\n",
    "    print(str(row['index'])+\"&\"+str(row['RL'])+\"&\"+str(row['SVM'])+\"&\"+str(row['MLP'])+\"&\"+str(row['RF'])+\"&\"+str(row['Xgb'])+\"&\"+str(row['Total'])+\"\\\\\\\\\")\n",
    "    print(\"\\\\rule{0pt}{3.8ex}\")\n",
    "    "
   ]
  },
  {
   "cell_type": "code",
   "execution_count": 14,
   "metadata": {},
   "outputs": [
    {
     "name": "stdout",
     "output_type": "stream",
     "text": [
      "AllData&13/31.0/1.0&13/32.5/1.0&10/35.5/1.0&11/34.0/1.0&12/35.0/1.0&59/168.0/5.0\\\\\n",
      "\\rule{0pt}{3.8ex}\n",
      "LOO&5/49.0/2.0&4/45.0/2.0&10/42.0/2.0&10/36.0/2.0&8/40.0/2.0&37/212.0/10.0\\\\\n",
      "\\rule{0pt}{3.8ex}\n",
      "InData&4/52.0/3.0&5/54.5/3.0&3/54.5/3.0&1/62.0/3.0&2/57.0/3.0&15/280.0/15.0\\\\\n",
      "\\rule{0pt}{3.8ex}\n"
     ]
    }
   ],
   "source": [
    "indexes=models\n",
    "\n",
    "count_model=0\n",
    "print_dataset=pd.DataFrame()\n",
    "sum_win=pd.Series(0,index=indexes)\n",
    "sum_rank=pd.Series(0,index=indexes)\n",
    "sum_pos=pd.Series(0,index=indexes)\n",
    "for clasf in ['Reg_Logistica_f1_macro','SVM_f1_macro','MLPClassifier_f1_macro',\n",
    "              'Random_Forest_f1_macro','XGboost_f1_macro']:\n",
    "    df,_ = mont_dataset(clasf,clasf,'RoBERTa-LM')\n",
    "    final_result = get_result_resume(df,models)\n",
    "    sum_win=sum_win+final_result['wins'].values\n",
    "    sum_rank=sum_rank+final_result['ranksum']\n",
    "    sum_pos=sum_pos+final_result['position']\n",
    "    print_dataset = pd.concat([print_dataset, pd.DataFrame(final_result['wins'].map(str)+\"/\"+final_result['ranksum'].map(str)+\"/\"+final_result['position'].map(str))],axis=1)\n",
    "\n",
    "print_dataset['total'] = pd.DataFrame(sum_win.map(str)+\"/\"+sum_rank.map(str)+\"/\"+sum_pos.map(str))\n",
    "print_dataset = print_dataset.reset_index() \n",
    "#print_dataset=print_dataset.reindex([10,6,4,2,5,8,9,1,11,12,3,0,7,13])\n",
    "#print_dataset['index'] = print_dataset['index'].apply(deParaEmbtName) \n",
    "print_dataset.columns = ['index','RL','SVM','MLP',\"RF\",\"Xgb\",\"Total\"]\n",
    "\n",
    "for ind, row in print_dataset.iterrows():\n",
    "    print(str(row['index'])+\"&\"+str(row['RL'])+\"&\"+str(row['SVM'])+\"&\"+str(row['MLP'])+\"&\"+str(row['RF'])+\"&\"+str(row['Xgb'])+\"&\"+str(row['Total'])+\"\\\\\\\\\")\n",
    "    print(\"\\\\rule{0pt}{3.8ex}\")\n",
    "    "
   ]
  },
  {
   "cell_type": "code",
   "execution_count": null,
   "metadata": {},
   "outputs": [],
   "source": []
  },
  {
   "cell_type": "code",
   "execution_count": null,
   "metadata": {},
   "outputs": [],
   "source": []
  }
 ],
 "metadata": {
  "colab": {
   "authorship_tag": "ABX9TyNqsV7rqiEzux7q7tMSk4GZ",
   "collapsed_sections": [],
   "mount_file_id": "18YqNJ9EiloCFcgw03FIBpEvdUpPY5fCt",
   "name": "organize_result_context_ALL.ipynb",
   "provenance": []
  },
  "kernelspec": {
   "display_name": "Python 3",
   "language": "python",
   "name": "python3"
  },
  "language_info": {
   "codemirror_mode": {
    "name": "ipython",
    "version": 3
   },
   "file_extension": ".py",
   "mimetype": "text/x-python",
   "name": "python",
   "nbconvert_exporter": "python",
   "pygments_lexer": "ipython3",
   "version": "3.7.7"
  }
 },
 "nbformat": 4,
 "nbformat_minor": 1
}
