{
 "cells": [
  {
   "cell_type": "code",
   "execution_count": 67,
   "metadata": {
    "colab": {
     "base_uri": "https://localhost:8080/",
     "height": 54
    },
    "colab_type": "code",
    "executionInfo": {
     "elapsed": 1059,
     "status": "ok",
     "timestamp": 1595009918773,
     "user": {
      "displayName": "Ricardo Moura",
      "photoUrl": "https://lh3.googleusercontent.com/a-/AOh14Gh4BPVXR6IythXBJgaEEl5JosseAHCEwlRIxpBjww=s64",
      "userId": "10784804889662280666"
     },
     "user_tz": 180
    },
    "id": "9dywRoFT5UnK",
    "outputId": "368e4966-ad6f-4c72-971f-d93dd4e9001c"
   },
   "outputs": [],
   "source": [
    "import pandas as pd\n",
    "#from google.colab import drive\n",
    "#drive.mount('/gdrive')"
   ]
  },
  {
   "cell_type": "code",
   "execution_count": 68,
   "metadata": {
    "colab": {
     "base_uri": "https://localhost:8080/",
     "height": 34
    },
    "colab_type": "code",
    "executionInfo": {
     "elapsed": 1367,
     "status": "ok",
     "timestamp": 1595009919116,
     "user": {
      "displayName": "Ricardo Moura",
      "photoUrl": "https://lh3.googleusercontent.com/a-/AOh14Gh4BPVXR6IythXBJgaEEl5JosseAHCEwlRIxpBjww=s64",
      "userId": "10784804889662280666"
     },
     "user_tz": 180
    },
    "id": "Iiq-FUPF7SE2",
    "outputId": "a47f5e00-b017-47c1-dfe7-d198b161e864"
   },
   "outputs": [],
   "source": [
    "#%cd /gdrive/My Drive/Colab Notebooks/estudo-orientado/relatorio/expr_results"
   ]
  },
  {
   "cell_type": "code",
   "execution_count": 69,
   "metadata": {
    "colab": {},
    "colab_type": "code",
    "executionInfo": {
     "elapsed": 1316,
     "status": "ok",
     "timestamp": 1595009919117,
     "user": {
      "displayName": "Ricardo Moura",
      "photoUrl": "https://lh3.googleusercontent.com/a-/AOh14Gh4BPVXR6IythXBJgaEEl5JosseAHCEwlRIxpBjww=s64",
      "userId": "10784804889662280666"
     },
     "user_tz": 180
    },
    "id": "XAW3uCp27ptx"
   },
   "outputs": [],
   "source": [
    "dict = {\n",
    "    \"fileNames\" : [\n",
    "                   \"irony\",\n",
    "                   \"sarcasm\",\n",
    "                   \"aisopos\",\n",
    "                   \"SemEval-Fig\",\n",
    "                   \"sentiment140\",\n",
    "                   \"person\",\n",
    "                   \"hobbit\",\n",
    "                   \"iphone6\",\n",
    "                   \"movie\",\n",
    "                   \"sanders\",\n",
    "                   \"Narr\",\n",
    "                   \"archeage\",\n",
    "                   \"SemEval18\",\n",
    "                   \"OMD\",\n",
    "                   \"HCR\",\n",
    "                   \"STS-gold\",\n",
    "                   \"SentiStrength\",\n",
    "                   \"Target-dependent\",\n",
    "                   \"Vader\",\n",
    "                   \"SemEval13\",\n",
    "                   \"SemEval17\",\n",
    "                   \"SemEval16\"\n",
    "                  ]\n",
    "}"
   ]
  },
  {
   "cell_type": "code",
   "execution_count": 70,
   "metadata": {
    "colab": {},
    "colab_type": "code",
    "executionInfo": {
     "elapsed": 1304,
     "status": "ok",
     "timestamp": 1595009919128,
     "user": {
      "displayName": "Ricardo Moura",
      "photoUrl": "https://lh3.googleusercontent.com/a-/AOh14Gh4BPVXR6IythXBJgaEEl5JosseAHCEwlRIxpBjww=s64",
      "userId": "10784804889662280666"
     },
     "user_tz": 180
    },
    "id": "UsamTZP99FUW"
   },
   "outputs": [],
   "source": [
    "def deParaDatasetName(textDe):\n",
    "  if textDe == 'ntua':\n",
    "    return 'ntu'\n",
    "  elif textDe == 'SemEval15-Task11':\n",
    "    return 'S15'\n",
    "  elif textDe == 'iphone':\n",
    "    return 'iph'\n",
    "  elif textDe == 'Narr-KDML-2012':\n",
    "    return 'Nar'\n",
    "  elif textDe == 'VADER':\n",
    "    return 'Vad'\n",
    "  elif textDe == 'SemEval17-test':\n",
    "    return 'S17'\n",
    "  elif textDe == 'debate08':\n",
    "    return 'OMD'\n",
    "  elif textDe == 'irony':\n",
    "    return 'iro'\n",
    "  elif textDe == 'sarcasm':\n",
    "    return 'sar'\n",
    "  elif textDe == 'sentiment140':\n",
    "    return 'stm'\n",
    "  elif textDe == 'person':\n",
    "    return 'per'\n",
    "  elif textDe == 'hobbit':\n",
    "    return 'hob'\n",
    "  elif textDe == 'movie':\n",
    "    return 'mov'\n",
    "  elif textDe == 'sanders':\n",
    "    return 'san'\n",
    "  elif textDe == 'archeage':\n",
    "    return 'arc'\n",
    "  elif textDe == 'SemEval18':\n",
    "    return 'S18'\n",
    "  elif textDe == 'STS-gold':\n",
    "    return 'STS'\n",
    "  elif textDe == 'SentiStrength':\n",
    "    return 'SST'\n",
    "  elif textDe == 'Target-dependent':\n",
    "    return 'Tar'\n",
    "  elif textDe == 'SemEval13':\n",
    "    return 'S13'\n",
    "  elif textDe == 'SemEval16':\n",
    "    return 'S16'\n",
    "  else:\n",
    "    return textDe"
   ]
  },
  {
   "cell_type": "code",
   "execution_count": 71,
   "metadata": {
    "colab": {},
    "colab_type": "code",
    "executionInfo": {
     "elapsed": 1280,
     "status": "ok",
     "timestamp": 1595009919129,
     "user": {
      "displayName": "Ricardo Moura",
      "photoUrl": "https://lh3.googleusercontent.com/a-/AOh14Gh4BPVXR6IythXBJgaEEl5JosseAHCEwlRIxpBjww=s64",
      "userId": "10784804889662280666"
     },
     "user_tz": 180
    },
    "id": "J4oWDmB6inaO"
   },
   "outputs": [],
   "source": [
    "def deParaEmbeddingName(textDe):\n",
    "  if textDe == 'W2V-GN':\n",
    "    return 'w2v-GN'\n",
    "  elif textDe == 'GloveWP':\n",
    "    return 'GloVe-WP'\n",
    "  elif textDe == 'FastText':\n",
    "    return 'fastText'\n",
    "  elif textDe == 'GloveTW':\n",
    "    return 'GloVe-TWT'\n",
    "  elif textDe == 'Bert: bert-base-uncased / STATIC_AVG':\n",
    "    return 'Bert-static'\n",
    "  elif textDe == 'BERTweet_base_transformers_STATIC':\n",
    "    return \"Bertweet-static\"\n",
    "  elif textDe == 'TFIDF':\n",
    "    return 'TF-IDF'\n",
    "  elif textDe == 'W2VAraque':\n",
    "    return 'w2v-Araque'\n",
    "  elif textDe == 'W2VEdin':\n",
    "    return 'w2v-Edin'\n",
    "  elif textDe == 'Roberta: roberta-base / STATIC_AVG':\n",
    "    return 'Roberta-static'\n",
    "  elif textDe == 'Roberta: roberta-base / CONTEXT_CONCAT':\n",
    "    return 'Roberta-context'\n",
    "  elif textDe == 'Bert: bert-base-uncased / CONTEXT_CONCAT':\n",
    "    return 'Bert-context'\n",
    "  elif textDe == 'Roberta: RoBERTa_sentiment_tuned/ / CONTEXT_CONCAT':\n",
    "    return 'Roberta-sent140'\n",
    "  elif textDe == 'Bert: BERT_sentiment_tuned/ / CONTEXT_CONCAT':\n",
    "    return 'Bert-sent140'\n",
    "  elif textDe == 'Roberta: ./RoBERTaedinV2LM / CONTEXT_CONCAT':\n",
    "    return 'Roberta-edin'\n",
    "  elif textDe == 'Bert: ./BERTedinV2 / CONTEXT_CONCAT':\n",
    "    return 'Bert-edin'\n",
    "  elif textDe == 'Roberta: ./RoBER50kLM / CONTEXT_CONCAT':\n",
    "    return 'RoBerta-edin50'\n",
    "  elif textDe == 'Roberta: ./RoBER250kLM / CONTEXT_CONCAT':\n",
    "    return 'RoBerta-edin250'\n",
    "  elif textDe == \"Roberta: ./RoBER500kLM / CONTEXT_CONCAT\":\n",
    "    return 'RoBerta-edin500'\n",
    "  elif textDe == \"Roberta: ./RoBER1500kLM / CONTEXT_CONCAT\":\n",
    "    return 'RoBerta-edin1500'\n",
    "  elif textDe == \"Roberta: ./RoBER22DTLM / CONTEXT_CONCAT\":\n",
    "    return 'RoBerta-Dataset'\n",
    "  elif textDe == \"Bert: ./BERT22DT / CONTEXT_CONCAT\":\n",
    "    return 'Bert-Dataset'\n",
    "  elif textDe == 'Bert: ./BERT50K / CONTEXT_CONCAT':\n",
    "    return 'Bert-edin50'\n",
    "  elif textDe == 'Bert: ./BERT250K / CONTEXT_CONCAT':\n",
    "    return 'Bert-edin250'\n",
    "  elif textDe == \"Bert: ./BERT500K / CONTEXT_CONCAT\":\n",
    "    return 'Bert-edin500'\n",
    "  elif textDe == \"Bert: ./BERT1500K / CONTEXT_CONCAT\":\n",
    "    return 'Bert-edin1500'\n",
    "  elif textDe == 'Roberta: ./RoBERTaToken250LM / CONTEXT_CONCAT':\n",
    "    return 'RoBerta-edin250-token'\n",
    "  elif textDe == \"Roberta: ./RoBERTaToken500LM / CONTEXT_CONCAT\":\n",
    "    return 'RoBerta-edin500-token'\n",
    "  elif textDe == \"Roberta: ./RoBERTaToken1500LM / CONTEXT_CONCAT\":\n",
    "    return 'RoBerta-edin1500-token'\n",
    "  elif textDe == \"Roberta: ./RoBERTaToken6600LM / CONTEXT_CONCAT\":\n",
    "    return 'RoBerta-edin-token'\n",
    "  elif textDe == \"BERTweet_base_transformers_CONTEXT\":\n",
    "    return 'Bertweet-context'\n",
    "  elif textDe == \"./BERTweetFinetuning_CONTEXT\":\n",
    "    return 'Bertweet-edin-50'\n",
    "  elif textDe == \"./BERTweetFinetuning250_CONTEXT\":\n",
    "    return 'Bertweet-edin-250'\n",
    "  elif textDe == \"./BERTweetFinetuning500_CONTEXT\":\n",
    "    return 'Bertweet-edin-500'\n",
    "  elif textDe == \"./BERTweetFinetuning1500_CONTEXT\":\n",
    "    return 'Bertweet-edin-150'\n",
    "  elif textDe == \"./BERTweetFinetuning22DT_CONTEXT\":\n",
    "    return 'Bertweet-edin-22DT'\n",
    "  else:\n",
    "    return textDe"
   ]
  },
  {
   "cell_type": "code",
   "execution_count": 72,
   "metadata": {
    "colab": {},
    "colab_type": "code",
    "executionInfo": {
     "elapsed": 1624,
     "status": "ok",
     "timestamp": 1595009919494,
     "user": {
      "displayName": "Ricardo Moura",
      "photoUrl": "https://lh3.googleusercontent.com/a-/AOh14Gh4BPVXR6IythXBJgaEEl5JosseAHCEwlRIxpBjww=s64",
      "userId": "10784804889662280666"
     },
     "user_tz": 180
    },
    "id": "9qVLCGH69TdW"
   },
   "outputs": [],
   "source": [
    "def deParaClassifierName(textDe):\n",
    "  if textDe == 'MLPClassifier':\n",
    "    return 'MLP'\n",
    "  elif textDe == 'Reg_Logistica':\n",
    "    return 'LR'\n",
    "  elif textDe == 'Random_Forest':\n",
    "    return 'RF'\n",
    "  elif textDe == 'XGboost':\n",
    "    return 'Xgb'\n",
    "  else:\n",
    "    return textDe"
   ]
  },
  {
   "cell_type": "code",
   "execution_count": 73,
   "metadata": {
    "colab": {},
    "colab_type": "code",
    "executionInfo": {
     "elapsed": 1585,
     "status": "ok",
     "timestamp": 1595009919495,
     "user": {
      "displayName": "Ricardo Moura",
      "photoUrl": "https://lh3.googleusercontent.com/a-/AOh14Gh4BPVXR6IythXBJgaEEl5JosseAHCEwlRIxpBjww=s64",
      "userId": "10784804889662280666"
     },
     "user_tz": 180
    },
    "id": "PhS6C9E152Xr"
   },
   "outputs": [],
   "source": [
    "import glob\n",
    "import pandas as pd\n",
    "\n",
    "\n",
    "########## Estatico ##########\n",
    "dfstatic = pd.read_csv(glob.glob(\"staticLM/Pivot_tables/Final_Result_staticLM_*.csv\")[0], sep=\",\")\n",
    "df_btw_static = pd.read_csv(glob.glob(\"staticLM/Pivot_tables/Final_Result_StaticLM_*.csv\")[0], sep=\",\")\n",
    "df_btw_static = df_btw_static[df_btw_static['Embedding']=='BERTweet_base_transformers_STATIC']\n"
   ]
  },
  {
   "cell_type": "code",
   "execution_count": 74,
   "metadata": {
    "colab": {},
    "colab_type": "code",
    "executionInfo": {
     "elapsed": 1494,
     "status": "ok",
     "timestamp": 1595009919500,
     "user": {
      "displayName": "Ricardo Moura",
      "photoUrl": "https://lh3.googleusercontent.com/a-/AOh14Gh4BPVXR6IythXBJgaEEl5JosseAHCEwlRIxpBjww=s64",
      "userId": "10784804889662280666"
     },
     "user_tz": 180
    },
    "id": "NCf2vK6MNjkR"
   },
   "outputs": [],
   "source": [
    "frames = [dfstatic, df_btw_static]"
   ]
  },
  {
   "cell_type": "code",
   "execution_count": 75,
   "metadata": {
    "colab": {},
    "colab_type": "code",
    "executionInfo": {
     "elapsed": 1465,
     "status": "ok",
     "timestamp": 1595009919501,
     "user": {
      "displayName": "Ricardo Moura",
      "photoUrl": "https://lh3.googleusercontent.com/a-/AOh14Gh4BPVXR6IythXBJgaEEl5JosseAHCEwlRIxpBjww=s64",
      "userId": "10784804889662280666"
     },
     "user_tz": 180
    },
    "id": "IwrQ3coXNuIe"
   },
   "outputs": [],
   "source": [
    "result = pd.concat(frames)"
   ]
  },
  {
   "cell_type": "code",
   "execution_count": 76,
   "metadata": {
    "colab": {},
    "colab_type": "code",
    "executionInfo": {
     "elapsed": 1450,
     "status": "ok",
     "timestamp": 1595009919502,
     "user": {
      "displayName": "Ricardo Moura",
      "photoUrl": "https://lh3.googleusercontent.com/a-/AOh14Gh4BPVXR6IythXBJgaEEl5JosseAHCEwlRIxpBjww=s64",
      "userId": "10784804889662280666"
     },
     "user_tz": 180
    },
    "id": "SkBoFHgNwndl"
   },
   "outputs": [],
   "source": [
    "result[[\"accuracy\", \"f1_macro\"]] = result[[\"accuracy\", \"f1_macro\"]].apply(pd.to_numeric)"
   ]
  },
  {
   "cell_type": "code",
   "execution_count": 77,
   "metadata": {
    "colab": {},
    "colab_type": "code",
    "executionInfo": {
     "elapsed": 1381,
     "status": "ok",
     "timestamp": 1595009919504,
     "user": {
      "displayName": "Ricardo Moura",
      "photoUrl": "https://lh3.googleusercontent.com/a-/AOh14Gh4BPVXR6IythXBJgaEEl5JosseAHCEwlRIxpBjww=s64",
      "userId": "10784804889662280666"
     },
     "user_tz": 180
    },
    "id": "05WFV64O2zJN"
   },
   "outputs": [],
   "source": [
    "result[\"Data_Set\"] = result[\"Data_Set\"].apply(deParaDatasetName)\n",
    "result[\"Embedding\"] = result[\"Embedding\"].apply(deParaEmbeddingName)\n",
    "result[\"Classifier_Model\"] = result[\"Classifier_Model\"].apply(deParaClassifierName)"
   ]
  },
  {
   "cell_type": "code",
   "execution_count": 78,
   "metadata": {
    "colab": {
     "base_uri": "https://localhost:8080/",
     "height": 419
    },
    "colab_type": "code",
    "executionInfo": {
     "elapsed": 1326,
     "status": "ok",
     "timestamp": 1595009919507,
     "user": {
      "displayName": "Ricardo Moura",
      "photoUrl": "https://lh3.googleusercontent.com/a-/AOh14Gh4BPVXR6IythXBJgaEEl5JosseAHCEwlRIxpBjww=s64",
      "userId": "10784804889662280666"
     },
     "user_tz": 180
    },
    "id": "1Idi3E1ehTaV",
    "outputId": "622eaffa-be5a-41f1-aee2-ebdd40a36ff8"
   },
   "outputs": [
    {
     "data": {
      "text/html": [
       "<div>\n",
       "<style scoped>\n",
       "    .dataframe tbody tr th:only-of-type {\n",
       "        vertical-align: middle;\n",
       "    }\n",
       "\n",
       "    .dataframe tbody tr th {\n",
       "        vertical-align: top;\n",
       "    }\n",
       "\n",
       "    .dataframe thead th {\n",
       "        text-align: right;\n",
       "    }\n",
       "</style>\n",
       "<table border=\"1\" class=\"dataframe\">\n",
       "  <thead>\n",
       "    <tr style=\"text-align: right;\">\n",
       "      <th></th>\n",
       "      <th>accuracy</th>\n",
       "      <th>f1_macro</th>\n",
       "      <th>Classifier_Model</th>\n",
       "      <th>Embedding</th>\n",
       "      <th>Data_Set</th>\n",
       "    </tr>\n",
       "  </thead>\n",
       "  <tbody>\n",
       "  </tbody>\n",
       "</table>\n",
       "</div>"
      ],
      "text/plain": [
       "Empty DataFrame\n",
       "Columns: [accuracy, f1_macro, Classifier_Model, Embedding, Data_Set]\n",
       "Index: []"
      ]
     },
     "execution_count": 78,
     "metadata": {},
     "output_type": "execute_result"
    }
   ],
   "source": [
    "result.sort_values(by='Data_Set')\n",
    "result[result['Data_Set']=='irony']"
   ]
  },
  {
   "cell_type": "code",
   "execution_count": 79,
   "metadata": {
    "colab": {},
    "colab_type": "code",
    "executionInfo": {
     "elapsed": 1312,
     "status": "ok",
     "timestamp": 1595009919507,
     "user": {
      "displayName": "Ricardo Moura",
      "photoUrl": "https://lh3.googleusercontent.com/a-/AOh14Gh4BPVXR6IythXBJgaEEl5JosseAHCEwlRIxpBjww=s64",
      "userId": "10784804889662280666"
     },
     "user_tz": 180
    },
    "id": "dP9oWlPFxk4X"
   },
   "outputs": [],
   "source": [
    "#result[(result['Classifier_Model'] == 'MLPClassifier') & (result['Embedding'] == 'Bert-context')]"
   ]
  },
  {
   "cell_type": "code",
   "execution_count": 80,
   "metadata": {
    "colab": {},
    "colab_type": "code",
    "executionInfo": {
     "elapsed": 1301,
     "status": "ok",
     "timestamp": 1595009919508,
     "user": {
      "displayName": "Ricardo Moura",
      "photoUrl": "https://lh3.googleusercontent.com/a-/AOh14Gh4BPVXR6IythXBJgaEEl5JosseAHCEwlRIxpBjww=s64",
      "userId": "10784804889662280666"
     },
     "user_tz": 180
    },
    "id": "n2i9Vw-ahUnG"
   },
   "outputs": [],
   "source": [
    "result_acc = result.sort_values(by=['Data_Set', 'accuracy'], ascending=False)\n",
    "result_f1 = result.sort_values(by=['Data_Set', 'f1_macro'], ascending=False)"
   ]
  },
  {
   "cell_type": "code",
   "execution_count": 81,
   "metadata": {
    "colab": {},
    "colab_type": "code",
    "executionInfo": {
     "elapsed": 1288,
     "status": "ok",
     "timestamp": 1595009919509,
     "user": {
      "displayName": "Ricardo Moura",
      "photoUrl": "https://lh3.googleusercontent.com/a-/AOh14Gh4BPVXR6IythXBJgaEEl5JosseAHCEwlRIxpBjww=s64",
      "userId": "10784804889662280666"
     },
     "user_tz": 180
    },
    "id": "Mq6A-3oomtFD"
   },
   "outputs": [],
   "source": [
    "result_acc = result_acc.drop_duplicates(subset='Data_Set', keep=\"first\")\n",
    "result_acc=result_acc.reset_index(drop=True)\n",
    "result_f1 = result_f1.drop_duplicates(subset='Data_Set', keep=\"first\")\n",
    "result_f1=result_f1.reset_index(drop=True)"
   ]
  },
  {
   "cell_type": "code",
   "execution_count": 82,
   "metadata": {
    "colab": {},
    "colab_type": "code",
    "executionInfo": {
     "elapsed": 1276,
     "status": "ok",
     "timestamp": 1595009919509,
     "user": {
      "displayName": "Ricardo Moura",
      "photoUrl": "https://lh3.googleusercontent.com/a-/AOh14Gh4BPVXR6IythXBJgaEEl5JosseAHCEwlRIxpBjww=s64",
      "userId": "10784804889662280666"
     },
     "user_tz": 180
    },
    "id": "yRP2Qkz3-Wwq"
   },
   "outputs": [],
   "source": [
    "def montaTabelaLatex(df, metrica):\n",
    "  first = True\n",
    "  for ind in df.index:\n",
    "    if first == False:\n",
    "      print(\"\\\\rule{0pt}{3.8ex}\")\n",
    "    else:\n",
    "      first = False\n",
    "    print (str(df[\"Data_Set\"][ind])+'&'+str(df[metrica][ind])+'&'+str(df[\"Classifier_Model\"][ind])+'&'+str(df[\"Embedding\"][ind])+'\\\\\\\\')"
   ]
  },
  {
   "cell_type": "code",
   "execution_count": 83,
   "metadata": {},
   "outputs": [],
   "source": [
    "def montaTabelaLatexNew(df_acc, df_f1):\n",
    "  first = True\n",
    "  for ind in df_acc.index:\n",
    "    if first == False:\n",
    "      print(\"\\\\rule{0pt}{3.8ex}\")\n",
    "    else:\n",
    "      first = False\n",
    "    print (str(df_acc[\"Data_Set\"][ind])+'&'+str(df_acc['accuracy'][ind])+'&'+str(df_acc[\"Classifier_Model\"][ind])+'&'+str(df_acc[\"Embedding\"][ind])+'&'+str(df_f1['f1_macro'][ind])+'&'+str(df_f1[\"Classifier_Model\"][ind])+'&'+str(df_f1[\"Embedding\"][ind])+'\\\\\\\\')\n"
   ]
  },
  {
   "cell_type": "code",
   "execution_count": 84,
   "metadata": {
    "colab": {},
    "colab_type": "code",
    "executionInfo": {
     "elapsed": 1256,
     "status": "ok",
     "timestamp": 1595009919510,
     "user": {
      "displayName": "Ricardo Moura",
      "photoUrl": "https://lh3.googleusercontent.com/a-/AOh14Gh4BPVXR6IythXBJgaEEl5JosseAHCEwlRIxpBjww=s64",
      "userId": "10784804889662280666"
     },
     "user_tz": 180
    },
    "id": "QgBvWDTI4wG8"
   },
   "outputs": [
    {
     "data": {
      "text/html": [
       "<div>\n",
       "<style scoped>\n",
       "    .dataframe tbody tr th:only-of-type {\n",
       "        vertical-align: middle;\n",
       "    }\n",
       "\n",
       "    .dataframe tbody tr th {\n",
       "        vertical-align: top;\n",
       "    }\n",
       "\n",
       "    .dataframe thead th {\n",
       "        text-align: right;\n",
       "    }\n",
       "</style>\n",
       "<table border=\"1\" class=\"dataframe\">\n",
       "  <thead>\n",
       "    <tr style=\"text-align: right;\">\n",
       "      <th></th>\n",
       "      <th>accuracy</th>\n",
       "      <th>f1_macro</th>\n",
       "      <th>Classifier_Model</th>\n",
       "      <th>Embedding</th>\n",
       "      <th>Data_Set</th>\n",
       "    </tr>\n",
       "  </thead>\n",
       "  <tbody>\n",
       "    <tr>\n",
       "      <th>6</th>\n",
       "      <td>78.57</td>\n",
       "      <td>73.34</td>\n",
       "      <td>LR</td>\n",
       "      <td>Emo2Vec</td>\n",
       "      <td>iro</td>\n",
       "    </tr>\n",
       "    <tr>\n",
       "      <th>1</th>\n",
       "      <td>76.25</td>\n",
       "      <td>75.83</td>\n",
       "      <td>SVM</td>\n",
       "      <td>SSWE</td>\n",
       "      <td>sar</td>\n",
       "    </tr>\n",
       "    <tr>\n",
       "      <th>4</th>\n",
       "      <td>92.82</td>\n",
       "      <td>92.66</td>\n",
       "      <td>SVM</td>\n",
       "      <td>DeepMoji</td>\n",
       "      <td>ntu</td>\n",
       "    </tr>\n",
       "    <tr>\n",
       "      <th>17</th>\n",
       "      <td>90.35</td>\n",
       "      <td>75.63</td>\n",
       "      <td>LR</td>\n",
       "      <td>TF-IDF</td>\n",
       "      <td>S15</td>\n",
       "    </tr>\n",
       "    <tr>\n",
       "      <th>0</th>\n",
       "      <td>85.48</td>\n",
       "      <td>85.46</td>\n",
       "      <td>MLP</td>\n",
       "      <td>Bert-static</td>\n",
       "      <td>stm</td>\n",
       "    </tr>\n",
       "    <tr>\n",
       "      <th>3</th>\n",
       "      <td>84.05</td>\n",
       "      <td>80.30</td>\n",
       "      <td>MLP</td>\n",
       "      <td>w2v-GN</td>\n",
       "      <td>per</td>\n",
       "    </tr>\n",
       "    <tr>\n",
       "      <th>8</th>\n",
       "      <td>95.01</td>\n",
       "      <td>94.27</td>\n",
       "      <td>MLP</td>\n",
       "      <td>Roberta-static</td>\n",
       "      <td>hob</td>\n",
       "    </tr>\n",
       "    <tr>\n",
       "      <th>7</th>\n",
       "      <td>81.95</td>\n",
       "      <td>77.62</td>\n",
       "      <td>MLP</td>\n",
       "      <td>Bertweet-static</td>\n",
       "      <td>iph</td>\n",
       "    </tr>\n",
       "    <tr>\n",
       "      <th>5</th>\n",
       "      <td>88.05</td>\n",
       "      <td>78.09</td>\n",
       "      <td>MLP</td>\n",
       "      <td>EWE</td>\n",
       "      <td>mov</td>\n",
       "    </tr>\n",
       "    <tr>\n",
       "      <th>2</th>\n",
       "      <td>84.47</td>\n",
       "      <td>84.35</td>\n",
       "      <td>MLP</td>\n",
       "      <td>TF-IDF</td>\n",
       "      <td>san</td>\n",
       "    </tr>\n",
       "    <tr>\n",
       "      <th>20</th>\n",
       "      <td>88.84</td>\n",
       "      <td>88.29</td>\n",
       "      <td>RF</td>\n",
       "      <td>Emo2Vec</td>\n",
       "      <td>Nar</td>\n",
       "    </tr>\n",
       "    <tr>\n",
       "      <th>9</th>\n",
       "      <td>87.54</td>\n",
       "      <td>87.11</td>\n",
       "      <td>SVM</td>\n",
       "      <td>TF-IDF</td>\n",
       "      <td>arc</td>\n",
       "    </tr>\n",
       "    <tr>\n",
       "      <th>14</th>\n",
       "      <td>86.50</td>\n",
       "      <td>86.40</td>\n",
       "      <td>SVM</td>\n",
       "      <td>Roberta-static</td>\n",
       "      <td>S18</td>\n",
       "    </tr>\n",
       "    <tr>\n",
       "      <th>19</th>\n",
       "      <td>85.10</td>\n",
       "      <td>83.85</td>\n",
       "      <td>SVM</td>\n",
       "      <td>Roberta-static</td>\n",
       "      <td>OMD</td>\n",
       "    </tr>\n",
       "    <tr>\n",
       "      <th>21</th>\n",
       "      <td>80.24</td>\n",
       "      <td>72.16</td>\n",
       "      <td>SVM</td>\n",
       "      <td>TF-IDF</td>\n",
       "      <td>HCR</td>\n",
       "    </tr>\n",
       "    <tr>\n",
       "      <th>12</th>\n",
       "      <td>88.84</td>\n",
       "      <td>87.24</td>\n",
       "      <td>SVM</td>\n",
       "      <td>DeepMoji</td>\n",
       "      <td>STS</td>\n",
       "    </tr>\n",
       "    <tr>\n",
       "      <th>13</th>\n",
       "      <td>85.15</td>\n",
       "      <td>84.87</td>\n",
       "      <td>LR</td>\n",
       "      <td>Emo2Vec</td>\n",
       "      <td>SST</td>\n",
       "    </tr>\n",
       "    <tr>\n",
       "      <th>11</th>\n",
       "      <td>84.42</td>\n",
       "      <td>84.42</td>\n",
       "      <td>SVM</td>\n",
       "      <td>Roberta-static</td>\n",
       "      <td>Tar</td>\n",
       "    </tr>\n",
       "    <tr>\n",
       "      <th>10</th>\n",
       "      <td>89.32</td>\n",
       "      <td>87.80</td>\n",
       "      <td>SVM</td>\n",
       "      <td>Roberta-static</td>\n",
       "      <td>Vad</td>\n",
       "    </tr>\n",
       "    <tr>\n",
       "      <th>18</th>\n",
       "      <td>87.85</td>\n",
       "      <td>85.63</td>\n",
       "      <td>SVM</td>\n",
       "      <td>Emo2Vec</td>\n",
       "      <td>S13</td>\n",
       "    </tr>\n",
       "    <tr>\n",
       "      <th>15</th>\n",
       "      <td>89.03</td>\n",
       "      <td>88.37</td>\n",
       "      <td>SVM</td>\n",
       "      <td>Roberta-static</td>\n",
       "      <td>S17</td>\n",
       "    </tr>\n",
       "    <tr>\n",
       "      <th>16</th>\n",
       "      <td>86.00</td>\n",
       "      <td>83.18</td>\n",
       "      <td>SVM</td>\n",
       "      <td>Roberta-static</td>\n",
       "      <td>S16</td>\n",
       "    </tr>\n",
       "  </tbody>\n",
       "</table>\n",
       "</div>"
      ],
      "text/plain": [
       "    accuracy  f1_macro Classifier_Model        Embedding Data_Set\n",
       "6      78.57     73.34               LR          Emo2Vec      iro\n",
       "1      76.25     75.83              SVM             SSWE      sar\n",
       "4      92.82     92.66              SVM         DeepMoji      ntu\n",
       "17     90.35     75.63               LR           TF-IDF      S15\n",
       "0      85.48     85.46              MLP      Bert-static      stm\n",
       "3      84.05     80.30              MLP           w2v-GN      per\n",
       "8      95.01     94.27              MLP   Roberta-static      hob\n",
       "7      81.95     77.62              MLP  Bertweet-static      iph\n",
       "5      88.05     78.09              MLP              EWE      mov\n",
       "2      84.47     84.35              MLP           TF-IDF      san\n",
       "20     88.84     88.29               RF          Emo2Vec      Nar\n",
       "9      87.54     87.11              SVM           TF-IDF      arc\n",
       "14     86.50     86.40              SVM   Roberta-static      S18\n",
       "19     85.10     83.85              SVM   Roberta-static      OMD\n",
       "21     80.24     72.16              SVM           TF-IDF      HCR\n",
       "12     88.84     87.24              SVM         DeepMoji      STS\n",
       "13     85.15     84.87               LR          Emo2Vec      SST\n",
       "11     84.42     84.42              SVM   Roberta-static      Tar\n",
       "10     89.32     87.80              SVM   Roberta-static      Vad\n",
       "18     87.85     85.63              SVM          Emo2Vec      S13\n",
       "15     89.03     88.37              SVM   Roberta-static      S17\n",
       "16     86.00     83.18              SVM   Roberta-static      S16"
      ]
     },
     "execution_count": 84,
     "metadata": {},
     "output_type": "execute_result"
    }
   ],
   "source": [
    "result_acc = result_acc.reindex([6,1,4,17,0,3,8,7,5,2,20,9,14,19,21,12,13,11,10,18,15,16])\n",
    "result_acc"
   ]
  },
  {
   "cell_type": "code",
   "execution_count": 85,
   "metadata": {
    "colab": {
     "base_uri": "https://localhost:8080/",
     "height": 731
    },
    "colab_type": "code",
    "executionInfo": {
     "elapsed": 1515,
     "status": "ok",
     "timestamp": 1595009919785,
     "user": {
      "displayName": "Ricardo Moura",
      "photoUrl": "https://lh3.googleusercontent.com/a-/AOh14Gh4BPVXR6IythXBJgaEEl5JosseAHCEwlRIxpBjww=s64",
      "userId": "10784804889662280666"
     },
     "user_tz": 180
    },
    "id": "QrRuwckP78za",
    "outputId": "54ed1148-ebe9-4b86-9622-9e094c58ed41"
   },
   "outputs": [
    {
     "data": {
      "text/plain": [
       "Roberta-static     7\n",
       "TF-IDF             4\n",
       "Emo2Vec            4\n",
       "DeepMoji           2\n",
       "EWE                1\n",
       "Bertweet-static    1\n",
       "SSWE               1\n",
       "Bert-static        1\n",
       "w2v-GN             1\n",
       "Name: Embedding, dtype: int64"
      ]
     },
     "execution_count": 85,
     "metadata": {},
     "output_type": "execute_result"
    }
   ],
   "source": [
    "result_acc['Embedding'].value_counts()"
   ]
  },
  {
   "cell_type": "code",
   "execution_count": 86,
   "metadata": {},
   "outputs": [
    {
     "data": {
      "text/html": [
       "<div>\n",
       "<style scoped>\n",
       "    .dataframe tbody tr th:only-of-type {\n",
       "        vertical-align: middle;\n",
       "    }\n",
       "\n",
       "    .dataframe tbody tr th {\n",
       "        vertical-align: top;\n",
       "    }\n",
       "\n",
       "    .dataframe thead th {\n",
       "        text-align: right;\n",
       "    }\n",
       "</style>\n",
       "<table border=\"1\" class=\"dataframe\">\n",
       "  <thead>\n",
       "    <tr style=\"text-align: right;\">\n",
       "      <th></th>\n",
       "      <th>accuracy</th>\n",
       "      <th>f1_macro</th>\n",
       "      <th>Classifier_Model</th>\n",
       "      <th>Embedding</th>\n",
       "      <th>Data_Set</th>\n",
       "    </tr>\n",
       "  </thead>\n",
       "  <tbody>\n",
       "    <tr>\n",
       "      <th>6</th>\n",
       "      <td>78.57</td>\n",
       "      <td>73.34</td>\n",
       "      <td>LR</td>\n",
       "      <td>Emo2Vec</td>\n",
       "      <td>iro</td>\n",
       "    </tr>\n",
       "    <tr>\n",
       "      <th>1</th>\n",
       "      <td>76.25</td>\n",
       "      <td>75.83</td>\n",
       "      <td>SVM</td>\n",
       "      <td>SSWE</td>\n",
       "      <td>sar</td>\n",
       "    </tr>\n",
       "    <tr>\n",
       "      <th>4</th>\n",
       "      <td>92.82</td>\n",
       "      <td>92.66</td>\n",
       "      <td>SVM</td>\n",
       "      <td>DeepMoji</td>\n",
       "      <td>ntu</td>\n",
       "    </tr>\n",
       "    <tr>\n",
       "      <th>17</th>\n",
       "      <td>90.34</td>\n",
       "      <td>78.48</td>\n",
       "      <td>SVM</td>\n",
       "      <td>Roberta-static</td>\n",
       "      <td>S15</td>\n",
       "    </tr>\n",
       "    <tr>\n",
       "      <th>0</th>\n",
       "      <td>85.48</td>\n",
       "      <td>85.46</td>\n",
       "      <td>MLP</td>\n",
       "      <td>Bert-static</td>\n",
       "      <td>stm</td>\n",
       "    </tr>\n",
       "    <tr>\n",
       "      <th>3</th>\n",
       "      <td>83.37</td>\n",
       "      <td>80.58</td>\n",
       "      <td>SVM</td>\n",
       "      <td>w2v-GN</td>\n",
       "      <td>per</td>\n",
       "    </tr>\n",
       "    <tr>\n",
       "      <th>8</th>\n",
       "      <td>95.01</td>\n",
       "      <td>94.27</td>\n",
       "      <td>MLP</td>\n",
       "      <td>Roberta-static</td>\n",
       "      <td>hob</td>\n",
       "    </tr>\n",
       "    <tr>\n",
       "      <th>7</th>\n",
       "      <td>81.57</td>\n",
       "      <td>79.92</td>\n",
       "      <td>SVM</td>\n",
       "      <td>Emo2Vec</td>\n",
       "      <td>iph</td>\n",
       "    </tr>\n",
       "    <tr>\n",
       "      <th>5</th>\n",
       "      <td>88.05</td>\n",
       "      <td>78.09</td>\n",
       "      <td>MLP</td>\n",
       "      <td>EWE</td>\n",
       "      <td>mov</td>\n",
       "    </tr>\n",
       "    <tr>\n",
       "      <th>2</th>\n",
       "      <td>84.47</td>\n",
       "      <td>84.35</td>\n",
       "      <td>MLP</td>\n",
       "      <td>TF-IDF</td>\n",
       "      <td>san</td>\n",
       "    </tr>\n",
       "    <tr>\n",
       "      <th>20</th>\n",
       "      <td>88.75</td>\n",
       "      <td>88.38</td>\n",
       "      <td>SVM</td>\n",
       "      <td>DeepMoji</td>\n",
       "      <td>Nar</td>\n",
       "    </tr>\n",
       "    <tr>\n",
       "      <th>9</th>\n",
       "      <td>87.43</td>\n",
       "      <td>87.19</td>\n",
       "      <td>SVM</td>\n",
       "      <td>Roberta-static</td>\n",
       "      <td>arc</td>\n",
       "    </tr>\n",
       "    <tr>\n",
       "      <th>14</th>\n",
       "      <td>86.50</td>\n",
       "      <td>86.40</td>\n",
       "      <td>SVM</td>\n",
       "      <td>Roberta-static</td>\n",
       "      <td>S18</td>\n",
       "    </tr>\n",
       "    <tr>\n",
       "      <th>19</th>\n",
       "      <td>85.10</td>\n",
       "      <td>83.85</td>\n",
       "      <td>SVM</td>\n",
       "      <td>Roberta-static</td>\n",
       "      <td>OMD</td>\n",
       "    </tr>\n",
       "    <tr>\n",
       "      <th>21</th>\n",
       "      <td>78.30</td>\n",
       "      <td>74.55</td>\n",
       "      <td>SVM</td>\n",
       "      <td>Roberta-static</td>\n",
       "      <td>HCR</td>\n",
       "    </tr>\n",
       "    <tr>\n",
       "      <th>12</th>\n",
       "      <td>88.84</td>\n",
       "      <td>87.24</td>\n",
       "      <td>SVM</td>\n",
       "      <td>DeepMoji</td>\n",
       "      <td>STS</td>\n",
       "    </tr>\n",
       "    <tr>\n",
       "      <th>13</th>\n",
       "      <td>85.15</td>\n",
       "      <td>84.87</td>\n",
       "      <td>LR</td>\n",
       "      <td>Emo2Vec</td>\n",
       "      <td>SST</td>\n",
       "    </tr>\n",
       "    <tr>\n",
       "      <th>11</th>\n",
       "      <td>84.42</td>\n",
       "      <td>84.42</td>\n",
       "      <td>SVM</td>\n",
       "      <td>Roberta-static</td>\n",
       "      <td>Tar</td>\n",
       "    </tr>\n",
       "    <tr>\n",
       "      <th>10</th>\n",
       "      <td>89.32</td>\n",
       "      <td>87.80</td>\n",
       "      <td>SVM</td>\n",
       "      <td>Roberta-static</td>\n",
       "      <td>Vad</td>\n",
       "    </tr>\n",
       "    <tr>\n",
       "      <th>18</th>\n",
       "      <td>87.85</td>\n",
       "      <td>85.63</td>\n",
       "      <td>SVM</td>\n",
       "      <td>Emo2Vec</td>\n",
       "      <td>S13</td>\n",
       "    </tr>\n",
       "    <tr>\n",
       "      <th>15</th>\n",
       "      <td>89.03</td>\n",
       "      <td>88.37</td>\n",
       "      <td>SVM</td>\n",
       "      <td>Roberta-static</td>\n",
       "      <td>S17</td>\n",
       "    </tr>\n",
       "    <tr>\n",
       "      <th>16</th>\n",
       "      <td>86.00</td>\n",
       "      <td>83.18</td>\n",
       "      <td>SVM</td>\n",
       "      <td>Roberta-static</td>\n",
       "      <td>S16</td>\n",
       "    </tr>\n",
       "  </tbody>\n",
       "</table>\n",
       "</div>"
      ],
      "text/plain": [
       "    accuracy  f1_macro Classifier_Model       Embedding Data_Set\n",
       "6      78.57     73.34               LR         Emo2Vec      iro\n",
       "1      76.25     75.83              SVM            SSWE      sar\n",
       "4      92.82     92.66              SVM        DeepMoji      ntu\n",
       "17     90.34     78.48              SVM  Roberta-static      S15\n",
       "0      85.48     85.46              MLP     Bert-static      stm\n",
       "3      83.37     80.58              SVM          w2v-GN      per\n",
       "8      95.01     94.27              MLP  Roberta-static      hob\n",
       "7      81.57     79.92              SVM         Emo2Vec      iph\n",
       "5      88.05     78.09              MLP             EWE      mov\n",
       "2      84.47     84.35              MLP          TF-IDF      san\n",
       "20     88.75     88.38              SVM        DeepMoji      Nar\n",
       "9      87.43     87.19              SVM  Roberta-static      arc\n",
       "14     86.50     86.40              SVM  Roberta-static      S18\n",
       "19     85.10     83.85              SVM  Roberta-static      OMD\n",
       "21     78.30     74.55              SVM  Roberta-static      HCR\n",
       "12     88.84     87.24              SVM        DeepMoji      STS\n",
       "13     85.15     84.87               LR         Emo2Vec      SST\n",
       "11     84.42     84.42              SVM  Roberta-static      Tar\n",
       "10     89.32     87.80              SVM  Roberta-static      Vad\n",
       "18     87.85     85.63              SVM         Emo2Vec      S13\n",
       "15     89.03     88.37              SVM  Roberta-static      S17\n",
       "16     86.00     83.18              SVM  Roberta-static      S16"
      ]
     },
     "execution_count": 86,
     "metadata": {},
     "output_type": "execute_result"
    }
   ],
   "source": [
    "result_f1 = result_f1.reindex([6,1,4,17,0,3,8,7,5,2,20,9,14,19,21,12,13,11,10,18,15,16])\n",
    "result_f1"
   ]
  },
  {
   "cell_type": "code",
   "execution_count": 87,
   "metadata": {},
   "outputs": [
    {
     "data": {
      "text/plain": [
       "Roberta-static    10\n",
       "Emo2Vec            4\n",
       "DeepMoji           3\n",
       "EWE                1\n",
       "TF-IDF             1\n",
       "SSWE               1\n",
       "Bert-static        1\n",
       "w2v-GN             1\n",
       "Name: Embedding, dtype: int64"
      ]
     },
     "execution_count": 87,
     "metadata": {},
     "output_type": "execute_result"
    }
   ],
   "source": [
    "result_f1['Embedding'].value_counts()"
   ]
  },
  {
   "cell_type": "code",
   "execution_count": 88,
   "metadata": {},
   "outputs": [
    {
     "name": "stdout",
     "output_type": "stream",
     "text": [
      "iro&78.57&LR&Emo2Vec&73.34&LR&Emo2Vec\\\\\n",
      "\\rule{0pt}{3.8ex}\n",
      "sar&76.25&SVM&SSWE&75.83&SVM&SSWE\\\\\n",
      "\\rule{0pt}{3.8ex}\n",
      "ntu&92.82&SVM&DeepMoji&92.66&SVM&DeepMoji\\\\\n",
      "\\rule{0pt}{3.8ex}\n",
      "S15&90.35&LR&TF-IDF&78.48&SVM&Roberta-static\\\\\n",
      "\\rule{0pt}{3.8ex}\n",
      "stm&85.48&MLP&Bert-static&85.46&MLP&Bert-static\\\\\n",
      "\\rule{0pt}{3.8ex}\n",
      "per&84.05&MLP&w2v-GN&80.58&SVM&w2v-GN\\\\\n",
      "\\rule{0pt}{3.8ex}\n",
      "hob&95.01&MLP&Roberta-static&94.27&MLP&Roberta-static\\\\\n",
      "\\rule{0pt}{3.8ex}\n",
      "iph&81.95&MLP&Bertweet-static&79.92&SVM&Emo2Vec\\\\\n",
      "\\rule{0pt}{3.8ex}\n",
      "mov&88.05&MLP&EWE&78.09&MLP&EWE\\\\\n",
      "\\rule{0pt}{3.8ex}\n",
      "san&84.47&MLP&TF-IDF&84.35&MLP&TF-IDF\\\\\n",
      "\\rule{0pt}{3.8ex}\n",
      "Nar&88.84&RF&Emo2Vec&88.38&SVM&DeepMoji\\\\\n",
      "\\rule{0pt}{3.8ex}\n",
      "arc&87.54&SVM&TF-IDF&87.19&SVM&Roberta-static\\\\\n",
      "\\rule{0pt}{3.8ex}\n",
      "S18&86.5&SVM&Roberta-static&86.4&SVM&Roberta-static\\\\\n",
      "\\rule{0pt}{3.8ex}\n",
      "OMD&85.1&SVM&Roberta-static&83.85&SVM&Roberta-static\\\\\n",
      "\\rule{0pt}{3.8ex}\n",
      "HCR&80.24&SVM&TF-IDF&74.55&SVM&Roberta-static\\\\\n",
      "\\rule{0pt}{3.8ex}\n",
      "STS&88.84&SVM&DeepMoji&87.24&SVM&DeepMoji\\\\\n",
      "\\rule{0pt}{3.8ex}\n",
      "SST&85.15&LR&Emo2Vec&84.87&LR&Emo2Vec\\\\\n",
      "\\rule{0pt}{3.8ex}\n",
      "Tar&84.42&SVM&Roberta-static&84.42&SVM&Roberta-static\\\\\n",
      "\\rule{0pt}{3.8ex}\n",
      "Vad&89.32&SVM&Roberta-static&87.8&SVM&Roberta-static\\\\\n",
      "\\rule{0pt}{3.8ex}\n",
      "S13&87.85&SVM&Emo2Vec&85.63&SVM&Emo2Vec\\\\\n",
      "\\rule{0pt}{3.8ex}\n",
      "S17&89.03&SVM&Roberta-static&88.37&SVM&Roberta-static\\\\\n",
      "\\rule{0pt}{3.8ex}\n",
      "S16&86.0&SVM&Roberta-static&83.18&SVM&Roberta-static\\\\\n"
     ]
    }
   ],
   "source": [
    "montaTabelaLatexNew(result_acc,result_f1)"
   ]
  }
 ],
 "metadata": {
  "colab": {
   "authorship_tag": "ABX9TyNu7AB0kwJRPr+r17jbMTv3",
   "collapsed_sections": [],
   "mount_file_id": "18YqNJ9EiloCFcgw03FIBpEvdUpPY5fCt",
   "name": "organize_result_bestoverall.ipynb",
   "provenance": []
  },
  "kernelspec": {
   "display_name": "p36workshop",
   "language": "python",
   "name": "p36workshop"
  },
  "language_info": {
   "codemirror_mode": {
    "name": "ipython",
    "version": 2
   },
   "file_extension": ".py",
   "mimetype": "text/x-python",
   "name": "python",
   "nbconvert_exporter": "python",
   "pygments_lexer": "ipython2",
   "version": "2.7.16"
  }
 },
 "nbformat": 4,
 "nbformat_minor": 1
}
