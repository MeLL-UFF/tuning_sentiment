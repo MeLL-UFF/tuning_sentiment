{
 "cells": [
  {
   "cell_type": "code",
   "execution_count": 22,
   "metadata": {
    "colab": {
     "base_uri": "https://localhost:8080/",
     "height": 54
    },
    "colab_type": "code",
    "executionInfo": {
     "elapsed": 1059,
     "status": "ok",
     "timestamp": 1595009918773,
     "user": {
      "displayName": "Ricardo Moura",
      "photoUrl": "https://lh3.googleusercontent.com/a-/AOh14Gh4BPVXR6IythXBJgaEEl5JosseAHCEwlRIxpBjww=s64",
      "userId": "10784804889662280666"
     },
     "user_tz": 180
    },
    "id": "9dywRoFT5UnK",
    "outputId": "368e4966-ad6f-4c72-971f-d93dd4e9001c"
   },
   "outputs": [],
   "source": [
    "#import pandas as pd\n",
    "#from google.colab import drive\n",
    "#drive.mount('/gdrive')"
   ]
  },
  {
   "cell_type": "code",
   "execution_count": 23,
   "metadata": {
    "colab": {
     "base_uri": "https://localhost:8080/",
     "height": 34
    },
    "colab_type": "code",
    "executionInfo": {
     "elapsed": 1367,
     "status": "ok",
     "timestamp": 1595009919116,
     "user": {
      "displayName": "Ricardo Moura",
      "photoUrl": "https://lh3.googleusercontent.com/a-/AOh14Gh4BPVXR6IythXBJgaEEl5JosseAHCEwlRIxpBjww=s64",
      "userId": "10784804889662280666"
     },
     "user_tz": 180
    },
    "id": "Iiq-FUPF7SE2",
    "outputId": "a47f5e00-b017-47c1-dfe7-d198b161e864"
   },
   "outputs": [],
   "source": [
    "#%cd /gdrive/My Drive/Colab Notebooks/estudo-orientado/relatorio/expr_results"
   ]
  },
  {
   "cell_type": "code",
   "execution_count": 24,
   "metadata": {
    "colab": {},
    "colab_type": "code",
    "executionInfo": {
     "elapsed": 1316,
     "status": "ok",
     "timestamp": 1595009919117,
     "user": {
      "displayName": "Ricardo Moura",
      "photoUrl": "https://lh3.googleusercontent.com/a-/AOh14Gh4BPVXR6IythXBJgaEEl5JosseAHCEwlRIxpBjww=s64",
      "userId": "10784804889662280666"
     },
     "user_tz": 180
    },
    "id": "XAW3uCp27ptx"
   },
   "outputs": [],
   "source": [
    "dict = {\n",
    "    \"fileNames\" : [\n",
    "                   \"irony\",\n",
    "                   \"sarcasm\",\n",
    "                   \"aisopos\",\n",
    "                   \"SemEval-Fig\",\n",
    "                   \"sentiment140\",\n",
    "                   \"person\",\n",
    "                   \"hobbit\",\n",
    "                   \"iphone6\",\n",
    "                   \"movie\",\n",
    "                   \"sanders\",\n",
    "                   \"Narr\",\n",
    "                   \"archeage\",\n",
    "                   \"SemEval18\",\n",
    "                   \"OMD\",\n",
    "                   \"HCR\",\n",
    "                   \"STS-gold\",\n",
    "                   \"SentiStrength\",\n",
    "                   \"Target-dependent\",\n",
    "                   \"Vader\",\n",
    "                   \"SemEval13\",\n",
    "                   \"SemEval17\",\n",
    "                   \"SemEval16\"\n",
    "                  ]\n",
    "}"
   ]
  },
  {
   "cell_type": "code",
   "execution_count": 25,
   "metadata": {
    "colab": {},
    "colab_type": "code",
    "executionInfo": {
     "elapsed": 1304,
     "status": "ok",
     "timestamp": 1595009919128,
     "user": {
      "displayName": "Ricardo Moura",
      "photoUrl": "https://lh3.googleusercontent.com/a-/AOh14Gh4BPVXR6IythXBJgaEEl5JosseAHCEwlRIxpBjww=s64",
      "userId": "10784804889662280666"
     },
     "user_tz": 180
    },
    "id": "UsamTZP99FUW"
   },
   "outputs": [],
   "source": [
    "def deParaDatasetName(textDe):\n",
    "  if textDe == 'ntua':\n",
    "    return 'ntu'\n",
    "  elif textDe == 'SemEval15-Task11':\n",
    "    return 'S15'\n",
    "  elif textDe == 'iphone':\n",
    "    return 'iph'\n",
    "  elif textDe == 'Narr-KDML-2012':\n",
    "    return 'Nar'\n",
    "  elif textDe == 'VADER':\n",
    "    return 'Vad'\n",
    "  elif textDe == 'SemEval17-test':\n",
    "    return 'S17'\n",
    "  elif textDe == 'debate08':\n",
    "    return 'OMD'\n",
    "  elif textDe == 'irony':\n",
    "    return 'iro'\n",
    "  elif textDe == 'sarcasm':\n",
    "    return 'sar'\n",
    "  elif textDe == 'sentiment140':\n",
    "    return 'stm'\n",
    "  elif textDe == 'person':\n",
    "    return 'per'\n",
    "  elif textDe == 'hobbit':\n",
    "    return 'hob'\n",
    "  elif textDe == 'movie':\n",
    "    return 'mov'\n",
    "  elif textDe == 'sanders':\n",
    "    return 'san'\n",
    "  elif textDe == 'archeage':\n",
    "    return 'arc'\n",
    "  elif textDe == 'SemEval18':\n",
    "    return 'S18'\n",
    "  elif textDe == 'STS-gold':\n",
    "    return 'STS'\n",
    "  elif textDe == 'SentiStrength':\n",
    "    return 'SSt'\n",
    "  elif textDe == 'Target-dependent':\n",
    "    return 'Tar'\n",
    "  elif textDe == 'SemEval13':\n",
    "    return 'S13'\n",
    "  elif textDe == 'SemEval16':\n",
    "    return 'S16'\n",
    "  else:\n",
    "    return textDe"
   ]
  },
  {
   "cell_type": "code",
   "execution_count": 26,
   "metadata": {
    "colab": {},
    "colab_type": "code",
    "executionInfo": {
     "elapsed": 1280,
     "status": "ok",
     "timestamp": 1595009919129,
     "user": {
      "displayName": "Ricardo Moura",
      "photoUrl": "https://lh3.googleusercontent.com/a-/AOh14Gh4BPVXR6IythXBJgaEEl5JosseAHCEwlRIxpBjww=s64",
      "userId": "10784804889662280666"
     },
     "user_tz": 180
    },
    "id": "J4oWDmB6inaO"
   },
   "outputs": [],
   "source": [
    "def deParaEmbeddingName(textDe):\n",
    "  if textDe == 'W2V-GN':\n",
    "    return 'w2v-GN'\n",
    "  elif textDe == 'GloveWP':\n",
    "    return 'GloVe-WP'\n",
    "  elif textDe == 'FastText':\n",
    "    return 'fastText'\n",
    "  elif textDe == 'GloveTW':\n",
    "    return 'GloVe-TWT'\n",
    "  elif textDe == 'Bert: bert-base-uncased / STATIC_AVG':\n",
    "    return 'Bert-static'\n",
    "  elif textDe == 'TFIDF':\n",
    "    return 'TF-IDF'\n",
    "  elif textDe == 'W2VAraque':\n",
    "    return 'w2v-Araque'\n",
    "  elif textDe == 'W2VEdin':\n",
    "    return 'w2v-Edin'\n",
    "  elif textDe == 'Roberta: roberta-base / STATIC_AVG':\n",
    "    return 'Roberta-static'\n",
    "  elif textDe == 'Roberta: roberta-base / CONTEXT_CONCAT':\n",
    "    return 'Roberta-context'\n",
    "  elif textDe == 'Bert: bert-base-uncased / CONTEXT_CONCAT':\n",
    "    return 'Bert-context'\n",
    "  elif textDe == 'Roberta: RoBERTa_sentiment_tuned/ / CONTEXT_CONCAT':\n",
    "    return 'Roberta-sent140'\n",
    "  elif textDe == 'Bert: BERT_sentiment_tuned/ / CONTEXT_CONCAT':\n",
    "    return 'Bert-sent140'\n",
    "  elif textDe == 'Roberta: ./RoBERTaedinV2LM / CONTEXT_CONCAT':\n",
    "    return 'Roberta-edin'\n",
    "  elif textDe == 'Bert: ./BERTedinV2 / CONTEXT_CONCAT':\n",
    "    return 'Bert-edin'\n",
    "  elif textDe == 'Roberta: ./RoBER50kLM / CONTEXT_CONCAT':\n",
    "    return 'RoBerta-edin50'\n",
    "  elif textDe == 'Roberta: ./RoBER250kLM / CONTEXT_CONCAT':\n",
    "    return 'RoBerta-edin250'\n",
    "  elif textDe == \"Roberta: ./RoBER500kLM / CONTEXT_CONCAT\":\n",
    "    return 'RoBerta-edin500'\n",
    "  elif textDe == \"Roberta: ./RoBER1500kLM / CONTEXT_CONCAT\":\n",
    "    return 'RoBerta-edin1500'\n",
    "  elif textDe == \"Roberta: ./RoBER22DTLM / CONTEXT_CONCAT\":\n",
    "    return 'RoBerta-Dataset'\n",
    "  elif textDe == \"Bert: ./BERT22DT / CONTEXT_CONCAT\":\n",
    "    return 'Bert-Dataset'\n",
    "  elif textDe == 'Bert: ./BERT50K / CONTEXT_CONCAT':\n",
    "    return 'Bert-edin50'\n",
    "  elif textDe == 'Bert: ./BERT250K / CONTEXT_CONCAT':\n",
    "    return 'Bert-edin250'\n",
    "  elif textDe == \"Bert: ./BERT500K / CONTEXT_CONCAT\":\n",
    "    return 'Bert-edin500'\n",
    "  elif textDe == \"Bert: ./BERT1500K / CONTEXT_CONCAT\":\n",
    "    return 'Bert-edin1500'\n",
    "  elif textDe == 'Roberta: ./RoBERTaToken250LM / CONTEXT_CONCAT':\n",
    "    return 'RoBerta-edin250-token'\n",
    "  elif textDe == \"Roberta: ./RoBERTaToken500LM / CONTEXT_CONCAT\":\n",
    "    return 'RoBerta-edin500-token'\n",
    "  elif textDe == \"Roberta: ./RoBERTaToken1500LM / CONTEXT_CONCAT\":\n",
    "    return 'RoBerta-edin1500-token'\n",
    "  elif textDe == \"Roberta: ./RoBERTaToken6600LM / CONTEXT_CONCAT\":\n",
    "    return 'RoBerta-edin-token'\n",
    "  elif textDe == \"BERTweet_base_transformers_CONTEXT\":\n",
    "    return 'Bertweet'\n",
    "  elif textDe == \"./BERTweetFinetuning_CONTEXT\":\n",
    "    return 'Bertweet-edin-50'\n",
    "  elif textDe == \"./BERTweetFinetuning250_CONTEXT\":\n",
    "    return 'Bertweet-edin-250'\n",
    "  elif textDe == \"./BERTweetFinetuning500_CONTEXT\":\n",
    "    return 'Bertweet-edin-500'\n",
    "  elif textDe == \"./BERTweetFinetuning1500_CONTEXT\":\n",
    "    return 'Bertweet-edin-150'\n",
    "  elif textDe == \"./BERTweetFinetuning22DT_CONTEXT\":\n",
    "    return 'Bertweet-edin-22DT'\n",
    "\n",
    "\n",
    "  else:\n",
    "    return textDe"
   ]
  },
  {
   "cell_type": "code",
   "execution_count": 27,
   "metadata": {
    "colab": {},
    "colab_type": "code",
    "executionInfo": {
     "elapsed": 1624,
     "status": "ok",
     "timestamp": 1595009919494,
     "user": {
      "displayName": "Ricardo Moura",
      "photoUrl": "https://lh3.googleusercontent.com/a-/AOh14Gh4BPVXR6IythXBJgaEEl5JosseAHCEwlRIxpBjww=s64",
      "userId": "10784804889662280666"
     },
     "user_tz": 180
    },
    "id": "9qVLCGH69TdW"
   },
   "outputs": [],
   "source": [
    "def deParaClassifierName(textDe):\n",
    "  if textDe == 'MLPClassifier':\n",
    "    return 'MLP'\n",
    "  elif textDe == 'Reg_Logistica':\n",
    "    return 'LR'\n",
    "  elif textDe == 'Random_Forest':\n",
    "    return 'RF'\n",
    "  else:\n",
    "    return textDe"
   ]
  },
  {
   "cell_type": "code",
   "execution_count": 28,
   "metadata": {
    "colab": {},
    "colab_type": "code",
    "executionInfo": {
     "elapsed": 1585,
     "status": "ok",
     "timestamp": 1595009919495,
     "user": {
      "displayName": "Ricardo Moura",
      "photoUrl": "https://lh3.googleusercontent.com/a-/AOh14Gh4BPVXR6IythXBJgaEEl5JosseAHCEwlRIxpBjww=s64",
      "userId": "10784804889662280666"
     },
     "user_tz": 180
    },
    "id": "PhS6C9E152Xr"
   },
   "outputs": [],
   "source": [
    "import glob\n",
    "import pandas as pd\n",
    "\n",
    "########## Contextualizado ##########\n",
    "df_roberta = pd.read_csv(glob.glob(\"./RoBERTaXgboostLM/Pivot_tables/Final_Result_*.csv\")[0],sep=\",\")\n",
    "df_bert = pd.read_csv(glob.glob(\"./BERTXgboost/Pivot_tables/Final_Result_*.csv\")[0],sep=\",\")\n",
    "df_bertweet = pd.read_csv(glob.glob(\"./BERTweetXgboost/Pivot_tables/Final_Result_*.csv\")[0],sep=\",\")"
   ]
  },
  {
   "cell_type": "code",
   "execution_count": 29,
   "metadata": {
    "colab": {},
    "colab_type": "code",
    "executionInfo": {
     "elapsed": 1494,
     "status": "ok",
     "timestamp": 1595009919500,
     "user": {
      "displayName": "Ricardo Moura",
      "photoUrl": "https://lh3.googleusercontent.com/a-/AOh14Gh4BPVXR6IythXBJgaEEl5JosseAHCEwlRIxpBjww=s64",
      "userId": "10784804889662280666"
     },
     "user_tz": 180
    },
    "id": "NCf2vK6MNjkR"
   },
   "outputs": [],
   "source": [
    "frames = [df_roberta, df_bert,df_bertweet]"
   ]
  },
  {
   "cell_type": "code",
   "execution_count": 30,
   "metadata": {
    "colab": {},
    "colab_type": "code",
    "executionInfo": {
     "elapsed": 1465,
     "status": "ok",
     "timestamp": 1595009919501,
     "user": {
      "displayName": "Ricardo Moura",
      "photoUrl": "https://lh3.googleusercontent.com/a-/AOh14Gh4BPVXR6IythXBJgaEEl5JosseAHCEwlRIxpBjww=s64",
      "userId": "10784804889662280666"
     },
     "user_tz": 180
    },
    "id": "IwrQ3coXNuIe"
   },
   "outputs": [],
   "source": [
    "result = pd.concat(frames)"
   ]
  },
  {
   "cell_type": "code",
   "execution_count": 31,
   "metadata": {
    "colab": {},
    "colab_type": "code",
    "executionInfo": {
     "elapsed": 1450,
     "status": "ok",
     "timestamp": 1595009919502,
     "user": {
      "displayName": "Ricardo Moura",
      "photoUrl": "https://lh3.googleusercontent.com/a-/AOh14Gh4BPVXR6IythXBJgaEEl5JosseAHCEwlRIxpBjww=s64",
      "userId": "10784804889662280666"
     },
     "user_tz": 180
    },
    "id": "SkBoFHgNwndl"
   },
   "outputs": [],
   "source": [
    "result[[\"accuracy\", \"f1_macro\"]] = result[[\"accuracy\", \"f1_macro\"]].apply(pd.to_numeric)"
   ]
  },
  {
   "cell_type": "code",
   "execution_count": 32,
   "metadata": {
    "colab": {},
    "colab_type": "code",
    "executionInfo": {
     "elapsed": 1381,
     "status": "ok",
     "timestamp": 1595009919504,
     "user": {
      "displayName": "Ricardo Moura",
      "photoUrl": "https://lh3.googleusercontent.com/a-/AOh14Gh4BPVXR6IythXBJgaEEl5JosseAHCEwlRIxpBjww=s64",
      "userId": "10784804889662280666"
     },
     "user_tz": 180
    },
    "id": "05WFV64O2zJN"
   },
   "outputs": [],
   "source": [
    "result[\"Data_Set\"] = result[\"Data_Set\"].apply(deParaDatasetName)\n",
    "result[\"Embedding\"] = result[\"Embedding\"].apply(deParaEmbeddingName)\n",
    "result[\"Classifier_Model\"] = result[\"Classifier_Model\"].apply(deParaClassifierName)"
   ]
  },
  {
   "cell_type": "code",
   "execution_count": 33,
   "metadata": {
    "colab": {
     "base_uri": "https://localhost:8080/",
     "height": 419
    },
    "colab_type": "code",
    "executionInfo": {
     "elapsed": 1326,
     "status": "ok",
     "timestamp": 1595009919507,
     "user": {
      "displayName": "Ricardo Moura",
      "photoUrl": "https://lh3.googleusercontent.com/a-/AOh14Gh4BPVXR6IythXBJgaEEl5JosseAHCEwlRIxpBjww=s64",
      "userId": "10784804889662280666"
     },
     "user_tz": 180
    },
    "id": "1Idi3E1ehTaV",
    "outputId": "622eaffa-be5a-41f1-aee2-ebdd40a36ff8"
   },
   "outputs": [
    {
     "data": {
      "text/html": [
       "<div>\n",
       "<style scoped>\n",
       "    .dataframe tbody tr th:only-of-type {\n",
       "        vertical-align: middle;\n",
       "    }\n",
       "\n",
       "    .dataframe tbody tr th {\n",
       "        vertical-align: top;\n",
       "    }\n",
       "\n",
       "    .dataframe thead th {\n",
       "        text-align: right;\n",
       "    }\n",
       "</style>\n",
       "<table border=\"1\" class=\"dataframe\">\n",
       "  <thead>\n",
       "    <tr style=\"text-align: right;\">\n",
       "      <th></th>\n",
       "      <th>accuracy</th>\n",
       "      <th>f1_macro</th>\n",
       "      <th>Classifier_Model</th>\n",
       "      <th>Embedding</th>\n",
       "      <th>Data_Set</th>\n",
       "    </tr>\n",
       "  </thead>\n",
       "  <tbody>\n",
       "    <tr>\n",
       "      <th>5</th>\n",
       "      <td>65.95</td>\n",
       "      <td>57.55</td>\n",
       "      <td>LR</td>\n",
       "      <td>Roberta-context</td>\n",
       "      <td>iro</td>\n",
       "    </tr>\n",
       "    <tr>\n",
       "      <th>6</th>\n",
       "      <td>66.19</td>\n",
       "      <td>39.77</td>\n",
       "      <td>RF</td>\n",
       "      <td>Roberta-context</td>\n",
       "      <td>iro</td>\n",
       "    </tr>\n",
       "    <tr>\n",
       "      <th>7</th>\n",
       "      <td>46.67</td>\n",
       "      <td>31.00</td>\n",
       "      <td>SVM</td>\n",
       "      <td>Roberta-context</td>\n",
       "      <td>iro</td>\n",
       "    </tr>\n",
       "    <tr>\n",
       "      <th>8</th>\n",
       "      <td>70.71</td>\n",
       "      <td>63.36</td>\n",
       "      <td>MLP</td>\n",
       "      <td>Roberta-context</td>\n",
       "      <td>iro</td>\n",
       "    </tr>\n",
       "    <tr>\n",
       "      <th>9</th>\n",
       "      <td>61.67</td>\n",
       "      <td>48.30</td>\n",
       "      <td>XGboost</td>\n",
       "      <td>Roberta-context</td>\n",
       "      <td>iro</td>\n",
       "    </tr>\n",
       "    <tr>\n",
       "      <th>105</th>\n",
       "      <td>80.48</td>\n",
       "      <td>73.08</td>\n",
       "      <td>LR</td>\n",
       "      <td>Bert-context</td>\n",
       "      <td>iro</td>\n",
       "    </tr>\n",
       "    <tr>\n",
       "      <th>106</th>\n",
       "      <td>67.62</td>\n",
       "      <td>43.48</td>\n",
       "      <td>RF</td>\n",
       "      <td>Bert-context</td>\n",
       "      <td>iro</td>\n",
       "    </tr>\n",
       "    <tr>\n",
       "      <th>107</th>\n",
       "      <td>71.43</td>\n",
       "      <td>66.51</td>\n",
       "      <td>SVM</td>\n",
       "      <td>Bert-context</td>\n",
       "      <td>iro</td>\n",
       "    </tr>\n",
       "    <tr>\n",
       "      <th>108</th>\n",
       "      <td>80.48</td>\n",
       "      <td>70.87</td>\n",
       "      <td>MLP</td>\n",
       "      <td>Bert-context</td>\n",
       "      <td>iro</td>\n",
       "    </tr>\n",
       "    <tr>\n",
       "      <th>109</th>\n",
       "      <td>60.24</td>\n",
       "      <td>48.24</td>\n",
       "      <td>XGboost</td>\n",
       "      <td>Bert-context</td>\n",
       "      <td>iro</td>\n",
       "    </tr>\n",
       "    <tr>\n",
       "      <th>75</th>\n",
       "      <td>72.14</td>\n",
       "      <td>65.10</td>\n",
       "      <td>LR</td>\n",
       "      <td>Bertweet</td>\n",
       "      <td>iro</td>\n",
       "    </tr>\n",
       "    <tr>\n",
       "      <th>76</th>\n",
       "      <td>67.62</td>\n",
       "      <td>43.48</td>\n",
       "      <td>RF</td>\n",
       "      <td>Bertweet</td>\n",
       "      <td>iro</td>\n",
       "    </tr>\n",
       "    <tr>\n",
       "      <th>77</th>\n",
       "      <td>69.52</td>\n",
       "      <td>61.22</td>\n",
       "      <td>SVM</td>\n",
       "      <td>Bertweet</td>\n",
       "      <td>iro</td>\n",
       "    </tr>\n",
       "    <tr>\n",
       "      <th>78</th>\n",
       "      <td>73.33</td>\n",
       "      <td>64.96</td>\n",
       "      <td>MLP</td>\n",
       "      <td>Bertweet</td>\n",
       "      <td>iro</td>\n",
       "    </tr>\n",
       "    <tr>\n",
       "      <th>79</th>\n",
       "      <td>61.90</td>\n",
       "      <td>47.05</td>\n",
       "      <td>XGboost</td>\n",
       "      <td>Bertweet</td>\n",
       "      <td>iro</td>\n",
       "    </tr>\n",
       "  </tbody>\n",
       "</table>\n",
       "</div>"
      ],
      "text/plain": [
       "     accuracy  f1_macro Classifier_Model        Embedding Data_Set\n",
       "5       65.95     57.55               LR  Roberta-context      iro\n",
       "6       66.19     39.77               RF  Roberta-context      iro\n",
       "7       46.67     31.00              SVM  Roberta-context      iro\n",
       "8       70.71     63.36              MLP  Roberta-context      iro\n",
       "9       61.67     48.30          XGboost  Roberta-context      iro\n",
       "105     80.48     73.08               LR     Bert-context      iro\n",
       "106     67.62     43.48               RF     Bert-context      iro\n",
       "107     71.43     66.51              SVM     Bert-context      iro\n",
       "108     80.48     70.87              MLP     Bert-context      iro\n",
       "109     60.24     48.24          XGboost     Bert-context      iro\n",
       "75      72.14     65.10               LR         Bertweet      iro\n",
       "76      67.62     43.48               RF         Bertweet      iro\n",
       "77      69.52     61.22              SVM         Bertweet      iro\n",
       "78      73.33     64.96              MLP         Bertweet      iro\n",
       "79      61.90     47.05          XGboost         Bertweet      iro"
      ]
     },
     "execution_count": 33,
     "metadata": {},
     "output_type": "execute_result"
    }
   ],
   "source": [
    "result.sort_values(by='Data_Set')\n",
    "result[result['Data_Set']=='iro']"
   ]
  },
  {
   "cell_type": "code",
   "execution_count": 34,
   "metadata": {
    "colab": {},
    "colab_type": "code",
    "executionInfo": {
     "elapsed": 1312,
     "status": "ok",
     "timestamp": 1595009919507,
     "user": {
      "displayName": "Ricardo Moura",
      "photoUrl": "https://lh3.googleusercontent.com/a-/AOh14Gh4BPVXR6IythXBJgaEEl5JosseAHCEwlRIxpBjww=s64",
      "userId": "10784804889662280666"
     },
     "user_tz": 180
    },
    "id": "dP9oWlPFxk4X"
   },
   "outputs": [],
   "source": [
    "#result[(result['Classifier_Model'] == 'MLPClassifier') & (result['Embedding'] == 'Bert-context')]"
   ]
  },
  {
   "cell_type": "code",
   "execution_count": 35,
   "metadata": {
    "colab": {},
    "colab_type": "code",
    "executionInfo": {
     "elapsed": 1301,
     "status": "ok",
     "timestamp": 1595009919508,
     "user": {
      "displayName": "Ricardo Moura",
      "photoUrl": "https://lh3.googleusercontent.com/a-/AOh14Gh4BPVXR6IythXBJgaEEl5JosseAHCEwlRIxpBjww=s64",
      "userId": "10784804889662280666"
     },
     "user_tz": 180
    },
    "id": "n2i9Vw-ahUnG"
   },
   "outputs": [],
   "source": [
    "result_acc = result.sort_values(by=['Data_Set', 'accuracy'], ascending=False)\n",
    "result_f1 = result.sort_values(by=['Data_Set', 'f1_macro'], ascending=False)"
   ]
  },
  {
   "cell_type": "code",
   "execution_count": 36,
   "metadata": {
    "colab": {},
    "colab_type": "code",
    "executionInfo": {
     "elapsed": 1288,
     "status": "ok",
     "timestamp": 1595009919509,
     "user": {
      "displayName": "Ricardo Moura",
      "photoUrl": "https://lh3.googleusercontent.com/a-/AOh14Gh4BPVXR6IythXBJgaEEl5JosseAHCEwlRIxpBjww=s64",
      "userId": "10784804889662280666"
     },
     "user_tz": 180
    },
    "id": "Mq6A-3oomtFD"
   },
   "outputs": [],
   "source": [
    "result_acc = result_acc.drop_duplicates(subset='Data_Set', keep=\"first\")\n",
    "result_acc=result_acc.reset_index(drop=True)\n",
    "result_f1 = result_f1.drop_duplicates(subset='Data_Set', keep=\"first\")\n",
    "result_f1=result_f1.reset_index(drop=True)"
   ]
  },
  {
   "cell_type": "code",
   "execution_count": 37,
   "metadata": {
    "colab": {},
    "colab_type": "code",
    "executionInfo": {
     "elapsed": 1276,
     "status": "ok",
     "timestamp": 1595009919509,
     "user": {
      "displayName": "Ricardo Moura",
      "photoUrl": "https://lh3.googleusercontent.com/a-/AOh14Gh4BPVXR6IythXBJgaEEl5JosseAHCEwlRIxpBjww=s64",
      "userId": "10784804889662280666"
     },
     "user_tz": 180
    },
    "id": "yRP2Qkz3-Wwq"
   },
   "outputs": [],
   "source": [
    "def montaTabelaLatex(df, metrica):\n",
    "  first = True\n",
    "  for ind in df.index:\n",
    "    if first == False:\n",
    "      print(\"\\\\rule{0pt}{3.8ex}\")\n",
    "    else:\n",
    "      first = False\n",
    "    print (str(df[\"Data_Set\"][ind])+'&'+str(df[metrica][ind])+'&'+str(df[\"Classifier_Model\"][ind])+'&'+str(df[\"Embedding\"][ind])+'\\\\\\\\')"
   ]
  },
  {
   "cell_type": "code",
   "execution_count": 38,
   "metadata": {},
   "outputs": [],
   "source": [
    "def montaTabelaLatexNew(df_acc, df_f1):\n",
    "  first = True\n",
    "  for ind in df_acc.index:\n",
    "    if first == False:\n",
    "      print(\"\\\\rule{0pt}{3.8ex}\")\n",
    "    else:\n",
    "      first = False\n",
    "    print (str(df_acc[\"Data_Set\"][ind])+'&'+str(df_acc['accuracy'][ind])+'&'+str(df_acc[\"Classifier_Model\"][ind])+'&'+str(df_acc[\"Embedding\"][ind])+'&'+str(df_f1['f1_macro'][ind])+'&'+str(df_f1[\"Classifier_Model\"][ind])+'&'+str(df_f1[\"Embedding\"][ind])+'\\\\\\\\')"
   ]
  },
  {
   "cell_type": "code",
   "execution_count": 39,
   "metadata": {
    "colab": {},
    "colab_type": "code",
    "executionInfo": {
     "elapsed": 1256,
     "status": "ok",
     "timestamp": 1595009919510,
     "user": {
      "displayName": "Ricardo Moura",
      "photoUrl": "https://lh3.googleusercontent.com/a-/AOh14Gh4BPVXR6IythXBJgaEEl5JosseAHCEwlRIxpBjww=s64",
      "userId": "10784804889662280666"
     },
     "user_tz": 180
    },
    "id": "QgBvWDTI4wG8"
   },
   "outputs": [],
   "source": [
    "result_acc = result_acc.reindex([6,1,4,17,0,3,8,7,5,2,20,9,14,19,21,12,13,11,10,18,15,16])\n",
    "result_f1 = result_f1.reindex([6,1,4,17,0,3,8,7,5,2,20,9,14,19,21,12,13,11,10,18,15,16])"
   ]
  },
  {
   "cell_type": "code",
   "execution_count": 40,
   "metadata": {
    "colab": {
     "base_uri": "https://localhost:8080/",
     "height": 731
    },
    "colab_type": "code",
    "executionInfo": {
     "elapsed": 1515,
     "status": "ok",
     "timestamp": 1595009919785,
     "user": {
      "displayName": "Ricardo Moura",
      "photoUrl": "https://lh3.googleusercontent.com/a-/AOh14Gh4BPVXR6IythXBJgaEEl5JosseAHCEwlRIxpBjww=s64",
      "userId": "10784804889662280666"
     },
     "user_tz": 180
    },
    "id": "QrRuwckP78za",
    "outputId": "54ed1148-ebe9-4b86-9622-9e094c58ed41"
   },
   "outputs": [
    {
     "data": {
      "text/plain": [
       "Bertweet           17\n",
       "Roberta-context     3\n",
       "Bert-context        2\n",
       "Name: Embedding, dtype: int64"
      ]
     },
     "execution_count": 40,
     "metadata": {},
     "output_type": "execute_result"
    }
   ],
   "source": [
    "result_acc['Embedding'].value_counts()"
   ]
  },
  {
   "cell_type": "code",
   "execution_count": 41,
   "metadata": {},
   "outputs": [
    {
     "data": {
      "text/plain": [
       "Bertweet           18\n",
       "Bert-context        2\n",
       "Roberta-context     2\n",
       "Name: Embedding, dtype: int64"
      ]
     },
     "execution_count": 41,
     "metadata": {},
     "output_type": "execute_result"
    }
   ],
   "source": [
    "result_f1['Embedding'].value_counts()"
   ]
  },
  {
   "cell_type": "code",
   "execution_count": 42,
   "metadata": {
    "colab": {
     "base_uri": "https://localhost:8080/",
     "height": 748
    },
    "colab_type": "code",
    "executionInfo": {
     "elapsed": 1498,
     "status": "ok",
     "timestamp": 1595009919787,
     "user": {
      "displayName": "Ricardo Moura",
      "photoUrl": "https://lh3.googleusercontent.com/a-/AOh14Gh4BPVXR6IythXBJgaEEl5JosseAHCEwlRIxpBjww=s64",
      "userId": "10784804889662280666"
     },
     "user_tz": 180
    },
    "id": "5LfxYnO48SSd",
    "outputId": "1373ace2-82b4-48c5-be89-ce33c623444a"
   },
   "outputs": [
    {
     "name": "stdout",
     "output_type": "stream",
     "text": [
      "iro&80.48&LR&Bert-context&73.08&LR&Bert-context\\\\\n",
      "\\rule{0pt}{3.8ex}\n",
      "sar&76.07&SVM&Bert-context&75.63&SVM&Bert-context\\\\\n",
      "\\rule{0pt}{3.8ex}\n",
      "ntu&91.03&LR&Bertweet&90.86&SVM&Bertweet\\\\\n",
      "\\rule{0pt}{3.8ex}\n",
      "S15&92.23&LR&Bertweet&83.33&LR&Bertweet\\\\\n",
      "\\rule{0pt}{3.8ex}\n",
      "stm&90.79&LR&Roberta-context&90.75&LR&Roberta-context\\\\\n",
      "\\rule{0pt}{3.8ex}\n",
      "per&87.69&LR&Bertweet&85.29&LR&Bertweet\\\\\n",
      "\\rule{0pt}{3.8ex}\n",
      "hob&87.93&LR&Roberta-context&86.29&LR&Roberta-context\\\\\n",
      "\\rule{0pt}{3.8ex}\n",
      "iph&87.59&MLP&Bertweet&84.72&MLP&Bertweet\\\\\n",
      "\\rule{0pt}{3.8ex}\n",
      "mov&89.47&MLP&Roberta-context&82.12&LR&Bertweet\\\\\n",
      "\\rule{0pt}{3.8ex}\n",
      "san&91.17&MLP&Bertweet&91.11&MLP&Bertweet\\\\\n",
      "\\rule{0pt}{3.8ex}\n",
      "Nar&95.6&MLP&Bertweet&95.43&MLP&Bertweet\\\\\n",
      "\\rule{0pt}{3.8ex}\n",
      "arc&90.74&MLP&Bertweet&90.51&MLP&Bertweet\\\\\n",
      "\\rule{0pt}{3.8ex}\n",
      "S18&88.97&SVM&Bertweet&88.87&SVM&Bertweet\\\\\n",
      "\\rule{0pt}{3.8ex}\n",
      "OMD&87.36&SVM&Bertweet&86.4&SVM&Bertweet\\\\\n",
      "\\rule{0pt}{3.8ex}\n",
      "HCR&81.55&XGboost&Bertweet&76.77&LR&Bertweet\\\\\n",
      "\\rule{0pt}{3.8ex}\n",
      "STS&93.9&LR&Bertweet&92.98&LR&Bertweet\\\\\n",
      "\\rule{0pt}{3.8ex}\n",
      "SSt&86.76&SVM&Bertweet&86.53&SVM&Bertweet\\\\\n",
      "\\rule{0pt}{3.8ex}\n",
      "Tar&86.93&SVM&Bertweet&86.92&SVM&Bertweet\\\\\n",
      "\\rule{0pt}{3.8ex}\n",
      "Vad&90.8&LR&Bertweet&89.38&LR&Bertweet\\\\\n",
      "\\rule{0pt}{3.8ex}\n",
      "S13&89.61&LR&Bertweet&87.37&LR&Bertweet\\\\\n",
      "\\rule{0pt}{3.8ex}\n",
      "S17&92.56&SVM&Bertweet&92.08&SVM&Bertweet\\\\\n",
      "\\rule{0pt}{3.8ex}\n",
      "S16&91.03&LR&Bertweet&89.05&LR&Bertweet\\\\\n"
     ]
    }
   ],
   "source": [
    "montaTabelaLatexNew(result_acc,result_f1)"
   ]
  }
 ],
 "metadata": {
  "colab": {
   "authorship_tag": "ABX9TyNu7AB0kwJRPr+r17jbMTv3",
   "collapsed_sections": [],
   "mount_file_id": "18YqNJ9EiloCFcgw03FIBpEvdUpPY5fCt",
   "name": "organize_result_bestoverall.ipynb",
   "provenance": []
  },
  "kernelspec": {
   "display_name": "p36workshop",
   "language": "python",
   "name": "p36workshop"
  },
  "language_info": {
   "codemirror_mode": {
    "name": "ipython",
    "version": 2
   },
   "file_extension": ".py",
   "mimetype": "text/x-python",
   "name": "python",
   "nbconvert_exporter": "python",
   "pygments_lexer": "ipython2",
   "version": "2.7.16"
  }
 },
 "nbformat": 4,
 "nbformat_minor": 1
}
