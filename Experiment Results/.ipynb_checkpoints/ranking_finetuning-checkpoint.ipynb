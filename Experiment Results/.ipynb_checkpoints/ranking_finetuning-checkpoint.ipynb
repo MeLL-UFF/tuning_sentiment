{
 "cells": [
  {
   "cell_type": "code",
   "execution_count": 1,
   "metadata": {},
   "outputs": [],
   "source": [
    "def deParaClassifierName(textDe):\n",
    "  if textDe == 'MLPClassifier':\n",
    "    return 'MLP'\n",
    "  elif textDe == 'Reg_Logistica':\n",
    "    return 'LR'\n",
    "  elif textDe == 'Random_Forest':\n",
    "    return 'RF'\n",
    "  elif textDe == 'XGboost':\n",
    "    return 'Xgb'\n",
    "  else:\n",
    "    return textDe"
   ]
  },
  {
   "cell_type": "code",
   "execution_count": 2,
   "metadata": {
    "colab": {},
    "colab_type": "code",
    "executionInfo": {
     "elapsed": 1280,
     "status": "ok",
     "timestamp": 1595009919129,
     "user": {
      "displayName": "Ricardo Moura",
      "photoUrl": "https://lh3.googleusercontent.com/a-/AOh14Gh4BPVXR6IythXBJgaEEl5JosseAHCEwlRIxpBjww=s64",
      "userId": "10784804889662280666"
     },
     "user_tz": 180
    },
    "id": "J4oWDmB6inaO"
   },
   "outputs": [],
   "source": [
    "def deParaEmbeddingName(textDe):\n",
    "  if textDe == 'W2V-GN':\n",
    "    return 'w2v-GN'\n",
    "  elif textDe == 'GloveWP':\n",
    "    return 'GloVe-WP'\n",
    "  elif textDe == 'FastText':\n",
    "    return 'fastText'\n",
    "  elif textDe == 'GloveTW':\n",
    "    return 'GloVe-TWT'\n",
    "  elif textDe == 'Bert: bert-base-uncased / STATIC_AVG':\n",
    "    return 'Bert-static'\n",
    "  elif textDe == 'TFIDF':\n",
    "    return 'TF-IDF'\n",
    "  elif textDe == 'W2VAraque':\n",
    "    return 'w2v-Araque'\n",
    "  elif textDe == 'W2VEdin':\n",
    "    return 'w2v-Edin'\n",
    "  elif textDe == 'Roberta: roberta-base / STATIC_AVG':\n",
    "    return 'Roberta-static'\n",
    "\n",
    "  elif textDe == 'Roberta: roberta-base / CONTEXT_CONCAT':\n",
    "    return 'Roberta-context'\n",
    "  elif textDe == 'Bert: bert-base-uncased / CONTEXT_CONCAT':\n",
    "    return 'Bert-context'\n",
    "  \n",
    "  elif textDe == 'Roberta: ./Seed/RoBERTa-05-12-LM / CONTEXT_CONCAT':\n",
    "    return 'RoBERTa-0.5K'\n",
    "  elif textDe == 'Roberta: ./Seed/RoBERTa-1-12-LM / CONTEXT_CONCAT':\n",
    "    return 'RoBERTa-1K'\n",
    "  elif textDe == 'Roberta: ./Seed/RoBERTa-5-12-LM / CONTEXT_CONCAT':\n",
    "    return 'RoBERTa-5K'\n",
    "  elif textDe == 'Roberta: ./Seed/RoBERTa-10-12-LM / CONTEXT_CONCAT':\n",
    "    return 'RoBERTa-10K'\n",
    "  elif textDe == 'Roberta: ./Seed/RoBERTa-25-12-LM / CONTEXT_CONCAT':\n",
    "    return 'RoBERTa-25K'\n",
    "  elif textDe == 'Roberta: ./Seed/RoBERTa-50-12-LM / CONTEXT_CONCAT':\n",
    "    return 'RoBERTa-50K'\n",
    "  elif textDe == 'Roberta: ./Seed/RoBERTa-250-12-LM / CONTEXT_CONCAT':\n",
    "    return 'RoBERTa-250K'\n",
    "  elif textDe == \"Roberta: ./Seed/RoBERTa-500-12-LM / CONTEXT_CONCAT\":\n",
    "    return 'RoBERTa-500K'\n",
    "  elif textDe == 'Roberta: ./Seed/RoBERTa-1500-12-LM / CONTEXT_CONCAT':\n",
    "    return 'RoBERTa-1.5M'\n",
    "  elif textDe == 'Roberta: ./Seed/RoBERTa-6600-12-LM / CONTEXT_CONCAT':\n",
    "    return 'RoBERTa-6.6M'\n",
    "  \n",
    "\n",
    "  elif textDe == 'Bert: ./Seed/BERT-05-12-LM / CONTEXT_CONCAT':\n",
    "    return 'BERT-0.5K'\n",
    "  elif textDe == 'Bert: ./Seed/BERT-1-12-LM / CONTEXT_CONCAT':\n",
    "    return 'BERT-1K'\n",
    "  elif textDe == 'Bert: ./Seed/BERT-5-12-LM / CONTEXT_CONCAT':\n",
    "    return 'BERT-5K'\n",
    "  elif textDe == 'Bert: ./Seed/BERT-10-12-LM / CONTEXT_CONCAT':\n",
    "    return 'BERT-10K'\n",
    "  elif textDe == 'Bert: ./Seed/BERT-25-12-LM / CONTEXT_CONCAT':\n",
    "    return 'BERT-25K'\n",
    "  elif textDe == 'Bert: ./Seed/BERT-50-12-LM / CONTEXT_CONCAT':\n",
    "    return 'BERT-50K'\n",
    "  elif textDe == 'Bert: ./Seed/BERT-250-12-LM / CONTEXT_CONCAT':\n",
    "    return 'BERT-250K'\n",
    "  elif textDe == 'Bert: ./Seed/BERT-500-12-LM / CONTEXT_CONCAT':\n",
    "    return 'BERT-500K'\n",
    "  elif textDe == 'Bert: ./Seed/BERT-1500-12-LM / CONTEXT_CONCAT':\n",
    "    return 'BERT-1.5M'\n",
    "  elif textDe == 'Bert: ./Seed/BERT-6600-12-LM / CONTEXT_CONCAT':\n",
    "    return 'BERT-6.6M'\n",
    "\n",
    "  elif textDe == \"BERTweet_base_transformers_CONTEXT\":\n",
    "    return 'Bertweet-context'\n",
    "  elif textDe == \"./Seed/BERTweet-05-12-LM_CONTEXT\":\n",
    "    return 'BERTweet-0.5K'\n",
    "  elif textDe == \"./Seed/BERTweet-1-12-LM_CONTEXT\":\n",
    "    return 'BERTweet-1K'\n",
    "  elif textDe == \"./Seed/BERTweet-5-12-LM_CONTEXT\":\n",
    "    return 'BERTweet-5K'\n",
    "  elif textDe == \"./Seed/BERTweet-10-12-LM_CONTEXT\":\n",
    "    return 'BERTweet-10K'\n",
    "  elif textDe == \"./Seed/BERTweet-50-12-LM_CONTEXT\":\n",
    "    return 'BERTweet-50K'\n",
    "  elif textDe == \"./Seed/BERTweet-25-12-LM_CONTEXT\":\n",
    "    return 'BERTweet-25K'\n",
    "  elif textDe == \"./Seed/BERTweet-250-12-LM_CONTEXT\":\n",
    "    return 'BERTweet-250K'\n",
    "  elif textDe == \"./Seed/BERTweet-500-12-LM_CONTEXT\":\n",
    "    return 'BERTweet-500K'\n",
    "  elif textDe == \"./Seed/BERTweet-1500-12-LM_CONTEXT\":\n",
    "    return 'BERTweet\\_1.5M'\n",
    "  elif textDe == \"./Seed/BERTweet-6600-12-LM_CONTEXT\":\n",
    "    return 'BERTweet-6.6M'\n",
    "\n",
    "\n",
    "  else:\n",
    "    return textDe"
   ]
  },
  {
   "cell_type": "code",
   "execution_count": 3,
   "metadata": {
    "colab": {},
    "colab_type": "code",
    "executionInfo": {
     "elapsed": 1624,
     "status": "ok",
     "timestamp": 1595009919494,
     "user": {
      "displayName": "Ricardo Moura",
      "photoUrl": "https://lh3.googleusercontent.com/a-/AOh14Gh4BPVXR6IythXBJgaEEl5JosseAHCEwlRIxpBjww=s64",
      "userId": "10784804889662280666"
     },
     "user_tz": 180
    },
    "id": "9qVLCGH69TdW"
   },
   "outputs": [],
   "source": [
    "def deParaDatasetName(textDe):\n",
    "  if textDe == 'ntua':\n",
    "    return 'ntu'\n",
    "  elif textDe == 'SemEval15-Task11':\n",
    "    return 'S15'\n",
    "  elif textDe == 'iphone':\n",
    "    return 'iph'\n",
    "  elif textDe == 'Narr-KDML-2012':\n",
    "    return 'Nar'\n",
    "  elif textDe == 'VADER':\n",
    "    return 'Vad'\n",
    "  elif textDe == 'SemEval17-test':\n",
    "    return 'S17'\n",
    "  elif textDe == 'debate08':\n",
    "    return 'OMD'\n",
    "  elif textDe == 'irony':\n",
    "    return 'iro'\n",
    "  elif textDe == 'sarcasm':\n",
    "    return 'sar'\n",
    "  elif textDe == 'sentiment140':\n",
    "    return 'stm'\n",
    "  elif textDe == 'person':\n",
    "    return 'per'\n",
    "  elif textDe == 'hobbit':\n",
    "    return 'hob'\n",
    "  elif textDe == 'movie':\n",
    "    return 'mov'\n",
    "  elif textDe == 'sanders':\n",
    "    return 'san'\n",
    "  elif textDe == 'archeage':\n",
    "    return 'arc'\n",
    "  elif textDe == 'SemEval18':\n",
    "    return 'S18'\n",
    "  elif textDe == 'STS-gold':\n",
    "    return 'STS'\n",
    "  elif textDe == 'SentiStrength':\n",
    "    return 'SSt'\n",
    "  elif textDe == 'Target-dependent':\n",
    "    return 'Tar'\n",
    "  elif textDe == 'SemEval13':\n",
    "    return 'S13'\n",
    "  elif textDe == 'SemEval16':\n",
    "    return 'S16'\n",
    "  else:\n",
    "    return textDe"
   ]
  },
  {
   "cell_type": "code",
   "execution_count": 4,
   "metadata": {
    "colab": {},
    "colab_type": "code",
    "executionInfo": {
     "elapsed": 1276,
     "status": "ok",
     "timestamp": 1595009919509,
     "user": {
      "displayName": "Ricardo Moura",
      "photoUrl": "https://lh3.googleusercontent.com/a-/AOh14Gh4BPVXR6IythXBJgaEEl5JosseAHCEwlRIxpBjww=s64",
      "userId": "10784804889662280666"
     },
     "user_tz": 180
    },
    "id": "yRP2Qkz3-Wwq"
   },
   "outputs": [],
   "source": [
    "def montaTabelaLatex(df, metrica):\n",
    "  first = True\n",
    "  for ind in df.index:\n",
    "    if first == False:\n",
    "      print(\"\\\\rule{0pt}{3.0ex}\")\n",
    "    else:\n",
    "      first = False\n",
    "    print (str(df[\"Data_Set\"][ind])+'&'+str(df[metrica][ind])+'&'+str(df[\"Classifier_Model\"][ind])+'&'+str(df[\"Embedding\"][ind])+'\\\\\\\\')"
   ]
  },
  {
   "cell_type": "code",
   "execution_count": 5,
   "metadata": {},
   "outputs": [],
   "source": [
    "def monta_tabela_latex_top_rank_sum(df_acc, df_f1):\n",
    "  first = True\n",
    "  for ind in df_acc.index[:10]:\n",
    "    if first == False:\n",
    "      print(\"\\\\rule{0pt}{3.0ex}\")\n",
    "    else:\n",
    "      first = False\n",
    "    print (str(df_acc[\"Embedding\"][ind])+'&'+str(df_acc[\"Classifier_Model\"][ind])+'&' \\\n",
    "           +str(round(df_acc['rank'][ind]/22,2))+'&'+str(df_f1[\"Embedding\"][ind])+'&' \\\n",
    "           +str(df_f1[\"Classifier_Model\"][ind])+'&'+str(round(df_f1['rank'][ind]/22,2))+ \\\n",
    "           '\\\\\\\\')\n",
    "           "
   ]
  },
  {
   "cell_type": "code",
   "execution_count": 6,
   "metadata": {},
   "outputs": [],
   "source": [
    "def monta_tabela_latex_top_rank_sum_class(df_acc, df_f1):\n",
    "  first = True\n",
    "  for ind in df_acc.index:\n",
    "    if first == False:\n",
    "      print(\"\\\\rule{0pt}{3.0ex}\")\n",
    "    else:\n",
    "      first = False\n",
    "    print (str(df_acc[\"Classifier_Model\"][ind])+'&' \\\n",
    "           +str(round(df_acc['rank'][ind]/220,2))+'&' \\\n",
    "           +str(df_f1[\"Classifier_Model\"][ind])+'&'+str(round(df_f1['rank'][ind]/66,2))+ \\\n",
    "           '\\\\\\\\')"
   ]
  },
  {
   "cell_type": "code",
   "execution_count": 7,
   "metadata": {},
   "outputs": [],
   "source": [
    "def monta_tabela_latex_top_rank_sum_emb(df_acc, df_f1):\n",
    "  first = True\n",
    "  for ind in df_acc.index:\n",
    "    if first == False:\n",
    "      print(\"\\\\rule{0pt}{3.0ex}\")\n",
    "    else:\n",
    "      first = False\n",
    "    print (str(df_acc[\"Embedding\"][ind])+'&' \\\n",
    "           +str(round(df_acc['rank'][ind]/110,2))+'&'+str(df_f1[\"Embedding\"][ind])+'&' \\\n",
    "           +str(round(df_f1['rank'][ind]/110,2))+ \\\n",
    "           '\\\\\\\\')"
   ]
  },
  {
   "cell_type": "code",
   "execution_count": 8,
   "metadata": {},
   "outputs": [],
   "source": [
    "def montaTabelaLatexNew(df_acc, df_f1):\n",
    "  first = True\n",
    "  for ind in df_acc.index:\n",
    "    if first == False:\n",
    "      print(\"\\\\rule{0pt}{3.0ex}\")\n",
    "    else:\n",
    "      first = False\n",
    "    print (str(df_acc[\"Data_Set\"][ind])+'&'+str(round(df_acc['accuracy'][ind],2))+'&'+str(df_acc[\"Classifier_Model\"][ind])+'&'+str(df_acc[\"Embedding\"][ind])+'&'+str(round(df_f1['f1_macro'][ind],2))+'&'+str(df_f1[\"Classifier_Model\"][ind])+'&'+str(df_f1[\"Embedding\"][ind])+'\\\\\\\\')\n",
    "      "
   ]
  },
  {
   "cell_type": "code",
   "execution_count": 9,
   "metadata": {
    "colab": {},
    "colab_type": "code",
    "executionInfo": {
     "elapsed": 1585,
     "status": "ok",
     "timestamp": 1595009919495,
     "user": {
      "displayName": "Ricardo Moura",
      "photoUrl": "https://lh3.googleusercontent.com/a-/AOh14Gh4BPVXR6IythXBJgaEEl5JosseAHCEwlRIxpBjww=s64",
      "userId": "10784804889662280666"
     },
     "user_tz": 180
    },
    "id": "PhS6C9E152Xr"
   },
   "outputs": [],
   "source": [
    "import glob\n",
    "import pandas as pd\n",
    "import numpy as np\n",
    "\n",
    "\n",
    "########## Estatico ##########\n",
    "dfStatic = pd.read_csv(glob.glob(\"staticLM/Pivot_tables/Final_Result_StaticLM_*.csv\")[0], sep=\",\")\n",
    "dfStatic = dfStatic[dfStatic['Embedding']=='BERTweet_base_transformers_STATIC']\n",
    "\n",
    "dfstatic_ = pd.read_csv(glob.glob(\"staticLM/Pivot_tables/Final_Result_staticLM_*.csv\")[0], sep=\",\")\n",
    "dfstatic = dfstatic_[(dfstatic_['Embedding']!='BERTweet_base_transformers_STATIC') &\n",
    "                    (dfstatic_['Classifier_Model']!='XGboost')]\n",
    "\n",
    "df_btw_static = pd.read_csv(glob.glob(\"staticXgbLM/Pivot_tables/Final_Result_staticXgbLM_*.csv\")[0], sep=\",\")\n",
    "df_btw_static = df_btw_static[df_btw_static['Embedding']!='BERTweet_base_transformers_STATIC']\n",
    "\n",
    "\n",
    "'''dfstatic = pd.read_csv(glob.glob(\"staticLM/Pivot_tables/Final_Result_staticLM_*.csv\")[0], sep=\",\")\n",
    "dfstatic = dfstatic[dfstatic['Classifier_Model']!='XGboost']\n",
    "df_btw_static = pd.read_csv(glob.glob(\"staticXgbLM/Pivot_tables/Final_Result_*.csv\")[0], sep=\",\")\n",
    "'''#df_btw_static = df_btw_static[df_btw_static['Embedding']=='BERTweet_base_transformers_STATIC']\n",
    "\n",
    "########## Contextualizado ##########\n",
    "df_roberta = pd.read_csv(glob.glob(\"./RoBERTa/Pivot_tables/Final_Result_*.csv\")[0],sep=\",\")\n",
    "df_bert = pd.read_csv(glob.glob(\"./BERT/Pivot_tables/Final_Result_*.csv\")[0],sep=\",\")\n",
    "df_bertweet = pd.read_csv(glob.glob(\"./BERTweet/Pivot_tables/Final_Result_*.csv\")[0],sep=\",\")\n",
    "tag=''\n",
    "\n",
    "############## FT LOO ##################\n",
    "df_LOO_bt = pd.read_csv(glob.glob(\"./LOO/BERTweet-LM/Final\"+str(tag)+\"*.csv\")[0], sep=\",\")\n",
    "df_LOO_bt['accuracy'] = round(df_LOO_bt['accuracy']/100,2)\n",
    "df_LOO_bt['f1_macro'] = round(df_LOO_bt['f1_macro']/100,2)\n",
    "\n",
    "df_LOO_br = pd.read_csv(glob.glob(\"./LOO/BERT-LM/Final\"+str(tag)+\"*.csv\")[0], sep=\",\")\n",
    "df_LOO_br['accuracy'] = round(df_LOO_br['accuracy']/100,2)\n",
    "df_LOO_br['f1_macro'] = round(df_LOO_br['f1_macro']/100,2)\n",
    "\n",
    "df_LOO_rb = pd.read_csv(glob.glob(\"./LOO/RoBERTa-LM/Final\"+str(tag)+\"*.csv\")[0], sep=\",\")\n",
    "df_LOO_rb['accuracy'] = round(df_LOO_rb['accuracy']/100,2)\n",
    "df_LOO_rb['f1_macro'] = round(df_LOO_rb['f1_macro']/100,2)\n",
    "\n",
    "\n",
    "############### FT 22DT ##############3\n",
    "\n",
    "df_22dt_rb = pd.read_csv(glob.glob(\"/Users/sergiojunior/sentiment-embeddings/scripts_artigo/22Dt/RoBERTa-LM/Final_Result*.csv\")[0], sep=\",\")\n",
    "\n",
    "df_22dt_br = pd.read_csv(glob.glob(\"/Users/sergiojunior/sentiment-embeddings/scripts_artigo/22Dt/BERT-LM/Final_Result*.csv\")[0], sep=\",\")\n",
    "\n",
    "df_22dt_bt = pd.read_csv(glob.glob(\"/Users/sergiojunior/sentiment-embeddings/scripts_artigo/22Dt/BERTweet-LM/Final_Result*.csv\")[0], sep=\",\")\n",
    "\n",
    "############## FT Indata #################\n",
    "\n",
    "df_Indata_bt = pd.read_csv(glob.glob(\"./InData/BERTweet-LM/Final\"+str(tag)+\"*.csv\")[0], sep=\",\")\n",
    "\n",
    "df_Indata_br = pd.read_csv(glob.glob(\"./InData/BERT-LM/Final\"+str(tag)+\"*.csv\")[0], sep=\",\")\n",
    "\n",
    "df_Indata_rb = pd.read_csv(glob.glob(\"./InData/RoBERTa-LM/Final\"+str(tag)+\"*.csv\")[0], sep=\",\")\n",
    "\n",
    "############# FT RoBERTa ##############\n",
    "\n",
    "df_edin_bt_05 = pd.read_csv(glob.glob(\"./Edin/BERTweet-05-LM/Final\"+str(tag)+\"*_.csv\")[0], sep=\",\")\n",
    "df_edin_bt_1 = pd.read_csv(glob.glob(\"./Edin/BERTweet-1-LM/Final\"+str(tag)+\"*_.csv\")[0], sep=\",\")\n",
    "df_edin_bt_5 = pd.read_csv(glob.glob(\"./Edin/BERTweet-5-LM/Final\"+str(tag)+\"*_.csv\")[0], sep=\",\")\n",
    "df_edin_bt_10 = pd.read_csv(glob.glob(\"./Edin/BERTweet-10-LM/Final\"+str(tag)+\"*_.csv\")[0], sep=\",\")\n",
    "df_edin_bt_25 = pd.read_csv(glob.glob(\"./Edin/BERTweet-25-LM/Final\"+str(tag)+\"*_.csv\")[0], sep=\",\")\n",
    "df_edin_bt_50 = pd.read_csv(glob.glob(\"./Edin/BERTweet-50-LM/Final\"+str(tag)+\"*_.csv\")[0], sep=\",\")\n",
    "df_edin_bt_250 = pd.read_csv(glob.glob(\"./Edin/BERTweet-250-LM/Final\"+str(tag)+\"*_.csv\")[0], sep=\",\")\n",
    "df_edin_bt_500 = pd.read_csv(glob.glob(\"./Edin/BERTweet-500-LM/Final\"+str(tag)+\"*_.csv\")[0],sep=\",\")\n",
    "df_edin_bt_1500 = pd.read_csv(glob.glob(\"./Edin/BERTweet-1500-LM/Final\"+str(tag)+\"*_.csv\")[0], sep=\",\")\n",
    "df_edin_bt_6600 = pd.read_csv(glob.glob(\"./Edin/BERTweet-6600-LM/Final\"+str(tag)+\"*_.csv\")[0], sep=\",\")\n",
    "\n",
    "df_edin_bert_05 = pd.read_csv(glob.glob(\"./Edin/BERT-05-LM/Final\"+str(tag)+\"*_.csv\")[0],sep=\",\")\n",
    "df_edin_bert_1 = pd.read_csv(glob.glob(\"./Edin/BERT-1-LM/Final\"+str(tag)+\"*_.csv\")[0],sep=\",\")\n",
    "df_edin_bert_5 = pd.read_csv(glob.glob(\"./Edin/BERT-5-LM/Final\"+str(tag)+\"*_.csv\")[0],sep=\",\")\n",
    "df_edin_bert_10 = pd.read_csv(glob.glob(\"./Edin/BERT-10-LM/Final\"+str(tag)+\"*_.csv\")[0],sep=\",\")\n",
    "df_edin_bert_25 = pd.read_csv(glob.glob(\"./Edin/BERT-25-LM/Final\"+str(tag)+\"*_.csv\")[0],sep=\",\")\n",
    "df_edin_bert_50 = pd.read_csv(glob.glob(\"./Edin/BERT-50-LM/Final\"+str(tag)+\"*_.csv\")[0],sep=\",\")\n",
    "df_edin_bert_250 = pd.read_csv(glob.glob(\"./Edin/BERT-250-LM/Final\"+str(tag)+\"*_.csv\")[0], sep=\",\")\n",
    "df_edin_bert_500 = pd.read_csv(glob.glob(\"./Edin/BERT-500-LM/Final\"+str(tag)+\"*_.csv\")[0],sep=\",\")\n",
    "df_edin_bert_1500 = pd.read_csv(glob.glob(\"./Edin/BERT-1500-LM/Final\"+str(tag)+\"*_.csv\")[0], sep=\",\")\n",
    "df_edin_bert_6600 = pd.read_csv(glob.glob(\"./Edin/BERT-6600-LM/Final\"+str(tag)+\"*_.csv\")[0], sep=\",\")\n",
    "\n",
    "df_edin_rob_05 = pd.read_csv(glob.glob(\"./Edin/RoBERTa-05-LM/Final\"+str(tag)+\"*_.csv\")[0],sep=\",\")\n",
    "df_edin_rob_1 = pd.read_csv(glob.glob(\"./Edin/RoBERTa-1-LM/Final\"+str(tag)+\"*_.csv\")[0],sep=\",\")\n",
    "df_edin_rob_5 = pd.read_csv(glob.glob(\"./Edin/RoBERTa-5-LM/Final\"+str(tag)+\"*_.csv\")[0],sep=\",\")\n",
    "df_edin_rob_10 = pd.read_csv(glob.glob(\"./Edin/RoBERTa-10-LM/Final\"+str(tag)+\"*_.csv\")[0],sep=\",\")\n",
    "df_edin_rob_25 = pd.read_csv(glob.glob(\"./Edin/RoBERTa-25-LM/Final\"+str(tag)+\"*_.csv\")[0],sep=\",\")\n",
    "df_edin_rob_50 = pd.read_csv(glob.glob(\"./Edin/RoBERTa-50-LM/Final\"+str(tag)+\"*_.csv\")[0],sep=\",\")\n",
    "df_edin_rob_250 = pd.read_csv(glob.glob(\"./Edin/RoBERTa-250-LM/Final\"+str(tag)+\"*_.csv\")[0], sep=\",\")\n",
    "df_edin_rob_500 = pd.read_csv(glob.glob(\"./Edin/RoBERTa-500-LM/Final\"+str(tag)+\"*_.csv\")[0],sep=\",\")\n",
    "df_edin_rob_1500 = pd.read_csv(glob.glob(\"./Edin/RoBERTa-1500-LM/Final\"+str(tag)+\"*_.csv\")[0], sep=\",\")\n",
    "df_edin_rob_6600 = pd.read_csv(glob.glob(\"./Edin/RoBERTa-6600-LM/Final\"+str(tag)+\"*_.csv\")[0], sep=\",\")"
   ]
  },
  {
   "cell_type": "code",
   "execution_count": 10,
   "metadata": {},
   "outputs": [],
   "source": [
    "df_edin_bert_1['Data_Set']=df_edin_bert_1[\"Data_Set\"].apply(deParaDatasetName)\n",
    "#df_edin_bert_1['Data_Set'] = df_edin_bert_1['Data_Set'].map(str)\n",
    "#balance['Data_Set'] = balance['Data_Set'].map(str)\n",
    "#df_edin_bert_1_ = df_edin_bert_1.merge(balance,how='left')\n"
   ]
  },
  {
   "cell_type": "code",
   "execution_count": 11,
   "metadata": {
    "colab": {},
    "colab_type": "code",
    "executionInfo": {
     "elapsed": 1494,
     "status": "ok",
     "timestamp": 1595009919500,
     "user": {
      "displayName": "Ricardo Moura",
      "photoUrl": "https://lh3.googleusercontent.com/a-/AOh14Gh4BPVXR6IythXBJgaEEl5JosseAHCEwlRIxpBjww=s64",
      "userId": "10784804889662280666"
     },
     "user_tz": 180
    },
    "id": "NCf2vK6MNjkR"
   },
   "outputs": [
    {
     "data": {
      "text/plain": [
       "'frames = [dfstatic,df_btw_static,df_roberta,df_bert,df_bertweet,           df_edin_bt_05,df_edin_bt_1,df_edin_bt_5,df_edin_bt_10,df_edin_bt_25,df_edin_bt_50,df_edin_bt_250,df_edin_bt_500,df_edin_bt_1500,df_edin_bt_6600,           df_LOO_bt,df_Indata_bt,df_22dt_bt,           df_edin_rob_05,df_edin_rob_1,df_edin_rob_5,df_edin_rob_10,df_edin_rob_25,df_edin_rob_50,df_edin_rob_250,df_edin_rob_500,df_edin_rob_1500,df_edin_rob_6600,           df_edin_bert_05,df_edin_bert_1,df_edin_bert_5,df_edin_bert_10,df_edin_bert_25,df_edin_bert_50,df_edin_bert_250,df_edin_bert_500,df_edin_bert_1500,df_edin_bert_6600,           df_Indata_rb,df_Indata_br,df_LOO_br,df_LOO_rb,df_22dt_br,df_22dt_rb]\\n'"
      ]
     },
     "execution_count": 11,
     "metadata": {},
     "output_type": "execute_result"
    }
   ],
   "source": [
    "#frames = [dfstatic,df_btw_static,df_roberta,df_bert,df_bertweet,df_edin_rob_5,df_edin_rob_10,df_edin_rob_25,df_edin_rob_50,df_edin_rob_250,df_edin_rob_500,df_edin_rob_1500,df_edin_rob_6600,df_edin_bert_5,df_edin_bert_10,df_edin_bert_25,df_edin_bert_50,df_edin_bert_250,df_edin_bert_500,df_edin_bert_1500,df_edin_bert_6600,df_edin_bt_5,df_edin_bt_10,df_edin_bt_25,df_edin_bt_50,df_edin_bt_250,df_edin_bt_500,df_edin_bt_1500,df_edin_bt_1500,df_edin_bt_6600,df_Indata_rb,df_Indata_br,df_Indata_bt,df_LOO_br,df_LOO_rb,df_LOO_bt,df_22dt_br,df_22dt_rb,df_22dt_bt]\n",
    "#frames = [df_bertweet,df_22dt_bt,df_22dt_br,df_22dt_rb,df_LOO_bt,df_LOO_br,df_LOO_rb,df_Indata_br,df_Indata_rb,df_Indata_bt,df_edin_bt_5,df_edin_bt_10,df_edin_bt_25,df_edin_bt_50,df_edin_bt_250,df_edin_bt_500,df_edin_bt_1500,df_edin_bt_1500,df_edin_bt_6600]\n",
    "\n",
    "#Static\n",
    "#frames = [dfstatic, dfStatic,df_btw_static]\n",
    "\n",
    "#Static\n",
    "#frames = [df_roberta,df_bert,df_bertweet]\n",
    "\n",
    "#best context vs static\n",
    "#frames = [dfstatic, dfStatic,df_btw_static,df_roberta,df_bert,df_bertweet ]\n",
    "\n",
    "#roberta vs roberta tunado\n",
    "#frames = [df_roberta,df_edin_rob_05,df_edin_rob_1,df_edin_rob_5,df_edin_rob_10,df_edin_rob_25,df_edin_rob_50,df_edin_rob_250,df_edin_rob_500,df_edin_rob_1500,df_edin_rob_6600,df_LOO_rb,df_Indata_rb,df_22dt_rb]\n",
    "\n",
    "#bert vs bert tunado\n",
    "#frames = [df_bert,df_edin_bert_05,df_edin_bert_1,df_edin_bert_5,df_edin_bert_10,df_edin_bert_25,df_edin_bert_50,df_edin_bert_250,df_edin_bert_500,df_edin_bert_1500,df_edin_bert_6600,df_LOO_br,df_Indata_br,df_22dt_br]\n",
    "\n",
    "#bertweet vs bertweet tunado\n",
    "#frames = [df_bertweet,df_edin_bt_05,df_edin_bt_1,df_edin_bt_5,df_edin_bt_10,df_edin_bt_25,df_edin_bt_50,df_edin_bt_250,df_edin_bt_500,df_edin_bt_1500,df_edin_bt_6600,df_LOO_bt,df_Indata_bt,df_22dt_bt]\n",
    "\n",
    "#bertweet vs todos modelos\n",
    "#frames = [df_bertweet,df_edin_rob_05,df_edin_rob_1,df_edin_rob_5,df_edin_rob_10,df_edin_rob_25,df_edin_rob_50,df_edin_rob_250,df_edin_rob_500,df_edin_rob_1500,df_edin_rob_6600,df_edin_bert_05,df_edin_bert_1,df_edin_bert_5,df_edin_bert_10,df_edin_bert_25,df_edin_bert_50,df_edin_bert_250,df_edin_bert_500,df_edin_bert_1500,df_edin_bert_6600,df_Indata_rb,df_Indata_br,df_LOO_br,df_LOO_rb,df_22dt_br,df_22dt_rb]\n",
    "\n",
    "#Best indata, LOO, 22dataset\n",
    "#frames = [df_Indata_rb,df_Indata_br,df_Indata_bt,df_LOO_br,df_LOO_bt,df_LOO_rb,df_22dt_br,df_22dt_rb,df_22dt_bt]\n",
    "#frames = [df_Indata_bt,df_LOO_bt,df_22dt_bt]\n",
    "\n",
    "#BEST OVER ALL FINE TUNING sem sentimento\n",
    "'''frames = [df_edin_bt_05,df_edin_bt_1,df_edin_bt_5,df_edin_bt_10,df_edin_bt_25,df_edin_bt_50,df_edin_bt_250,df_edin_bt_500,df_edin_bt_1500,df_edin_bt_6600, \\\n",
    "          df_edin_rob_05,df_edin_rob_1,df_edin_rob_5,df_edin_rob_10,df_edin_rob_25,df_edin_rob_50,df_edin_rob_250,df_edin_rob_500,df_edin_rob_1500,df_edin_rob_6600, \\\n",
    "          df_edin_bert_05,df_edin_bert_1,df_edin_bert_5,df_edin_bert_10,df_edin_bert_25,df_edin_bert_50,df_edin_bert_250,df_edin_bert_500,df_edin_bert_1500,df_edin_bert_6600]\n",
    "'''\n",
    "\n",
    "#BEST OVER ALL FINE TUNING\n",
    "frames = [df_edin_bt_05,df_edin_bt_1,df_edin_bt_5,df_edin_bt_10,df_edin_bt_25,df_edin_bt_50,df_edin_bt_250,df_edin_bt_500,df_edin_bt_1500,df_edin_bt_6600, \\\n",
    "          df_edin_rob_05,df_edin_rob_1,df_edin_rob_5,df_edin_rob_10,df_edin_rob_25,df_edin_rob_50,df_edin_rob_250,df_edin_rob_500,df_edin_rob_1500,df_edin_rob_6600, \\\n",
    "          df_edin_bert_05,df_edin_bert_1,df_edin_bert_5,df_edin_bert_10,df_edin_bert_25,df_edin_bert_50,df_edin_bert_250,df_edin_bert_500,df_edin_bert_1500,df_edin_bert_6600]\n",
    "\n",
    "#BEST OVER ALL MODELS\n",
    "'''frames = [dfstatic,df_btw_static,df_roberta,df_bert,df_bertweet, \\\n",
    "          df_edin_bt_05,df_edin_bt_1,df_edin_bt_5,df_edin_bt_10,df_edin_bt_25,df_edin_bt_50,df_edin_bt_250,df_edin_bt_500,df_edin_bt_1500,df_edin_bt_6600, \\\n",
    "          df_LOO_bt,df_Indata_bt,df_22dt_bt, \\\n",
    "          df_edin_rob_05,df_edin_rob_1,df_edin_rob_5,df_edin_rob_10,df_edin_rob_25,df_edin_rob_50,df_edin_rob_250,df_edin_rob_500,df_edin_rob_1500,df_edin_rob_6600, \\\n",
    "          df_edin_bert_05,df_edin_bert_1,df_edin_bert_5,df_edin_bert_10,df_edin_bert_25,df_edin_bert_50,df_edin_bert_250,df_edin_bert_500,df_edin_bert_1500,df_edin_bert_6600, \\\n",
    "          df_Indata_rb,df_Indata_br,df_LOO_br,df_LOO_rb,df_22dt_br,df_22dt_rb]\n",
    "'''"
   ]
  },
  {
   "cell_type": "code",
   "execution_count": 12,
   "metadata": {
    "colab": {},
    "colab_type": "code",
    "executionInfo": {
     "elapsed": 1465,
     "status": "ok",
     "timestamp": 1595009919501,
     "user": {
      "displayName": "Ricardo Moura",
      "photoUrl": "https://lh3.googleusercontent.com/a-/AOh14Gh4BPVXR6IythXBJgaEEl5JosseAHCEwlRIxpBjww=s64",
      "userId": "10784804889662280666"
     },
     "user_tz": 180
    },
    "id": "IwrQ3coXNuIe"
   },
   "outputs": [],
   "source": [
    "result = pd.concat(frames)"
   ]
  },
  {
   "cell_type": "code",
   "execution_count": 13,
   "metadata": {
    "colab": {},
    "colab_type": "code",
    "executionInfo": {
     "elapsed": 1450,
     "status": "ok",
     "timestamp": 1595009919502,
     "user": {
      "displayName": "Ricardo Moura",
      "photoUrl": "https://lh3.googleusercontent.com/a-/AOh14Gh4BPVXR6IythXBJgaEEl5JosseAHCEwlRIxpBjww=s64",
      "userId": "10784804889662280666"
     },
     "user_tz": 180
    },
    "id": "SkBoFHgNwndl"
   },
   "outputs": [],
   "source": [
    "result[[\"accuracy\", \"f1_macro\"]] = result[[\"accuracy\", \"f1_macro\"]].apply(pd.to_numeric)"
   ]
  },
  {
   "cell_type": "code",
   "execution_count": 14,
   "metadata": {
    "colab": {},
    "colab_type": "code",
    "executionInfo": {
     "elapsed": 1381,
     "status": "ok",
     "timestamp": 1595009919504,
     "user": {
      "displayName": "Ricardo Moura",
      "photoUrl": "https://lh3.googleusercontent.com/a-/AOh14Gh4BPVXR6IythXBJgaEEl5JosseAHCEwlRIxpBjww=s64",
      "userId": "10784804889662280666"
     },
     "user_tz": 180
    },
    "id": "05WFV64O2zJN"
   },
   "outputs": [],
   "source": [
    "result[\"Data_Set\"] = result[\"Data_Set\"].apply(deParaDatasetName)\n",
    "result[\"Embedding\"] = result[\"Embedding\"].apply(deParaEmbeddingName)\n",
    "result[\"Classifier_Model\"] = result[\"Classifier_Model\"].apply(deParaClassifierName)\n",
    "result['Emb+Class'] = result[\"Embedding\"] + \"-\"+result[\"Classifier_Model\"]"
   ]
  },
  {
   "cell_type": "code",
   "execution_count": 15,
   "metadata": {
    "colab": {},
    "colab_type": "code",
    "executionInfo": {
     "elapsed": 1301,
     "status": "ok",
     "timestamp": 1595009919508,
     "user": {
      "displayName": "Ricardo Moura",
      "photoUrl": "https://lh3.googleusercontent.com/a-/AOh14Gh4BPVXR6IythXBJgaEEl5JosseAHCEwlRIxpBjww=s64",
      "userId": "10784804889662280666"
     },
     "user_tz": 180
    },
    "id": "n2i9Vw-ahUnG"
   },
   "outputs": [],
   "source": [
    "result_acc = result.sort_values(by=['Data_Set', 'accuracy'], ascending=False)\n",
    "result_f1 = result.sort_values(by=['Data_Set', 'f1_macro'], ascending=False)\n"
   ]
  },
  {
   "cell_type": "code",
   "execution_count": 16,
   "metadata": {},
   "outputs": [],
   "source": [
    "result_acc[\"rank\"] = result_acc.groupby(\"Data_Set\")[\"accuracy\"].rank(\"average\", ascending=False)\n",
    "result_f1[\"rank\"] = result_f1.groupby(\"Data_Set\")[\"f1_macro\"].rank(\"average\", ascending=False)"
   ]
  },
  {
   "cell_type": "code",
   "execution_count": 17,
   "metadata": {
    "scrolled": false
   },
   "outputs": [],
   "source": [
    "#pivot_acc = pd.pivot_table(result_acc, values='rank', index=['Data_Set'],columns=['Embedding'], aggfunc=np.sum)\n",
    "#pivot_af1 = pd.pivot_table(result_f1, values='rank', index=['Data_Set'],columns=['Embedding'], aggfunc=np.sum)"
   ]
  },
  {
   "cell_type": "code",
   "execution_count": 18,
   "metadata": {},
   "outputs": [
    {
     "name": "stdout",
     "output_type": "stream",
     "text": [
      "BERTweet-5K&LR&11.95&BERTweet-5K&LR&11.18\\\\\n",
      "\\rule{0pt}{3.0ex}\n",
      "BERTweet-5K&MLP&14.05&BERTweet-25K&SVM&13.43\\\\\n",
      "\\rule{0pt}{3.0ex}\n",
      "BERTweet-25K&MLP&14.64&BERTweet-10K&SVM&13.95\\\\\n",
      "\\rule{0pt}{3.0ex}\n",
      "BERTweet-25K&LR&16.14&BERTweet-10K&LR&14.2\\\\\n",
      "\\rule{0pt}{3.0ex}\n",
      "BERTweet-50K&MLP&16.43&BERTweet-25K&LR&14.32\\\\\n",
      "\\rule{0pt}{3.0ex}\n",
      "BERTweet-1K&MLP&16.77&BERTweet-1K&LR&15.11\\\\\n",
      "\\rule{0pt}{3.0ex}\n",
      "BERTweet-10K&LR&16.82&BERTweet-5K&MLP&15.95\\\\\n",
      "\\rule{0pt}{3.0ex}\n",
      "BERTweet-25K&SVM&17.02&BERTweet-25K&MLP&16.11\\\\\n",
      "\\rule{0pt}{3.0ex}\n",
      "BERTweet-1K&LR&17.68&BERTweet-50K&LR&16.8\\\\\n",
      "\\rule{0pt}{3.0ex}\n",
      "BERTweet-10K&SVM&17.93&BERTweet-50K&SVM&17.43\\\\\n"
     ]
    }
   ],
   "source": [
    "acc = result_acc.groupby(by=[\"Embedding\",\"Classifier_Model\"]).sum()['rank'].sort_values().reset_index()\n",
    "f1 = result_f1.groupby(by=[\"Embedding\",\"Classifier_Model\"]).sum()['rank'].sort_values().reset_index()\n",
    "monta_tabela_latex_top_rank_sum(acc,f1)\n"
   ]
  },
  {
   "cell_type": "code",
   "execution_count": 19,
   "metadata": {},
   "outputs": [
    {
     "name": "stdout",
     "output_type": "stream",
     "text": [
      "MLP&145.56&LR&487.13\\\\\n",
      "\\rule{0pt}{3.0ex}\n",
      "LR&159.5&MLP&499.25\\\\\n",
      "\\rule{0pt}{3.0ex}\n",
      "SVM&212.22&SVM&608.3\\\\\n",
      "\\rule{0pt}{3.0ex}\n",
      "Xgb&254.69&Xgb&931.64\\\\\n",
      "\\rule{0pt}{3.0ex}\n",
      "RF&360.54&RF&1248.67\\\\\n"
     ]
    }
   ],
   "source": [
    "acc = result_acc.groupby(by=[\"Classifier_Model\"]).sum()['rank'].sort_values().reset_index()\n",
    "f1 = result_f1.groupby(by=[\"Classifier_Model\"]).sum()['rank'].sort_values().reset_index()\n",
    "monta_tabela_latex_top_rank_sum_class(acc,f1)"
   ]
  },
  {
   "cell_type": "code",
   "execution_count": 20,
   "metadata": {},
   "outputs": [
    {
     "name": "stdout",
     "output_type": "stream",
     "text": [
      "BERTweet-5K&37.76&BERTweet-5K&40.13\\\\\n",
      "\\rule{0pt}{3.0ex}\n",
      "BERTweet-10K&40.81&BERTweet-10K&43.27\\\\\n",
      "\\rule{0pt}{3.0ex}\n",
      "BERTweet-25K&41.24&BERTweet-25K&43.8\\\\\n",
      "\\rule{0pt}{3.0ex}\n",
      "BERTweet-1K&43.09&BERTweet-1K&44.78\\\\\n",
      "\\rule{0pt}{3.0ex}\n",
      "BERTweet-50K&45.22&BERTweet-50K&47.42\\\\\n",
      "\\rule{0pt}{3.0ex}\n",
      "BERTweet-250K&48.65&BERTweet-250K&50.19\\\\\n",
      "\\rule{0pt}{3.0ex}\n",
      "BERTweet-500K&53.96&BERTweet-500K&55.59\\\\\n",
      "\\rule{0pt}{3.0ex}\n",
      "BERTweet-05K&58.0&BERTweet-05K&59.59\\\\\n",
      "\\rule{0pt}{3.0ex}\n",
      "BERTweet-1500K&66.63&BERTweet-1500K&66.48\\\\\n",
      "\\rule{0pt}{3.0ex}\n",
      "BERTweet-6600K&71.09&BERTweet-6600K&70.46\\\\\n",
      "\\rule{0pt}{3.0ex}\n",
      "RoBERTa-50K&74.31&RoBERTa-50K&73.55\\\\\n",
      "\\rule{0pt}{3.0ex}\n",
      "RoBERTa-500K&74.75&RoBERTa-1500K&74.35\\\\\n",
      "\\rule{0pt}{3.0ex}\n",
      "RoBERTa-1500K&75.02&RoBERTa-500K&75.01\\\\\n",
      "\\rule{0pt}{3.0ex}\n",
      "RoBERTa-5K&77.03&RoBERTa-250K&77.16\\\\\n",
      "\\rule{0pt}{3.0ex}\n",
      "RoBERTa-250K&77.68&RoBERTa-5K&77.27\\\\\n",
      "\\rule{0pt}{3.0ex}\n",
      "RoBERTa-25K&79.08&RoBERTa-25K&79.95\\\\\n",
      "\\rule{0pt}{3.0ex}\n",
      "RoBERTa-10K&80.6&RoBERTa-10K&80.32\\\\\n",
      "\\rule{0pt}{3.0ex}\n",
      "RoBERTa-1K&85.81&RoBERTa-1K&84.5\\\\\n",
      "\\rule{0pt}{3.0ex}\n",
      "RoBERTa-05K&91.13&BERT-1500K&89.38\\\\\n",
      "\\rule{0pt}{3.0ex}\n",
      "BERT-1500K&91.32&RoBERTa-05K&90.13\\\\\n",
      "\\rule{0pt}{3.0ex}\n",
      "BERT-250K&91.56&BERT-250K&90.35\\\\\n",
      "\\rule{0pt}{3.0ex}\n",
      "BERT-500K&92.78&BERT-500K&90.63\\\\\n",
      "\\rule{0pt}{3.0ex}\n",
      "RoBERTa-6600K&93.48&BERT-6600K&91.11\\\\\n",
      "\\rule{0pt}{3.0ex}\n",
      "BERT-6600K&93.68&RoBERTa-6600K&91.34\\\\\n",
      "\\rule{0pt}{3.0ex}\n",
      "BERT-5K&94.29&BERT-50K&94.32\\\\\n",
      "\\rule{0pt}{3.0ex}\n",
      "BERT-50K&95.47&BERT-5K&94.56\\\\\n",
      "\\rule{0pt}{3.0ex}\n",
      "BERT-05K&95.59&BERT-05K&95.21\\\\\n",
      "\\rule{0pt}{3.0ex}\n",
      "BERT-1K&96.78&BERT-1K&97.29\\\\\n",
      "\\rule{0pt}{3.0ex}\n",
      "BERT-25K&98.78&BERT-25K&98.21\\\\\n",
      "\\rule{0pt}{3.0ex}\n",
      "BERT-10K&99.42&BERT-10K&98.65\\\\\n"
     ]
    }
   ],
   "source": [
    "acc = result_acc.groupby(by=[\"Embedding\"]).sum()['rank'].sort_values().reset_index()\n",
    "f1 = result_f1.groupby(by=[\"Embedding\"]).sum()['rank'].sort_values().reset_index()\n",
    "monta_tabela_latex_top_rank_sum_emb(acc,f1)"
   ]
  }
 ],
 "metadata": {
  "colab": {
   "authorship_tag": "ABX9TyNu7AB0kwJRPr+r17jbMTv3",
   "collapsed_sections": [],
   "mount_file_id": "18YqNJ9EiloCFcgw03FIBpEvdUpPY5fCt",
   "name": "organize_result_bestoverall.ipynb",
   "provenance": []
  },
  "kernelspec": {
   "display_name": "Python 3",
   "language": "python",
   "name": "python3"
  },
  "language_info": {
   "codemirror_mode": {
    "name": "ipython",
    "version": 3
   },
   "file_extension": ".py",
   "mimetype": "text/x-python",
   "name": "python",
   "nbconvert_exporter": "python",
   "pygments_lexer": "ipython3",
   "version": "3.7.7"
  }
 },
 "nbformat": 4,
 "nbformat_minor": 1
}
