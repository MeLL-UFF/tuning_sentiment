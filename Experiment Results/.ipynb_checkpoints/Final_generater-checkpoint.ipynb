{
 "cells": [
  {
   "cell_type": "code",
   "execution_count": 1,
   "metadata": {},
   "outputs": [],
   "source": [
    "import pandas as pd\n",
    "import numpy as np\n",
    "import glob\n",
    "for size in ['05',1,5,10,25,50,250,500,1500,6600]:\n",
    "    for strt in ['BERT','RoBERTa','BERTweet']:\n",
    "        classifier=['Reg_Logistica','MLPClassifier','XGboost','SVM','Random_Forest']\n",
    "        df_roberta = pd.read_csv(glob.glob(\"./Edin/\"+strt+\"-\"+str(size)+\"-LM/pivot_\"+str(classifier[0])+\"_accuracy*.csv\")[0],sep=\",\",decimal='.')\n",
    "        df_roberta_f = pd.read_csv(glob.glob(\"./Edin/\"+strt+\"-\"+str(size)+\"-LM/pivot_\"+str(classifier[0])+\"_f1_macro*.csv\")[0],sep=\",\",decimal='.')\n",
    "        df = df_roberta.merge(df_roberta_f,right_on=['Embedding'],left_on=['Embedding'])\n",
    "        df.columns=['Data_Set', 'accuracy','f1_macro']\n",
    "        df['Classifier_Model'] = pd.DataFrame([classifier[0]]*len(df))\n",
    "        df['Embedding'] = pd.DataFrame([strt+'-'+str(size)+\"K\"]*len(df))\n",
    "\n",
    "        for classi in classifier[1:]:\n",
    "            df_roberta = pd.read_csv(glob.glob(\"./Edin/\"+strt+\"-\"+str(size)+\"-LM/pivot_\"+str(classi)+\"_accuracy*.csv\")[0],sep=\",\",decimal='.')\n",
    "            df_roberta_f = pd.read_csv(glob.glob(\"./Edin/\"+strt+\"-\"+str(size)+\"-LM/pivot_\"+str(classi)+\"_f1_macro*.csv\")[0],sep=\",\",decimal='.')\n",
    "            df_ = df_roberta.merge(df_roberta_f,right_on=['Embedding'],left_on=['Embedding'])\n",
    "            df_.columns=['Data_Set', 'accuracy','f1_macro']\n",
    "            df_['Classifier_Model'] = pd.DataFrame([classi]*len(df))\n",
    "            df_['Embedding'] = pd.DataFrame([strt+'-'+str(size)+\"K\"]*len(df_))\n",
    "            df = pd.concat([df,df_],axis=0).reset_index(drop=True)\n",
    "        df[['accuracy','f1_macro']] = df[['accuracy','f1_macro']].apply(lambda x: round(x,2))\n",
    "        df.to_csv(\"./Edin/\"+strt+\"-\"+str(size)+\"-LM/Final_Result_.csv\", index=False)\n"
   ]
  },
  {
   "cell_type": "code",
   "execution_count": null,
   "metadata": {},
   "outputs": [],
   "source": [
    "df"
   ]
  },
  {
   "cell_type": "code",
   "execution_count": null,
   "metadata": {},
   "outputs": [],
   "source": [
    "df[['accuracy','f1_macro']] = df[['accuracy','f1_macro']].apply(lambda x: round(x*100,2))\n",
    "df.sort_values(by=['Data_Set','accuracy'])"
   ]
  },
  {
   "cell_type": "code",
   "execution_count": null,
   "metadata": {},
   "outputs": [],
   "source": []
  },
  {
   "cell_type": "code",
   "execution_count": null,
   "metadata": {},
   "outputs": [],
   "source": []
  },
  {
   "cell_type": "code",
   "execution_count": null,
   "metadata": {},
   "outputs": [],
   "source": []
  },
  {
   "cell_type": "code",
   "execution_count": null,
   "metadata": {},
   "outputs": [],
   "source": []
  }
 ],
 "metadata": {
  "kernelspec": {
   "display_name": "Python 3",
   "language": "python",
   "name": "python3"
  },
  "language_info": {
   "codemirror_mode": {
    "name": "ipython",
    "version": 3
   },
   "file_extension": ".py",
   "mimetype": "text/x-python",
   "name": "python",
   "nbconvert_exporter": "python",
   "pygments_lexer": "ipython3",
   "version": "3.7.7"
  }
 },
 "nbformat": 4,
 "nbformat_minor": 4
}
