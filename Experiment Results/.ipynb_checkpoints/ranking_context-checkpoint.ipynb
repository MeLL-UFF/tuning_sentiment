{
 "cells": [
  {
   "cell_type": "code",
   "execution_count": 1,
   "metadata": {},
   "outputs": [],
   "source": [
    "def deParaClassifierName(textDe):\n",
    "  if textDe == 'MLPClassifier':\n",
    "    return 'MLP'\n",
    "  elif textDe == 'Reg_Logistica':\n",
    "    return 'LR'\n",
    "  elif textDe == 'Random_Forest':\n",
    "    return 'RF'\n",
    "  elif textDe == 'XGboost':\n",
    "    return 'Xgb'\n",
    "  else:\n",
    "    return textDe"
   ]
  },
  {
   "cell_type": "code",
   "execution_count": 2,
   "metadata": {
    "colab": {},
    "colab_type": "code",
    "executionInfo": {
     "elapsed": 1280,
     "status": "ok",
     "timestamp": 1595009919129,
     "user": {
      "displayName": "Ricardo Moura",
      "photoUrl": "https://lh3.googleusercontent.com/a-/AOh14Gh4BPVXR6IythXBJgaEEl5JosseAHCEwlRIxpBjww=s64",
      "userId": "10784804889662280666"
     },
     "user_tz": 180
    },
    "id": "J4oWDmB6inaO"
   },
   "outputs": [],
   "source": [
    "def deParaEmbeddingName(textDe):\n",
    "  if textDe == 'W2V-GN':\n",
    "    return 'w2v-GN'\n",
    "  elif textDe == 'GloveWP':\n",
    "    return 'GloVe-WP'\n",
    "  elif textDe == 'FastText':\n",
    "    return 'fastText'\n",
    "  elif textDe == 'GloveTW':\n",
    "    return 'GloVe-TWT'\n",
    "  elif textDe == 'Bert: bert-base-uncased / STATIC_AVG':\n",
    "    return 'Bert-static'\n",
    "  elif textDe == 'TFIDF':\n",
    "    return 'TF-IDF'\n",
    "  elif textDe == 'W2VAraque':\n",
    "    return 'w2v-Araque'\n",
    "  elif textDe == 'W2VEdin':\n",
    "    return 'w2v-Edin'\n",
    "  elif textDe == 'Roberta: roberta-base / STATIC_AVG':\n",
    "    return 'Roberta-static'\n",
    "\n",
    "  elif textDe == 'Roberta: roberta-base / CONTEXT_CONCAT':\n",
    "    return 'Roberta-context'\n",
    "  elif textDe == 'Bert: bert-base-uncased / CONTEXT_CONCAT':\n",
    "    return 'Bert-context'\n",
    "  \n",
    "  elif textDe == 'Roberta: ./Seed/RoBERTa-05-12-LM / CONTEXT_CONCAT':\n",
    "    return 'RoBERTa-0.5K'\n",
    "  elif textDe == 'Roberta: ./Seed/RoBERTa-1-12-LM / CONTEXT_CONCAT':\n",
    "    return 'RoBERTa-1K'\n",
    "  elif textDe == 'Roberta: ./Seed/RoBERTa-5-12-LM / CONTEXT_CONCAT':\n",
    "    return 'RoBERTa-5K'\n",
    "  elif textDe == 'Roberta: ./Seed/RoBERTa-10-12-LM / CONTEXT_CONCAT':\n",
    "    return 'RoBERTa-10K'\n",
    "  elif textDe == 'Roberta: ./Seed/RoBERTa-25-12-LM / CONTEXT_CONCAT':\n",
    "    return 'RoBERTa-25K'\n",
    "  elif textDe == 'Roberta: ./Seed/RoBERTa-50-12-LM / CONTEXT_CONCAT':\n",
    "    return 'RoBERTa-50K'\n",
    "  elif textDe == 'Roberta: ./Seed/RoBERTa-250-12-LM / CONTEXT_CONCAT':\n",
    "    return 'RoBERTa-250K'\n",
    "  elif textDe == \"Roberta: ./Seed/RoBERTa-500-12-LM / CONTEXT_CONCAT\":\n",
    "    return 'RoBERTa-500K'\n",
    "  elif textDe == 'Roberta: ./Seed/RoBERTa-1500-12-LM / CONTEXT_CONCAT':\n",
    "    return 'RoBERTa-1.5M'\n",
    "  elif textDe == 'Roberta: ./Seed/RoBERTa-6600-12-LM / CONTEXT_CONCAT':\n",
    "    return 'RoBERTa-6.6M'\n",
    "  \n",
    "\n",
    "  elif textDe == 'Bert: ./Seed/BERT-05-12-LM / CONTEXT_CONCAT':\n",
    "    return 'BERT-0.5K'\n",
    "  elif textDe == 'Bert: ./Seed/BERT-1-12-LM / CONTEXT_CONCAT':\n",
    "    return 'BERT-1K'\n",
    "  elif textDe == 'Bert: ./Seed/BERT-5-12-LM / CONTEXT_CONCAT':\n",
    "    return 'BERT-5K'\n",
    "  elif textDe == 'Bert: ./Seed/BERT-10-12-LM / CONTEXT_CONCAT':\n",
    "    return 'BERT-10K'\n",
    "  elif textDe == 'Bert: ./Seed/BERT-25-12-LM / CONTEXT_CONCAT':\n",
    "    return 'BERT-25K'\n",
    "  elif textDe == 'Bert: ./Seed/BERT-50-12-LM / CONTEXT_CONCAT':\n",
    "    return 'BERT-50K'\n",
    "  elif textDe == 'Bert: ./Seed/BERT-250-12-LM / CONTEXT_CONCAT':\n",
    "    return 'BERT-250K'\n",
    "  elif textDe == 'Bert: ./Seed/BERT-500-12-LM / CONTEXT_CONCAT':\n",
    "    return 'BERT-500K'\n",
    "  elif textDe == 'Bert: ./Seed/BERT-1500-12-LM / CONTEXT_CONCAT':\n",
    "    return 'BERT-1.5M'\n",
    "  elif textDe == 'Bert: ./Seed/BERT-6600-12-LM / CONTEXT_CONCAT':\n",
    "    return 'BERT-6.6M'\n",
    "\n",
    "  elif textDe == \"BERTweet_base_transformers_CONTEXT\":\n",
    "    return 'Bertweet-context'\n",
    "  elif textDe == \"./Seed/BERTweet-05-12-LM_CONTEXT\":\n",
    "    return 'BERTweet-0.5K'\n",
    "  elif textDe == \"./Seed/BERTweet-1-12-LM_CONTEXT\":\n",
    "    return 'BERTweet-1K'\n",
    "  elif textDe == \"./Seed/BERTweet-5-12-LM_CONTEXT\":\n",
    "    return 'BERTweet-5K'\n",
    "  elif textDe == \"./Seed/BERTweet-10-12-LM_CONTEXT\":\n",
    "    return 'BERTweet-10K'\n",
    "  elif textDe == \"./Seed/BERTweet-50-12-LM_CONTEXT\":\n",
    "    return 'BERTweet-50K'\n",
    "  elif textDe == \"./Seed/BERTweet-25-12-LM_CONTEXT\":\n",
    "    return 'BERTweet-25K'\n",
    "  elif textDe == \"./Seed/BERTweet-250-12-LM_CONTEXT\":\n",
    "    return 'BERTweet-250K'\n",
    "  elif textDe == \"./Seed/BERTweet-500-12-LM_CONTEXT\":\n",
    "    return 'BERTweet-500K'\n",
    "  elif textDe == \"./Seed/BERTweet-1500-12-LM_CONTEXT\":\n",
    "    return 'BERTweet\\_1.5M'\n",
    "  elif textDe == \"./Seed/BERTweet-6600-12-LM_CONTEXT\":\n",
    "    return 'BERTweet-6.6M'\n",
    "\n",
    "\n",
    "  else:\n",
    "    return textDe"
   ]
  },
  {
   "cell_type": "code",
   "execution_count": 3,
   "metadata": {
    "colab": {},
    "colab_type": "code",
    "executionInfo": {
     "elapsed": 1624,
     "status": "ok",
     "timestamp": 1595009919494,
     "user": {
      "displayName": "Ricardo Moura",
      "photoUrl": "https://lh3.googleusercontent.com/a-/AOh14Gh4BPVXR6IythXBJgaEEl5JosseAHCEwlRIxpBjww=s64",
      "userId": "10784804889662280666"
     },
     "user_tz": 180
    },
    "id": "9qVLCGH69TdW"
   },
   "outputs": [],
   "source": [
    "def deParaDatasetName(textDe):\n",
    "  if textDe == 'ntua':\n",
    "    return 'ntu'\n",
    "  elif textDe == 'SemEval15-Task11':\n",
    "    return 'S15'\n",
    "  elif textDe == 'iphone':\n",
    "    return 'iph'\n",
    "  elif textDe == 'Narr-KDML-2012':\n",
    "    return 'Nar'\n",
    "  elif textDe == 'VADER':\n",
    "    return 'Vad'\n",
    "  elif textDe == 'SemEval17-test':\n",
    "    return 'S17'\n",
    "  elif textDe == 'debate08':\n",
    "    return 'OMD'\n",
    "  elif textDe == 'irony':\n",
    "    return 'iro'\n",
    "  elif textDe == 'sarcasm':\n",
    "    return 'sar'\n",
    "  elif textDe == 'sentiment140':\n",
    "    return 'stm'\n",
    "  elif textDe == 'person':\n",
    "    return 'per'\n",
    "  elif textDe == 'hobbit':\n",
    "    return 'hob'\n",
    "  elif textDe == 'movie':\n",
    "    return 'mov'\n",
    "  elif textDe == 'sanders':\n",
    "    return 'san'\n",
    "  elif textDe == 'archeage':\n",
    "    return 'arc'\n",
    "  elif textDe == 'SemEval18':\n",
    "    return 'S18'\n",
    "  elif textDe == 'STS-gold':\n",
    "    return 'STS'\n",
    "  elif textDe == 'SentiStrength':\n",
    "    return 'SSt'\n",
    "  elif textDe == 'Target-dependent':\n",
    "    return 'Tar'\n",
    "  elif textDe == 'SemEval13':\n",
    "    return 'S13'\n",
    "  elif textDe == 'SemEval16':\n",
    "    return 'S16'\n",
    "  else:\n",
    "    return textDe"
   ]
  },
  {
   "cell_type": "code",
   "execution_count": 4,
   "metadata": {
    "colab": {},
    "colab_type": "code",
    "executionInfo": {
     "elapsed": 1276,
     "status": "ok",
     "timestamp": 1595009919509,
     "user": {
      "displayName": "Ricardo Moura",
      "photoUrl": "https://lh3.googleusercontent.com/a-/AOh14Gh4BPVXR6IythXBJgaEEl5JosseAHCEwlRIxpBjww=s64",
      "userId": "10784804889662280666"
     },
     "user_tz": 180
    },
    "id": "yRP2Qkz3-Wwq"
   },
   "outputs": [],
   "source": [
    "def montaTabelaLatex(df, metrica):\n",
    "  first = True\n",
    "  for ind in df.index:\n",
    "    if first == False:\n",
    "      print(\"\\\\rule{0pt}{3.0ex}\")\n",
    "    else:\n",
    "      first = False\n",
    "    print (str(df[\"Data_Set\"][ind])+'&'+str(df[metrica][ind])+'&'+str(df[\"Classifier_Model\"][ind])+'&'+str(df[\"Embedding\"][ind])+'\\\\\\\\')"
   ]
  },
  {
   "cell_type": "code",
   "execution_count": 5,
   "metadata": {},
   "outputs": [],
   "source": [
    "def monta_tabela_latex_top_rank_sum(df_acc, df_f1):\n",
    "  first = True\n",
    "  for ind in df_acc.index[:10]:\n",
    "    if first == False:\n",
    "      print(\"\\\\rule{0pt}{3.0ex}\")\n",
    "    else:\n",
    "      first = False\n",
    "    print (str(df_acc[\"Embedding\"][ind])+'&'+str(df_acc[\"Classifier_Model\"][ind])+'&' \\\n",
    "           +str(round(df_acc['rank'][ind]/22,2))+'&'+str(df_f1[\"Embedding\"][ind])+'&' \\\n",
    "           +str(df_f1[\"Classifier_Model\"][ind])+'&'+str(round(df_f1['rank'][ind]/22,2))+ \\\n",
    "           '\\\\\\\\')\n",
    "           "
   ]
  },
  {
   "cell_type": "code",
   "execution_count": 6,
   "metadata": {},
   "outputs": [],
   "source": [
    "def monta_tabela_latex_top_rank_sum_class(df_acc, df_f1):\n",
    "  first = True\n",
    "  for ind in df_acc.index:\n",
    "    if first == False:\n",
    "      print(\"\\\\rule{0pt}{3.0ex}\")\n",
    "    else:\n",
    "      first = False\n",
    "    print (str(df_acc[\"Classifier_Model\"][ind])+'&' \\\n",
    "           +str(round(df_acc['rank'][ind]/66,2))+'&' \\\n",
    "           +str(df_f1[\"Classifier_Model\"][ind])+'&'+str(round(df_f1['rank'][ind]/66,2))+ \\\n",
    "           '\\\\\\\\')"
   ]
  },
  {
   "cell_type": "code",
   "execution_count": 7,
   "metadata": {},
   "outputs": [],
   "source": [
    "def monta_tabela_latex_top_rank_sum_emb(df_acc, df_f1):\n",
    "  first = True\n",
    "  for ind in df_acc.index:\n",
    "    if first == False:\n",
    "      print(\"\\\\rule{0pt}{3.0ex}\")\n",
    "    else:\n",
    "      first = False\n",
    "    print (str(df_acc[\"Embedding\"][ind])+'&' \\\n",
    "           +str(round(df_acc['rank'][ind]/110,2))+'&'+str(df_f1[\"Embedding\"][ind])+'&' \\\n",
    "           +str(round(df_f1['rank'][ind]/110,2))+ \\\n",
    "           '\\\\\\\\')"
   ]
  },
  {
   "cell_type": "code",
   "execution_count": 8,
   "metadata": {},
   "outputs": [],
   "source": [
    "def montaTabelaLatexNew(df_acc, df_f1):\n",
    "  first = True\n",
    "  for ind in df_acc.index:\n",
    "    if first == False:\n",
    "      print(\"\\\\rule{0pt}{3.0ex}\")\n",
    "    else:\n",
    "      first = False\n",
    "    print (str(df_acc[\"Data_Set\"][ind])+'&'+str(round(df_acc['accuracy'][ind],2))+'&'+str(df_acc[\"Classifier_Model\"][ind])+'&'+str(df_acc[\"Embedding\"][ind])+'&'+str(round(df_f1['f1_macro'][ind],2))+'&'+str(df_f1[\"Classifier_Model\"][ind])+'&'+str(df_f1[\"Embedding\"][ind])+'\\\\\\\\')\n",
    "      "
   ]
  },
  {
   "cell_type": "code",
   "execution_count": 9,
   "metadata": {
    "colab": {},
    "colab_type": "code",
    "executionInfo": {
     "elapsed": 1585,
     "status": "ok",
     "timestamp": 1595009919495,
     "user": {
      "displayName": "Ricardo Moura",
      "photoUrl": "https://lh3.googleusercontent.com/a-/AOh14Gh4BPVXR6IythXBJgaEEl5JosseAHCEwlRIxpBjww=s64",
      "userId": "10784804889662280666"
     },
     "user_tz": 180
    },
    "id": "PhS6C9E152Xr"
   },
   "outputs": [],
   "source": [
    "import glob\n",
    "import pandas as pd\n",
    "import numpy as np\n",
    "\n",
    "\n",
    "########## Estatico ##########\n",
    "dfStatic = pd.read_csv(glob.glob(\"staticLM/Pivot_tables/Final_Result_StaticLM_*.csv\")[0], sep=\",\")\n",
    "dfStatic = dfStatic[dfStatic['Embedding']=='BERTweet_base_transformers_STATIC']\n",
    "\n",
    "dfstatic_ = pd.read_csv(glob.glob(\"staticLM/Pivot_tables/Final_Result_staticLM_*.csv\")[0], sep=\",\")\n",
    "dfstatic = dfstatic_[(dfstatic_['Embedding']!='BERTweet_base_transformers_STATIC') &\n",
    "                    (dfstatic_['Classifier_Model']!='XGboost')]\n",
    "\n",
    "df_btw_static = pd.read_csv(glob.glob(\"staticXgbLM/Pivot_tables/Final_Result_staticXgbLM_*.csv\")[0], sep=\",\")\n",
    "df_btw_static = df_btw_static[df_btw_static['Embedding']!='BERTweet_base_transformers_STATIC']\n",
    "\n",
    "\n",
    "'''dfstatic = pd.read_csv(glob.glob(\"staticLM/Pivot_tables/Final_Result_staticLM_*.csv\")[0], sep=\",\")\n",
    "dfstatic = dfstatic[dfstatic['Classifier_Model']!='XGboost']\n",
    "df_btw_static = pd.read_csv(glob.glob(\"staticXgbLM/Pivot_tables/Final_Result_*.csv\")[0], sep=\",\")\n",
    "'''#df_btw_static = df_btw_static[df_btw_static['Embedding']=='BERTweet_base_transformers_STATIC']\n",
    "\n",
    "########## Contextualizado ##########\n",
    "df_roberta = pd.read_csv(glob.glob(\"./RoBERTa/Pivot_tables/Final_Result_*.csv\")[0],sep=\",\")\n",
    "df_bert = pd.read_csv(glob.glob(\"./BERT/Pivot_tables/Final_Result_*.csv\")[0],sep=\",\")\n",
    "df_bertweet = pd.read_csv(glob.glob(\"./BERTweet/Pivot_tables/Final_Result_*.csv\")[0],sep=\",\")\n",
    "tag=''\n",
    "\n",
    "############## FT LOO ##################\n",
    "df_LOO_bt = pd.read_csv(glob.glob(\"./LOO/BERTweet-LM/Final\"+str(tag)+\"*.csv\")[0], sep=\",\")\n",
    "df_LOO_bt['accuracy'] = round(df_LOO_bt['accuracy']/100,2)\n",
    "df_LOO_bt['f1_macro'] = round(df_LOO_bt['f1_macro']/100,2)\n",
    "\n",
    "df_LOO_br = pd.read_csv(glob.glob(\"./LOO/BERT-LM/Final\"+str(tag)+\"*.csv\")[0], sep=\",\")\n",
    "df_LOO_br['accuracy'] = round(df_LOO_br['accuracy']/100,2)\n",
    "df_LOO_br['f1_macro'] = round(df_LOO_br['f1_macro']/100,2)\n",
    "\n",
    "df_LOO_rb = pd.read_csv(glob.glob(\"./LOO/RoBERTa-LM/Final\"+str(tag)+\"*.csv\")[0], sep=\",\")\n",
    "df_LOO_rb['accuracy'] = round(df_LOO_rb['accuracy']/100,2)\n",
    "df_LOO_rb['f1_macro'] = round(df_LOO_rb['f1_macro']/100,2)\n",
    "\n",
    "\n",
    "############### FT 22DT ##############3\n",
    "\n",
    "df_22dt_rb = pd.read_csv(glob.glob(\"/Users/sergiojunior/sentiment-embeddings/scripts_artigo/22Dt/RoBERTa-LM/Final_Result*.csv\")[0], sep=\",\")\n",
    "\n",
    "df_22dt_br = pd.read_csv(glob.glob(\"/Users/sergiojunior/sentiment-embeddings/scripts_artigo/22Dt/BERT-LM/Final_Result*.csv\")[0], sep=\",\")\n",
    "\n",
    "df_22dt_bt = pd.read_csv(glob.glob(\"/Users/sergiojunior/sentiment-embeddings/scripts_artigo/22Dt/BERTweet-LM/Final_Result*.csv\")[0], sep=\",\")\n",
    "\n",
    "############## FT Indata #################\n",
    "\n",
    "df_Indata_bt = pd.read_csv(glob.glob(\"./InData/BERTweet-LM/Final\"+str(tag)+\"*.csv\")[0], sep=\",\")\n",
    "\n",
    "df_Indata_br = pd.read_csv(glob.glob(\"./InData/BERT-LM/Final\"+str(tag)+\"*.csv\")[0], sep=\",\")\n",
    "\n",
    "df_Indata_rb = pd.read_csv(glob.glob(\"./InData/RoBERTa-LM/Final\"+str(tag)+\"*.csv\")[0], sep=\",\")\n",
    "\n",
    "############# FT RoBERTa ##############\n",
    "\n",
    "df_edin_bt_05 = pd.read_csv(glob.glob(\"./Edin/BERTweet-05-LM/Final\"+str(tag)+\"*_.csv\")[0], sep=\",\")\n",
    "df_edin_bt_1 = pd.read_csv(glob.glob(\"./Edin/BERTweet-1-LM/Final\"+str(tag)+\"*_.csv\")[0], sep=\",\")\n",
    "df_edin_bt_5 = pd.read_csv(glob.glob(\"./Edin/BERTweet-5-LM/Final\"+str(tag)+\"*_.csv\")[0], sep=\",\")\n",
    "df_edin_bt_10 = pd.read_csv(glob.glob(\"./Edin/BERTweet-10-LM/Final\"+str(tag)+\"*_.csv\")[0], sep=\",\")\n",
    "df_edin_bt_25 = pd.read_csv(glob.glob(\"./Edin/BERTweet-25-LM/Final\"+str(tag)+\"*_.csv\")[0], sep=\",\")\n",
    "df_edin_bt_50 = pd.read_csv(glob.glob(\"./Edin/BERTweet-50-LM/Final\"+str(tag)+\"*_.csv\")[0], sep=\",\")\n",
    "df_edin_bt_250 = pd.read_csv(glob.glob(\"./Edin/BERTweet-250-LM/Final\"+str(tag)+\"*_.csv\")[0], sep=\",\")\n",
    "df_edin_bt_500 = pd.read_csv(glob.glob(\"./Edin/BERTweet-500-LM/Final\"+str(tag)+\"*_.csv\")[0],sep=\",\")\n",
    "df_edin_bt_1500 = pd.read_csv(glob.glob(\"./Edin/BERTweet-1500-LM/Final\"+str(tag)+\"*_.csv\")[0], sep=\",\")\n",
    "df_edin_bt_6600 = pd.read_csv(glob.glob(\"./Edin/BERTweet-6600-LM/Final\"+str(tag)+\"*_.csv\")[0], sep=\",\")\n",
    "\n",
    "df_edin_bert_05 = pd.read_csv(glob.glob(\"./Edin/BERT-05-LM/Final\"+str(tag)+\"*_.csv\")[0],sep=\",\")\n",
    "df_edin_bert_1 = pd.read_csv(glob.glob(\"./Edin/BERT-1-LM/Final\"+str(tag)+\"*_.csv\")[0],sep=\",\")\n",
    "df_edin_bert_5 = pd.read_csv(glob.glob(\"./Edin/BERT-5-LM/Final\"+str(tag)+\"*_.csv\")[0],sep=\",\")\n",
    "df_edin_bert_10 = pd.read_csv(glob.glob(\"./Edin/BERT-10-LM/Final\"+str(tag)+\"*_.csv\")[0],sep=\",\")\n",
    "df_edin_bert_25 = pd.read_csv(glob.glob(\"./Edin/BERT-25-LM/Final\"+str(tag)+\"*_.csv\")[0],sep=\",\")\n",
    "df_edin_bert_50 = pd.read_csv(glob.glob(\"./Edin/BERT-50-LM/Final\"+str(tag)+\"*_.csv\")[0],sep=\",\")\n",
    "df_edin_bert_250 = pd.read_csv(glob.glob(\"./Edin/BERT-250-LM/Final\"+str(tag)+\"*_.csv\")[0], sep=\",\")\n",
    "df_edin_bert_500 = pd.read_csv(glob.glob(\"./Edin/BERT-500-LM/Final\"+str(tag)+\"*_.csv\")[0],sep=\",\")\n",
    "df_edin_bert_1500 = pd.read_csv(glob.glob(\"./Edin/BERT-1500-LM/Final\"+str(tag)+\"*_.csv\")[0], sep=\",\")\n",
    "df_edin_bert_6600 = pd.read_csv(glob.glob(\"./Edin/BERT-6600-LM/Final\"+str(tag)+\"*_.csv\")[0], sep=\",\")\n",
    "\n",
    "df_edin_rob_05 = pd.read_csv(glob.glob(\"./Edin/RoBERTa-05-LM/Final\"+str(tag)+\"*_.csv\")[0],sep=\",\")\n",
    "df_edin_rob_1 = pd.read_csv(glob.glob(\"./Edin/RoBERTa-1-LM/Final\"+str(tag)+\"*_.csv\")[0],sep=\",\")\n",
    "df_edin_rob_5 = pd.read_csv(glob.glob(\"./Edin/RoBERTa-5-LM/Final\"+str(tag)+\"*_.csv\")[0],sep=\",\")\n",
    "df_edin_rob_10 = pd.read_csv(glob.glob(\"./Edin/RoBERTa-10-LM/Final\"+str(tag)+\"*_.csv\")[0],sep=\",\")\n",
    "df_edin_rob_25 = pd.read_csv(glob.glob(\"./Edin/RoBERTa-25-LM/Final\"+str(tag)+\"*_.csv\")[0],sep=\",\")\n",
    "df_edin_rob_50 = pd.read_csv(glob.glob(\"./Edin/RoBERTa-50-LM/Final\"+str(tag)+\"*_.csv\")[0],sep=\",\")\n",
    "df_edin_rob_250 = pd.read_csv(glob.glob(\"./Edin/RoBERTa-250-LM/Final\"+str(tag)+\"*_.csv\")[0], sep=\",\")\n",
    "df_edin_rob_500 = pd.read_csv(glob.glob(\"./Edin/RoBERTa-500-LM/Final\"+str(tag)+\"*_.csv\")[0],sep=\",\")\n",
    "df_edin_rob_1500 = pd.read_csv(glob.glob(\"./Edin/RoBERTa-1500-LM/Final\"+str(tag)+\"*_.csv\")[0], sep=\",\")\n",
    "df_edin_rob_6600 = pd.read_csv(glob.glob(\"./Edin/RoBERTa-6600-LM/Final\"+str(tag)+\"*_.csv\")[0], sep=\",\")"
   ]
  },
  {
   "cell_type": "code",
   "execution_count": 10,
   "metadata": {},
   "outputs": [],
   "source": [
    "df_edin_bert_1['Data_Set']=df_edin_bert_1[\"Data_Set\"].apply(deParaDatasetName)\n",
    "#df_edin_bert_1['Data_Set'] = df_edin_bert_1['Data_Set'].map(str)\n",
    "#balance['Data_Set'] = balance['Data_Set'].map(str)\n",
    "#df_edin_bert_1_ = df_edin_bert_1.merge(balance,how='left')\n"
   ]
  },
  {
   "cell_type": "code",
   "execution_count": 11,
   "metadata": {
    "colab": {},
    "colab_type": "code",
    "executionInfo": {
     "elapsed": 1494,
     "status": "ok",
     "timestamp": 1595009919500,
     "user": {
      "displayName": "Ricardo Moura",
      "photoUrl": "https://lh3.googleusercontent.com/a-/AOh14Gh4BPVXR6IythXBJgaEEl5JosseAHCEwlRIxpBjww=s64",
      "userId": "10784804889662280666"
     },
     "user_tz": 180
    },
    "id": "NCf2vK6MNjkR"
   },
   "outputs": [
    {
     "data": {
      "text/plain": [
       "'frames = [dfstatic,df_btw_static,df_roberta,df_bert,df_bertweet,           df_edin_bt_05,df_edin_bt_1,df_edin_bt_5,df_edin_bt_10,df_edin_bt_25,df_edin_bt_50,df_edin_bt_250,df_edin_bt_500,df_edin_bt_1500,df_edin_bt_6600,           df_LOO_bt,df_Indata_bt,df_22dt_bt,           df_edin_rob_05,df_edin_rob_1,df_edin_rob_5,df_edin_rob_10,df_edin_rob_25,df_edin_rob_50,df_edin_rob_250,df_edin_rob_500,df_edin_rob_1500,df_edin_rob_6600,           df_edin_bert_05,df_edin_bert_1,df_edin_bert_5,df_edin_bert_10,df_edin_bert_25,df_edin_bert_50,df_edin_bert_250,df_edin_bert_500,df_edin_bert_1500,df_edin_bert_6600,           df_Indata_rb,df_Indata_br,df_LOO_br,df_LOO_rb,df_22dt_br,df_22dt_rb]\\n'"
      ]
     },
     "execution_count": 11,
     "metadata": {},
     "output_type": "execute_result"
    }
   ],
   "source": [
    "#frames = [dfstatic,df_btw_static,df_roberta,df_bert,df_bertweet,df_edin_rob_5,df_edin_rob_10,df_edin_rob_25,df_edin_rob_50,df_edin_rob_250,df_edin_rob_500,df_edin_rob_1500,df_edin_rob_6600,df_edin_bert_5,df_edin_bert_10,df_edin_bert_25,df_edin_bert_50,df_edin_bert_250,df_edin_bert_500,df_edin_bert_1500,df_edin_bert_6600,df_edin_bt_5,df_edin_bt_10,df_edin_bt_25,df_edin_bt_50,df_edin_bt_250,df_edin_bt_500,df_edin_bt_1500,df_edin_bt_1500,df_edin_bt_6600,df_Indata_rb,df_Indata_br,df_Indata_bt,df_LOO_br,df_LOO_rb,df_LOO_bt,df_22dt_br,df_22dt_rb,df_22dt_bt]\n",
    "#frames = [df_bertweet,df_22dt_bt,df_22dt_br,df_22dt_rb,df_LOO_bt,df_LOO_br,df_LOO_rb,df_Indata_br,df_Indata_rb,df_Indata_bt,df_edin_bt_5,df_edin_bt_10,df_edin_bt_25,df_edin_bt_50,df_edin_bt_250,df_edin_bt_500,df_edin_bt_1500,df_edin_bt_1500,df_edin_bt_6600]\n",
    "\n",
    "#Static\n",
    "#frames = [dfstatic, dfStatic,df_btw_static]\n",
    "\n",
    "#Static\n",
    "#frames = [df_roberta,df_bert,df_bertweet]\n",
    "\n",
    "#best context vs static\n",
    "frames = [dfstatic, dfStatic,df_btw_static,df_roberta,df_bert,df_bertweet ]\n",
    "\n",
    "#roberta vs roberta tunado\n",
    "#frames = [df_roberta,df_edin_rob_05,df_edin_rob_1,df_edin_rob_5,df_edin_rob_10,df_edin_rob_25,df_edin_rob_50,df_edin_rob_250,df_edin_rob_500,df_edin_rob_1500,df_edin_rob_6600,df_LOO_rb,df_Indata_rb,df_22dt_rb]\n",
    "\n",
    "#bert vs bert tunado\n",
    "#frames = [df_bert,df_edin_bert_05,df_edin_bert_1,df_edin_bert_5,df_edin_bert_10,df_edin_bert_25,df_edin_bert_50,df_edin_bert_250,df_edin_bert_500,df_edin_bert_1500,df_edin_bert_6600,df_LOO_br,df_Indata_br,df_22dt_br]\n",
    "\n",
    "#bertweet vs bertweet tunado\n",
    "#frames = [df_bertweet,df_edin_bt_05,df_edin_bt_1,df_edin_bt_5,df_edin_bt_10,df_edin_bt_25,df_edin_bt_50,df_edin_bt_250,df_edin_bt_500,df_edin_bt_1500,df_edin_bt_6600,df_LOO_bt,df_Indata_bt,df_22dt_bt]\n",
    "\n",
    "#bertweet vs todos modelos\n",
    "#frames = [df_bertweet,df_edin_rob_05,df_edin_rob_1,df_edin_rob_5,df_edin_rob_10,df_edin_rob_25,df_edin_rob_50,df_edin_rob_250,df_edin_rob_500,df_edin_rob_1500,df_edin_rob_6600,df_edin_bert_05,df_edin_bert_1,df_edin_bert_5,df_edin_bert_10,df_edin_bert_25,df_edin_bert_50,df_edin_bert_250,df_edin_bert_500,df_edin_bert_1500,df_edin_bert_6600,df_Indata_rb,df_Indata_br,df_LOO_br,df_LOO_rb,df_22dt_br,df_22dt_rb]\n",
    "\n",
    "#Best indata, LOO, 22dataset\n",
    "#frames = [df_Indata_rb,df_Indata_br,df_Indata_bt,df_LOO_br,df_LOO_bt,df_LOO_rb,df_22dt_br,df_22dt_rb,df_22dt_bt]\n",
    "#frames = [df_Indata_bt,df_LOO_bt,df_22dt_bt]\n",
    "\n",
    "#BEST OVER ALL FINE TUNING sem sentimento\n",
    "'''frames = [df_edin_bt_05,df_edin_bt_1,df_edin_bt_5,df_edin_bt_10,df_edin_bt_25,df_edin_bt_50,df_edin_bt_250,df_edin_bt_500,df_edin_bt_1500,df_edin_bt_6600, \\\n",
    "          df_edin_rob_05,df_edin_rob_1,df_edin_rob_5,df_edin_rob_10,df_edin_rob_25,df_edin_rob_50,df_edin_rob_250,df_edin_rob_500,df_edin_rob_1500,df_edin_rob_6600, \\\n",
    "          df_edin_bert_05,df_edin_bert_1,df_edin_bert_5,df_edin_bert_10,df_edin_bert_25,df_edin_bert_50,df_edin_bert_250,df_edin_bert_500,df_edin_bert_1500,df_edin_bert_6600]\n",
    "'''\n",
    "\n",
    "#BEST OVER ALL FINE TUNING\n",
    "'''frames = [df_edin_bt_05,df_edin_bt_1,df_edin_bt_5,df_edin_bt_10,df_edin_bt_25,df_edin_bt_50,df_edin_bt_250,df_edin_bt_500,df_edin_bt_1500,df_edin_bt_6600, \\\n",
    "          df_LOO_bt,df_Indata_bt,df_22dt_bt, \\\n",
    "          df_edin_rob_05,df_edin_rob_1,df_edin_rob_5,df_edin_rob_10,df_edin_rob_25,df_edin_rob_50,df_edin_rob_250,df_edin_rob_500,df_edin_rob_1500,df_edin_rob_6600, \\\n",
    "          df_edin_bert_05,df_edin_bert_1,df_edin_bert_5,df_edin_bert_10,df_edin_bert_25,df_edin_bert_50,df_edin_bert_250,df_edin_bert_500,df_edin_bert_1500,df_edin_bert_6600, \\\n",
    "          df_Indata_rb,df_Indata_br,df_LOO_br,df_LOO_rb,df_22dt_br,df_22dt_rb]'''\n",
    "\n",
    "#BEST OVER ALL MODELS\n",
    "'''frames = [dfstatic,df_btw_static,df_roberta,df_bert,df_bertweet, \\\n",
    "          df_edin_bt_05,df_edin_bt_1,df_edin_bt_5,df_edin_bt_10,df_edin_bt_25,df_edin_bt_50,df_edin_bt_250,df_edin_bt_500,df_edin_bt_1500,df_edin_bt_6600, \\\n",
    "          df_LOO_bt,df_Indata_bt,df_22dt_bt, \\\n",
    "          df_edin_rob_05,df_edin_rob_1,df_edin_rob_5,df_edin_rob_10,df_edin_rob_25,df_edin_rob_50,df_edin_rob_250,df_edin_rob_500,df_edin_rob_1500,df_edin_rob_6600, \\\n",
    "          df_edin_bert_05,df_edin_bert_1,df_edin_bert_5,df_edin_bert_10,df_edin_bert_25,df_edin_bert_50,df_edin_bert_250,df_edin_bert_500,df_edin_bert_1500,df_edin_bert_6600, \\\n",
    "          df_Indata_rb,df_Indata_br,df_LOO_br,df_LOO_rb,df_22dt_br,df_22dt_rb]\n",
    "'''"
   ]
  },
  {
   "cell_type": "code",
   "execution_count": 12,
   "metadata": {
    "colab": {},
    "colab_type": "code",
    "executionInfo": {
     "elapsed": 1465,
     "status": "ok",
     "timestamp": 1595009919501,
     "user": {
      "displayName": "Ricardo Moura",
      "photoUrl": "https://lh3.googleusercontent.com/a-/AOh14Gh4BPVXR6IythXBJgaEEl5JosseAHCEwlRIxpBjww=s64",
      "userId": "10784804889662280666"
     },
     "user_tz": 180
    },
    "id": "IwrQ3coXNuIe"
   },
   "outputs": [],
   "source": [
    "result = pd.concat(frames)"
   ]
  },
  {
   "cell_type": "code",
   "execution_count": 13,
   "metadata": {
    "colab": {},
    "colab_type": "code",
    "executionInfo": {
     "elapsed": 1450,
     "status": "ok",
     "timestamp": 1595009919502,
     "user": {
      "displayName": "Ricardo Moura",
      "photoUrl": "https://lh3.googleusercontent.com/a-/AOh14Gh4BPVXR6IythXBJgaEEl5JosseAHCEwlRIxpBjww=s64",
      "userId": "10784804889662280666"
     },
     "user_tz": 180
    },
    "id": "SkBoFHgNwndl"
   },
   "outputs": [],
   "source": [
    "result[[\"accuracy\", \"f1_macro\"]] = result[[\"accuracy\", \"f1_macro\"]].apply(pd.to_numeric)"
   ]
  },
  {
   "cell_type": "code",
   "execution_count": 14,
   "metadata": {
    "colab": {},
    "colab_type": "code",
    "executionInfo": {
     "elapsed": 1381,
     "status": "ok",
     "timestamp": 1595009919504,
     "user": {
      "displayName": "Ricardo Moura",
      "photoUrl": "https://lh3.googleusercontent.com/a-/AOh14Gh4BPVXR6IythXBJgaEEl5JosseAHCEwlRIxpBjww=s64",
      "userId": "10784804889662280666"
     },
     "user_tz": 180
    },
    "id": "05WFV64O2zJN"
   },
   "outputs": [],
   "source": [
    "result[\"Data_Set\"] = result[\"Data_Set\"].apply(deParaDatasetName)\n",
    "result[\"Embedding\"] = result[\"Embedding\"].apply(deParaEmbeddingName)\n",
    "result[\"Classifier_Model\"] = result[\"Classifier_Model\"].apply(deParaClassifierName)\n",
    "result['Emb+Class'] = result[\"Embedding\"] + \"-\"+result[\"Classifier_Model\"]"
   ]
  },
  {
   "cell_type": "code",
   "execution_count": 15,
   "metadata": {
    "colab": {},
    "colab_type": "code",
    "executionInfo": {
     "elapsed": 1301,
     "status": "ok",
     "timestamp": 1595009919508,
     "user": {
      "displayName": "Ricardo Moura",
      "photoUrl": "https://lh3.googleusercontent.com/a-/AOh14Gh4BPVXR6IythXBJgaEEl5JosseAHCEwlRIxpBjww=s64",
      "userId": "10784804889662280666"
     },
     "user_tz": 180
    },
    "id": "n2i9Vw-ahUnG"
   },
   "outputs": [],
   "source": [
    "result_acc = result.sort_values(by=['Data_Set', 'accuracy'], ascending=False)\n",
    "result_f1 = result.sort_values(by=['Data_Set', 'f1_macro'], ascending=False)\n"
   ]
  },
  {
   "cell_type": "code",
   "execution_count": 16,
   "metadata": {},
   "outputs": [],
   "source": [
    "result_acc[\"rank\"] = result_acc.groupby(\"Data_Set\")[\"accuracy\"].rank(\"average\", ascending=False)\n",
    "result_f1[\"rank\"] = result_f1.groupby(\"Data_Set\")[\"f1_macro\"].rank(\"average\", ascending=False)"
   ]
  },
  {
   "cell_type": "code",
   "execution_count": 17,
   "metadata": {
    "scrolled": false
   },
   "outputs": [],
   "source": [
    "#pivot_acc = pd.pivot_table(result_acc, values='rank', index=['Data_Set'],columns=['Embedding'], aggfunc=np.sum)\n",
    "#pivot_af1 = pd.pivot_table(result_f1, values='rank', index=['Data_Set'],columns=['Embedding'], aggfunc=np.sum)"
   ]
  },
  {
   "cell_type": "code",
   "execution_count": 18,
   "metadata": {},
   "outputs": [
    {
     "name": "stdout",
     "output_type": "stream",
     "text": [
      "Bertweet-context&LR&5.23&Bertweet-context&LR&4.93\\\\\n",
      "\\rule{0pt}{3.0ex}\n",
      "Bertweet-context&MLP&5.39&Bertweet-context&MLP&5.45\\\\\n",
      "\\rule{0pt}{3.0ex}\n",
      "Roberta-context&MLP&9.11&Bertweet-context&SVM&7.82\\\\\n",
      "\\rule{0pt}{3.0ex}\n",
      "Bertweet-context&SVM&9.11&Bert-context&SVM&9.05\\\\\n",
      "\\rule{0pt}{3.0ex}\n",
      "Bert-context&MLP&9.5&Roberta-context&LR&9.8\\\\\n",
      "\\rule{0pt}{3.0ex}\n",
      "Roberta-context&LR&10.82&Roberta-context&MLP&9.84\\\\\n",
      "\\rule{0pt}{3.0ex}\n",
      "Bert-context&LR&11.93&Bert-context&MLP&9.89\\\\\n",
      "\\rule{0pt}{3.0ex}\n",
      "Bert-context&SVM&12.0&Bert-context&LR&11.2\\\\\n",
      "\\rule{0pt}{3.0ex}\n",
      "Bertweet-context&Xgb&15.18&Roberta-static&SVM&15.52\\\\\n",
      "\\rule{0pt}{3.0ex}\n",
      "Roberta-static&SVM&17.07&Bertweet-context&Xgb&17.68\\\\\n"
     ]
    }
   ],
   "source": [
    "acc = result_acc.groupby(by=[\"Embedding\",\"Classifier_Model\"]).sum()['rank'].sort_values().reset_index()\n",
    "f1 = result_f1.groupby(by=[\"Embedding\",\"Classifier_Model\"]).sum()['rank'].sort_values().reset_index()\n",
    "monta_tabela_latex_top_rank_sum(acc,f1)\n"
   ]
  },
  {
   "cell_type": "code",
   "execution_count": 19,
   "metadata": {},
   "outputs": [
    {
     "name": "stdout",
     "output_type": "stream",
     "text": [
      "MLP&199.71&SVM&190.17\\\\\n",
      "\\rule{0pt}{3.0ex}\n",
      "SVM&219.17&MLP&197.58\\\\\n",
      "\\rule{0pt}{3.0ex}\n",
      "Xgb&248.16&LR&213.92\\\\\n",
      "\\rule{0pt}{3.0ex}\n",
      "LR&252.58&Xgb&267.64\\\\\n",
      "\\rule{0pt}{3.0ex}\n",
      "RF&298.71&RF&349.02\\\\\n"
     ]
    }
   ],
   "source": [
    "acc = result_acc.groupby(by=[\"Classifier_Model\"]).sum()['rank'].sort_values().reset_index()\n",
    "f1 = result_f1.groupby(by=[\"Classifier_Model\"]).sum()['rank'].sort_values().reset_index()\n",
    "monta_tabela_latex_top_rank_sum_class(acc,f1)"
   ]
  },
  {
   "cell_type": "code",
   "execution_count": 20,
   "metadata": {},
   "outputs": [
    {
     "name": "stdout",
     "output_type": "stream",
     "text": [
      "Bertweet-context&12.76&Bertweet-context&15.12\\\\\n",
      "\\rule{0pt}{3.0ex}\n",
      "Bert-context&18.21&Bert-context&20.76\\\\\n",
      "\\rule{0pt}{3.0ex}\n",
      "Roberta-context&20.38&Roberta-context&22.27\\\\\n",
      "\\rule{0pt}{3.0ex}\n",
      "Emo2Vec&32.9&Emo2Vec&31.4\\\\\n",
      "\\rule{0pt}{3.0ex}\n",
      "Roberta-static&33.97&Roberta-static&35.42\\\\\n",
      "\\rule{0pt}{3.0ex}\n",
      "w2v-GN&34.81&w2v-GN&35.71\\\\\n",
      "\\rule{0pt}{3.0ex}\n",
      "DeepMoji&40.06&DeepMoji&39.53\\\\\n",
      "\\rule{0pt}{3.0ex}\n",
      "EWE&40.13&EWE&39.85\\\\\n",
      "\\rule{0pt}{3.0ex}\n",
      "TF-IDF&41.89&fastText&41.78\\\\\n",
      "\\rule{0pt}{3.0ex}\n",
      "fastText&42.19&GloVe-WP&43.45\\\\\n",
      "\\rule{0pt}{3.0ex}\n",
      "GloVe-WP&44.15&Bert-static&44.39\\\\\n",
      "\\rule{0pt}{3.0ex}\n",
      "Bert-static&44.4&TF-IDF&45.48\\\\\n",
      "\\rule{0pt}{3.0ex}\n",
      "w2v-Araque&47.64&w2v-Araque&47.52\\\\\n",
      "\\rule{0pt}{3.0ex}\n",
      "BERTweet_base_transformers_STATIC&55.65&BERTweet_base_transformers_STATIC&55.0\\\\\n",
      "\\rule{0pt}{3.0ex}\n",
      "SSWE&66.07&SSWE&62.58\\\\\n",
      "\\rule{0pt}{3.0ex}\n",
      "w2v-Edin&75.03&w2v-Edin&72.66\\\\\n",
      "\\rule{0pt}{3.0ex}\n",
      "GloVe-TWT&80.77&GloVe-TWT&78.08\\\\\n"
     ]
    }
   ],
   "source": [
    "acc = result_acc.groupby(by=[\"Embedding\"]).sum()['rank'].sort_values().reset_index()\n",
    "f1 = result_f1.groupby(by=[\"Embedding\"]).sum()['rank'].sort_values().reset_index()\n",
    "monta_tabela_latex_top_rank_sum_emb(acc,f1)"
   ]
  }
 ],
 "metadata": {
  "colab": {
   "authorship_tag": "ABX9TyNu7AB0kwJRPr+r17jbMTv3",
   "collapsed_sections": [],
   "mount_file_id": "18YqNJ9EiloCFcgw03FIBpEvdUpPY5fCt",
   "name": "organize_result_bestoverall.ipynb",
   "provenance": []
  },
  "kernelspec": {
   "display_name": "Python 3",
   "language": "python",
   "name": "python3"
  },
  "language_info": {
   "codemirror_mode": {
    "name": "ipython",
    "version": 3
   },
   "file_extension": ".py",
   "mimetype": "text/x-python",
   "name": "python",
   "nbconvert_exporter": "python",
   "pygments_lexer": "ipython3",
   "version": "3.7.7"
  }
 },
 "nbformat": 4,
 "nbformat_minor": 1
}
