{
 "cells": [
  {
   "cell_type": "code",
   "execution_count": 32,
   "metadata": {
    "colab": {
     "base_uri": "https://localhost:8080/",
     "height": 54
    },
    "colab_type": "code",
    "executionInfo": {
     "elapsed": 947,
     "status": "ok",
     "timestamp": 1594579647401,
     "user": {
      "displayName": "Ricardo Moura",
      "photoUrl": "https://lh3.googleusercontent.com/a-/AOh14Gh4BPVXR6IythXBJgaEEl5JosseAHCEwlRIxpBjww=s64",
      "userId": "10784804889662280666"
     },
     "user_tz": 180
    },
    "id": "9dywRoFT5UnK",
    "outputId": "22352a1f-3477-4030-baee-4a5dcbe62864"
   },
   "outputs": [
    {
     "name": "stdout",
     "output_type": "stream",
     "text": [
      "Drive already mounted at /gdrive; to attempt to forcibly remount, call drive.mount(\"/gdrive\", force_remount=True).\n"
     ]
    }
   ],
   "source": [
    "import pandas as pd\n",
    "from google.colab import drive\n",
    "drive.mount('/gdrive')"
   ]
  },
  {
   "cell_type": "code",
   "execution_count": 33,
   "metadata": {
    "colab": {
     "base_uri": "https://localhost:8080/",
     "height": 34
    },
    "colab_type": "code",
    "executionInfo": {
     "elapsed": 1228,
     "status": "ok",
     "timestamp": 1594579647706,
     "user": {
      "displayName": "Ricardo Moura",
      "photoUrl": "https://lh3.googleusercontent.com/a-/AOh14Gh4BPVXR6IythXBJgaEEl5JosseAHCEwlRIxpBjww=s64",
      "userId": "10784804889662280666"
     },
     "user_tz": 180
    },
    "id": "Iiq-FUPF7SE2",
    "outputId": "a56451f8-9f94-42f6-a230-76b2c4a4c35d"
   },
   "outputs": [
    {
     "name": "stdout",
     "output_type": "stream",
     "text": [
      "/gdrive/My Drive/Colab Notebooks/estudo-orientado/relatorio/expr_results/base2\n"
     ]
    }
   ],
   "source": [
    "%cd /gdrive/My Drive/Colab Notebooks/estudo-orientado/relatorio/expr_results/base2"
   ]
  },
  {
   "cell_type": "code",
   "execution_count": 34,
   "metadata": {
    "colab": {},
    "colab_type": "code",
    "executionInfo": {
     "elapsed": 1214,
     "status": "ok",
     "timestamp": 1594579647707,
     "user": {
      "displayName": "Ricardo Moura",
      "photoUrl": "https://lh3.googleusercontent.com/a-/AOh14Gh4BPVXR6IythXBJgaEEl5JosseAHCEwlRIxpBjww=s64",
      "userId": "10784804889662280666"
     },
     "user_tz": 180
    },
    "id": "XAW3uCp27ptx"
   },
   "outputs": [],
   "source": [
    "dict = {\n",
    "    \"fileNames\" : [\n",
    "                   \"irony\",\n",
    "                   \"sarcasm\",\n",
    "                   \"aisopos\",\n",
    "                   \"SemEval-Fig\",\n",
    "                   \"sentiment140\",\n",
    "                   \"person\",\n",
    "                   \"hobbit\",\n",
    "                   \"iphone6\",\n",
    "                   \"movie\",\n",
    "                   \"sanders\",\n",
    "                   \"Narr\",\n",
    "                   \"archeage\",\n",
    "                   \"SemEval18\",\n",
    "                   \"OMD\",\n",
    "                   \"HCR\",\n",
    "                   \"STS-gold\",\n",
    "                   \"SentiStrength\",\n",
    "                   \"Target-dependent\",\n",
    "                   \"Vader\",\n",
    "                   \"SemEval13\",\n",
    "                   \"SemEval17\",\n",
    "                   \"SemEval16\"\n",
    "                  ]\n",
    "}"
   ]
  },
  {
   "cell_type": "code",
   "execution_count": 35,
   "metadata": {
    "colab": {},
    "colab_type": "code",
    "executionInfo": {
     "elapsed": 1572,
     "status": "ok",
     "timestamp": 1594579648074,
     "user": {
      "displayName": "Ricardo Moura",
      "photoUrl": "https://lh3.googleusercontent.com/a-/AOh14Gh4BPVXR6IythXBJgaEEl5JosseAHCEwlRIxpBjww=s64",
      "userId": "10784804889662280666"
     },
     "user_tz": 180
    },
    "id": "UsamTZP99FUW"
   },
   "outputs": [],
   "source": [
    "def deParaDatasetName(textDe):\n",
    "  if textDe == 'ntua':\n",
    "    return 'aisopos'\n",
    "  elif textDe == 'SemEval15-Task11':\n",
    "    return 'SemEval-Fig'\n",
    "  elif textDe == 'iphone':\n",
    "    return 'iphone6'\n",
    "  elif textDe == 'Narr-KDML-2012':\n",
    "    return 'Narr'\n",
    "  elif textDe == 'VADER':\n",
    "    return 'Vader'\n",
    "  elif textDe == 'SemEval17-test':\n",
    "    return 'SemEval17'\n",
    "  elif textDe == 'debate08':\n",
    "    return 'OMD'\n",
    "  else:\n",
    "    return textDe"
   ]
  },
  {
   "cell_type": "code",
   "execution_count": 36,
   "metadata": {
    "colab": {
     "base_uri": "https://localhost:8080/",
     "height": 52
    },
    "colab_type": "code",
    "executionInfo": {
     "elapsed": 1560,
     "status": "ok",
     "timestamp": 1594579648079,
     "user": {
      "displayName": "Ricardo Moura",
      "photoUrl": "https://lh3.googleusercontent.com/a-/AOh14Gh4BPVXR6IythXBJgaEEl5JosseAHCEwlRIxpBjww=s64",
      "userId": "10784804889662280666"
     },
     "user_tz": 180
    },
    "id": "4DIIs0Nvmee7",
    "outputId": "fe31a340-e9eb-4b7b-d413-fd8d7b9582a0"
   },
   "outputs": [
    {
     "data": {
      "application/vnd.google.colaboratory.intrinsic": {
       "type": "string"
      },
      "text/plain": [
       "'/gdrive/My Drive/Colab Notebooks/estudo-orientado/relatorio/expr_results/base2'"
      ]
     },
     "execution_count": 36,
     "metadata": {
      "tags": []
     },
     "output_type": "execute_result"
    }
   ],
   "source": [
    "%pwd"
   ]
  },
  {
   "cell_type": "code",
   "execution_count": 37,
   "metadata": {
    "colab": {},
    "colab_type": "code",
    "executionInfo": {
     "elapsed": 1541,
     "status": "ok",
     "timestamp": 1594579648081,
     "user": {
      "displayName": "Ricardo Moura",
      "photoUrl": "https://lh3.googleusercontent.com/a-/AOh14Gh4BPVXR6IythXBJgaEEl5JosseAHCEwlRIxpBjww=s64",
      "userId": "10784804889662280666"
     },
     "user_tz": 180
    },
    "id": "PhS6C9E152Xr"
   },
   "outputs": [],
   "source": [
    "df = pd.read_csv(\"Pivot_tables/pivot_Random_Forest_accuracy_expr1_2020-06-15.csv\", skiprows=[0,2], sep=\";\")"
   ]
  },
  {
   "cell_type": "code",
   "execution_count": 38,
   "metadata": {
    "colab": {
     "base_uri": "https://localhost:8080/",
     "height": 870
    },
    "colab_type": "code",
    "executionInfo": {
     "elapsed": 1526,
     "status": "ok",
     "timestamp": 1594579648084,
     "user": {
      "displayName": "Ricardo Moura",
      "photoUrl": "https://lh3.googleusercontent.com/a-/AOh14Gh4BPVXR6IythXBJgaEEl5JosseAHCEwlRIxpBjww=s64",
      "userId": "10784804889662280666"
     },
     "user_tz": 180
    },
    "id": "nws4q4EaQhT5",
    "outputId": "2d6291f1-0e10-49f1-dc0c-9f765eae1e14"
   },
   "outputs": [
    {
     "data": {
      "text/html": [
       "<div>\n",
       "<style scoped>\n",
       "    .dataframe tbody tr th:only-of-type {\n",
       "        vertical-align: middle;\n",
       "    }\n",
       "\n",
       "    .dataframe tbody tr th {\n",
       "        vertical-align: top;\n",
       "    }\n",
       "\n",
       "    .dataframe thead th {\n",
       "        text-align: right;\n",
       "    }\n",
       "</style>\n",
       "<table border=\"1\" class=\"dataframe\">\n",
       "  <thead>\n",
       "    <tr style=\"text-align: right;\">\n",
       "      <th></th>\n",
       "      <th>Embedding</th>\n",
       "      <th>Bert: bert-base-uncased / CONTEXT_CONCAT</th>\n",
       "      <th>Bert: bert-base-uncased / STATIC_AVG</th>\n",
       "      <th>DeepMoji</th>\n",
       "      <th>EWE</th>\n",
       "      <th>Emo2Vec</th>\n",
       "      <th>FastText</th>\n",
       "      <th>GloveTW</th>\n",
       "      <th>GloveWP</th>\n",
       "      <th>Roberta: roberta-base / CONTEXT_CONCAT</th>\n",
       "      <th>Roberta: roberta-base / STATIC_AVG</th>\n",
       "      <th>SSWE</th>\n",
       "      <th>W2V-GN</th>\n",
       "      <th>W2VAraque</th>\n",
       "      <th>W2VEdin</th>\n",
       "    </tr>\n",
       "  </thead>\n",
       "  <tbody>\n",
       "    <tr>\n",
       "      <th>0</th>\n",
       "      <td>HCR</td>\n",
       "      <td>75,89</td>\n",
       "      <td>75,16</td>\n",
       "      <td>74,58</td>\n",
       "      <td>74,27</td>\n",
       "      <td>74,58</td>\n",
       "      <td>74,06</td>\n",
       "      <td>68,66</td>\n",
       "      <td>73,43</td>\n",
       "      <td>75,63</td>\n",
       "      <td>74,42</td>\n",
       "      <td>73,06</td>\n",
       "      <td>74,63</td>\n",
       "      <td>74</td>\n",
       "      <td>73,43</td>\n",
       "    </tr>\n",
       "    <tr>\n",
       "      <th>1</th>\n",
       "      <td>Narr-KDML-2012</td>\n",
       "      <td>85,41</td>\n",
       "      <td>73,51</td>\n",
       "      <td>83,94</td>\n",
       "      <td>76,69</td>\n",
       "      <td>88,84</td>\n",
       "      <td>79,3</td>\n",
       "      <td>55,34</td>\n",
       "      <td>76,85</td>\n",
       "      <td>87,37</td>\n",
       "      <td>74,83</td>\n",
       "      <td>73,36</td>\n",
       "      <td>79,14</td>\n",
       "      <td>79,7</td>\n",
       "      <td>62,1</td>\n",
       "    </tr>\n",
       "    <tr>\n",
       "      <th>2</th>\n",
       "      <td>STS-gold</td>\n",
       "      <td>81,71</td>\n",
       "      <td>73,75</td>\n",
       "      <td>80,43</td>\n",
       "      <td>77,58</td>\n",
       "      <td>86,58</td>\n",
       "      <td>76,06</td>\n",
       "      <td>63,76</td>\n",
       "      <td>76,45</td>\n",
       "      <td>82,89</td>\n",
       "      <td>75,02</td>\n",
       "      <td>73,89</td>\n",
       "      <td>76,94</td>\n",
       "      <td>79,01</td>\n",
       "      <td>69,42</td>\n",
       "    </tr>\n",
       "    <tr>\n",
       "      <th>3</th>\n",
       "      <td>SemEval13</td>\n",
       "      <td>79,88</td>\n",
       "      <td>74,44</td>\n",
       "      <td>76,89</td>\n",
       "      <td>75,26</td>\n",
       "      <td>87,44</td>\n",
       "      <td>75,01</td>\n",
       "      <td>66,54</td>\n",
       "      <td>74,85</td>\n",
       "      <td>81,11</td>\n",
       "      <td>74,44</td>\n",
       "      <td>76,77</td>\n",
       "      <td>76,25</td>\n",
       "      <td>75,45</td>\n",
       "      <td>73</td>\n",
       "    </tr>\n",
       "    <tr>\n",
       "      <th>4</th>\n",
       "      <td>SemEval15-Task11</td>\n",
       "      <td>85,36</td>\n",
       "      <td>85,36</td>\n",
       "      <td>85,98</td>\n",
       "      <td>85,36</td>\n",
       "      <td>85,98</td>\n",
       "      <td>85,36</td>\n",
       "      <td>76</td>\n",
       "      <td>85,67</td>\n",
       "      <td>85,67</td>\n",
       "      <td>85,36</td>\n",
       "      <td>84,74</td>\n",
       "      <td>85,36</td>\n",
       "      <td>85,36</td>\n",
       "      <td>84,73</td>\n",
       "    </tr>\n",
       "    <tr>\n",
       "      <th>5</th>\n",
       "      <td>SemEval16</td>\n",
       "      <td>84,01</td>\n",
       "      <td>76,32</td>\n",
       "      <td>78,58</td>\n",
       "      <td>80,68</td>\n",
       "      <td>83,15</td>\n",
       "      <td>80,41</td>\n",
       "      <td>64,17</td>\n",
       "      <td>80</td>\n",
       "      <td>84,41</td>\n",
       "      <td>76,62</td>\n",
       "      <td>76,61</td>\n",
       "      <td>80,5</td>\n",
       "      <td>77,91</td>\n",
       "      <td>73,8</td>\n",
       "    </tr>\n",
       "    <tr>\n",
       "      <th>6</th>\n",
       "      <td>SemEval17-test</td>\n",
       "      <td>86,54</td>\n",
       "      <td>77,85</td>\n",
       "      <td>79,11</td>\n",
       "      <td>83</td>\n",
       "      <td>84,09</td>\n",
       "      <td>83,87</td>\n",
       "      <td>61,49</td>\n",
       "      <td>81,08</td>\n",
       "      <td>87,52</td>\n",
       "      <td>78,73</td>\n",
       "      <td>72,36</td>\n",
       "      <td>83,82</td>\n",
       "      <td>78,41</td>\n",
       "      <td>70,08</td>\n",
       "    </tr>\n",
       "    <tr>\n",
       "      <th>7</th>\n",
       "      <td>SemEval18</td>\n",
       "      <td>80,69</td>\n",
       "      <td>73,16</td>\n",
       "      <td>75,63</td>\n",
       "      <td>75,74</td>\n",
       "      <td>80,1</td>\n",
       "      <td>76,76</td>\n",
       "      <td>58,85</td>\n",
       "      <td>74,93</td>\n",
       "      <td>83,54</td>\n",
       "      <td>74,61</td>\n",
       "      <td>74,77</td>\n",
       "      <td>76,38</td>\n",
       "      <td>72,3</td>\n",
       "      <td>65,79</td>\n",
       "    </tr>\n",
       "    <tr>\n",
       "      <th>8</th>\n",
       "      <td>SentiStrength</td>\n",
       "      <td>78,68</td>\n",
       "      <td>69,2</td>\n",
       "      <td>73,61</td>\n",
       "      <td>69,86</td>\n",
       "      <td>83,88</td>\n",
       "      <td>71,3</td>\n",
       "      <td>55,09</td>\n",
       "      <td>67,89</td>\n",
       "      <td>80,08</td>\n",
       "      <td>68,24</td>\n",
       "      <td>67,28</td>\n",
       "      <td>71,69</td>\n",
       "      <td>71,17</td>\n",
       "      <td>58,5</td>\n",
       "    </tr>\n",
       "    <tr>\n",
       "      <th>9</th>\n",
       "      <td>Target-dependent</td>\n",
       "      <td>82,35</td>\n",
       "      <td>74,73</td>\n",
       "      <td>78,57</td>\n",
       "      <td>79,49</td>\n",
       "      <td>81,11</td>\n",
       "      <td>79,9</td>\n",
       "      <td>55,55</td>\n",
       "      <td>77,07</td>\n",
       "      <td>81,83</td>\n",
       "      <td>76,38</td>\n",
       "      <td>66,86</td>\n",
       "      <td>80,16</td>\n",
       "      <td>76,75</td>\n",
       "      <td>60,05</td>\n",
       "    </tr>\n",
       "    <tr>\n",
       "      <th>10</th>\n",
       "      <td>VADER</td>\n",
       "      <td>82,55</td>\n",
       "      <td>74,36</td>\n",
       "      <td>80,27</td>\n",
       "      <td>78,19</td>\n",
       "      <td>86,06</td>\n",
       "      <td>78,14</td>\n",
       "      <td>58,13</td>\n",
       "      <td>77,34</td>\n",
       "      <td>82,41</td>\n",
       "      <td>75,12</td>\n",
       "      <td>76,26</td>\n",
       "      <td>79,57</td>\n",
       "      <td>78,03</td>\n",
       "      <td>66,18</td>\n",
       "    </tr>\n",
       "    <tr>\n",
       "      <th>11</th>\n",
       "      <td>archeage</td>\n",
       "      <td>86,09</td>\n",
       "      <td>80,03</td>\n",
       "      <td>81,61</td>\n",
       "      <td>83,35</td>\n",
       "      <td>84,34</td>\n",
       "      <td>83,41</td>\n",
       "      <td>71,36</td>\n",
       "      <td>81,26</td>\n",
       "      <td>88,36</td>\n",
       "      <td>81,32</td>\n",
       "      <td>76,25</td>\n",
       "      <td>82,07</td>\n",
       "      <td>81,49</td>\n",
       "      <td>75,26</td>\n",
       "    </tr>\n",
       "    <tr>\n",
       "      <th>12</th>\n",
       "      <td>debate08</td>\n",
       "      <td>79,28</td>\n",
       "      <td>76,28</td>\n",
       "      <td>72,98</td>\n",
       "      <td>75,71</td>\n",
       "      <td>76,08</td>\n",
       "      <td>75,76</td>\n",
       "      <td>56,98</td>\n",
       "      <td>78,7</td>\n",
       "      <td>79,07</td>\n",
       "      <td>75,71</td>\n",
       "      <td>74,24</td>\n",
       "      <td>78,86</td>\n",
       "      <td>73,03</td>\n",
       "      <td>72,56</td>\n",
       "    </tr>\n",
       "    <tr>\n",
       "      <th>13</th>\n",
       "      <td>hobbit</td>\n",
       "      <td>77,4</td>\n",
       "      <td>79,31</td>\n",
       "      <td>84,47</td>\n",
       "      <td>86,58</td>\n",
       "      <td>86,59</td>\n",
       "      <td>79,3</td>\n",
       "      <td>67,26</td>\n",
       "      <td>79,89</td>\n",
       "      <td>78,37</td>\n",
       "      <td>80,85</td>\n",
       "      <td>68,97</td>\n",
       "      <td>84,66</td>\n",
       "      <td>85,83</td>\n",
       "      <td>69,56</td>\n",
       "    </tr>\n",
       "    <tr>\n",
       "      <th>14</th>\n",
       "      <td>iphone</td>\n",
       "      <td>80,25</td>\n",
       "      <td>77,08</td>\n",
       "      <td>77,45</td>\n",
       "      <td>77,82</td>\n",
       "      <td>79,7</td>\n",
       "      <td>77,62</td>\n",
       "      <td>71,61</td>\n",
       "      <td>78,38</td>\n",
       "      <td>80,06</td>\n",
       "      <td>78,2</td>\n",
       "      <td>75,19</td>\n",
       "      <td>78,19</td>\n",
       "      <td>79,69</td>\n",
       "      <td>74,8</td>\n",
       "    </tr>\n",
       "    <tr>\n",
       "      <th>15</th>\n",
       "      <td>irony</td>\n",
       "      <td>67,62</td>\n",
       "      <td>64,76</td>\n",
       "      <td>69,29</td>\n",
       "      <td>66,19</td>\n",
       "      <td>69,05</td>\n",
       "      <td>67,86</td>\n",
       "      <td>57,62</td>\n",
       "      <td>64,76</td>\n",
       "      <td>66,19</td>\n",
       "      <td>66,19</td>\n",
       "      <td>60</td>\n",
       "      <td>67,86</td>\n",
       "      <td>64,52</td>\n",
       "      <td>65,95</td>\n",
       "    </tr>\n",
       "    <tr>\n",
       "      <th>16</th>\n",
       "      <td>movie</td>\n",
       "      <td>82,35</td>\n",
       "      <td>82</td>\n",
       "      <td>82,36</td>\n",
       "      <td>82</td>\n",
       "      <td>86,63</td>\n",
       "      <td>82</td>\n",
       "      <td>72,9</td>\n",
       "      <td>82</td>\n",
       "      <td>82,18</td>\n",
       "      <td>82</td>\n",
       "      <td>82</td>\n",
       "      <td>82,36</td>\n",
       "      <td>82</td>\n",
       "      <td>81,64</td>\n",
       "    </tr>\n",
       "    <tr>\n",
       "      <th>17</th>\n",
       "      <td>ntua</td>\n",
       "      <td>83,06</td>\n",
       "      <td>74,1</td>\n",
       "      <td>89,91</td>\n",
       "      <td>68,69</td>\n",
       "      <td>78,03</td>\n",
       "      <td>70,15</td>\n",
       "      <td>60,38</td>\n",
       "      <td>84,88</td>\n",
       "      <td>83,1</td>\n",
       "      <td>83,07</td>\n",
       "      <td>88,88</td>\n",
       "      <td>74,07</td>\n",
       "      <td>71,51</td>\n",
       "      <td>60,4</td>\n",
       "    </tr>\n",
       "    <tr>\n",
       "      <th>18</th>\n",
       "      <td>person</td>\n",
       "      <td>77,23</td>\n",
       "      <td>72,66</td>\n",
       "      <td>71,97</td>\n",
       "      <td>76,54</td>\n",
       "      <td>79,05</td>\n",
       "      <td>75,16</td>\n",
       "      <td>60,36</td>\n",
       "      <td>75,63</td>\n",
       "      <td>76,08</td>\n",
       "      <td>70,85</td>\n",
       "      <td>74,27</td>\n",
       "      <td>75,62</td>\n",
       "      <td>72,68</td>\n",
       "      <td>68,57</td>\n",
       "    </tr>\n",
       "    <tr>\n",
       "      <th>19</th>\n",
       "      <td>sanders</td>\n",
       "      <td>82,6</td>\n",
       "      <td>74,76</td>\n",
       "      <td>79,57</td>\n",
       "      <td>79,33</td>\n",
       "      <td>80,96</td>\n",
       "      <td>78,43</td>\n",
       "      <td>59,31</td>\n",
       "      <td>76,88</td>\n",
       "      <td>84,97</td>\n",
       "      <td>74,19</td>\n",
       "      <td>71,73</td>\n",
       "      <td>78,5</td>\n",
       "      <td>75,98</td>\n",
       "      <td>67</td>\n",
       "    </tr>\n",
       "    <tr>\n",
       "      <th>20</th>\n",
       "      <td>sarcasm</td>\n",
       "      <td>67,32</td>\n",
       "      <td>64,64</td>\n",
       "      <td>61,96</td>\n",
       "      <td>61,61</td>\n",
       "      <td>71,79</td>\n",
       "      <td>65,89</td>\n",
       "      <td>46,43</td>\n",
       "      <td>60,36</td>\n",
       "      <td>66,07</td>\n",
       "      <td>50,71</td>\n",
       "      <td>70,36</td>\n",
       "      <td>71,61</td>\n",
       "      <td>61,79</td>\n",
       "      <td>61,61</td>\n",
       "    </tr>\n",
       "    <tr>\n",
       "      <th>21</th>\n",
       "      <td>sentiment140</td>\n",
       "      <td>83,02</td>\n",
       "      <td>74,65</td>\n",
       "      <td>76,88</td>\n",
       "      <td>79,39</td>\n",
       "      <td>82,73</td>\n",
       "      <td>77,98</td>\n",
       "      <td>57,94</td>\n",
       "      <td>75,2</td>\n",
       "      <td>86,62</td>\n",
       "      <td>79,95</td>\n",
       "      <td>70,49</td>\n",
       "      <td>81,62</td>\n",
       "      <td>79,1</td>\n",
       "      <td>55,44</td>\n",
       "    </tr>\n",
       "  </tbody>\n",
       "</table>\n",
       "</div>"
      ],
      "text/plain": [
       "           Embedding Bert: bert-base-uncased / CONTEXT_CONCAT  ... W2VAraque W2VEdin\n",
       "0                HCR                                    75,89  ...        74   73,43\n",
       "1     Narr-KDML-2012                                    85,41  ...      79,7    62,1\n",
       "2           STS-gold                                    81,71  ...     79,01   69,42\n",
       "3          SemEval13                                    79,88  ...     75,45      73\n",
       "4   SemEval15-Task11                                    85,36  ...     85,36   84,73\n",
       "5          SemEval16                                    84,01  ...     77,91    73,8\n",
       "6     SemEval17-test                                    86,54  ...     78,41   70,08\n",
       "7          SemEval18                                    80,69  ...      72,3   65,79\n",
       "8      SentiStrength                                    78,68  ...     71,17    58,5\n",
       "9   Target-dependent                                    82,35  ...     76,75   60,05\n",
       "10             VADER                                    82,55  ...     78,03   66,18\n",
       "11          archeage                                    86,09  ...     81,49   75,26\n",
       "12          debate08                                    79,28  ...     73,03   72,56\n",
       "13            hobbit                                     77,4  ...     85,83   69,56\n",
       "14            iphone                                    80,25  ...     79,69    74,8\n",
       "15             irony                                    67,62  ...     64,52   65,95\n",
       "16             movie                                    82,35  ...        82   81,64\n",
       "17              ntua                                    83,06  ...     71,51    60,4\n",
       "18            person                                    77,23  ...     72,68   68,57\n",
       "19           sanders                                     82,6  ...     75,98      67\n",
       "20           sarcasm                                    67,32  ...     61,79   61,61\n",
       "21      sentiment140                                    83,02  ...      79,1   55,44\n",
       "\n",
       "[22 rows x 15 columns]"
      ]
     },
     "execution_count": 38,
     "metadata": {
      "tags": []
     },
     "output_type": "execute_result"
    }
   ],
   "source": [
    "df"
   ]
  },
  {
   "cell_type": "code",
   "execution_count": 39,
   "metadata": {
    "colab": {},
    "colab_type": "code",
    "executionInfo": {
     "elapsed": 1513,
     "status": "ok",
     "timestamp": 1594579648087,
     "user": {
      "displayName": "Ricardo Moura",
      "photoUrl": "https://lh3.googleusercontent.com/a-/AOh14Gh4BPVXR6IythXBJgaEEl5JosseAHCEwlRIxpBjww=s64",
      "userId": "10784804889662280666"
     },
     "user_tz": 180
    },
    "id": "5g3JFX-M67LF"
   },
   "outputs": [],
   "source": [
    "df_context_beststatic = df.iloc[:, [0,1,5,9]].copy()"
   ]
  },
  {
   "cell_type": "code",
   "execution_count": 40,
   "metadata": {
    "colab": {
     "base_uri": "https://localhost:8080/",
     "height": 816
    },
    "colab_type": "code",
    "executionInfo": {
     "elapsed": 1984,
     "status": "ok",
     "timestamp": 1594579648572,
     "user": {
      "displayName": "Ricardo Moura",
      "photoUrl": "https://lh3.googleusercontent.com/a-/AOh14Gh4BPVXR6IythXBJgaEEl5JosseAHCEwlRIxpBjww=s64",
      "userId": "10784804889662280666"
     },
     "user_tz": 180
    },
    "id": "hmYNA47jQvp5",
    "outputId": "08b5c519-625d-4205-af64-a9bfe9fab24d"
   },
   "outputs": [
    {
     "data": {
      "text/html": [
       "<div>\n",
       "<style scoped>\n",
       "    .dataframe tbody tr th:only-of-type {\n",
       "        vertical-align: middle;\n",
       "    }\n",
       "\n",
       "    .dataframe tbody tr th {\n",
       "        vertical-align: top;\n",
       "    }\n",
       "\n",
       "    .dataframe thead th {\n",
       "        text-align: right;\n",
       "    }\n",
       "</style>\n",
       "<table border=\"1\" class=\"dataframe\">\n",
       "  <thead>\n",
       "    <tr style=\"text-align: right;\">\n",
       "      <th></th>\n",
       "      <th>Embedding</th>\n",
       "      <th>Bert: bert-base-uncased / CONTEXT_CONCAT</th>\n",
       "      <th>Emo2Vec</th>\n",
       "      <th>Roberta: roberta-base / CONTEXT_CONCAT</th>\n",
       "    </tr>\n",
       "  </thead>\n",
       "  <tbody>\n",
       "    <tr>\n",
       "      <th>0</th>\n",
       "      <td>HCR</td>\n",
       "      <td>75,89</td>\n",
       "      <td>74,58</td>\n",
       "      <td>75,63</td>\n",
       "    </tr>\n",
       "    <tr>\n",
       "      <th>1</th>\n",
       "      <td>Narr-KDML-2012</td>\n",
       "      <td>85,41</td>\n",
       "      <td>88,84</td>\n",
       "      <td>87,37</td>\n",
       "    </tr>\n",
       "    <tr>\n",
       "      <th>2</th>\n",
       "      <td>STS-gold</td>\n",
       "      <td>81,71</td>\n",
       "      <td>86,58</td>\n",
       "      <td>82,89</td>\n",
       "    </tr>\n",
       "    <tr>\n",
       "      <th>3</th>\n",
       "      <td>SemEval13</td>\n",
       "      <td>79,88</td>\n",
       "      <td>87,44</td>\n",
       "      <td>81,11</td>\n",
       "    </tr>\n",
       "    <tr>\n",
       "      <th>4</th>\n",
       "      <td>SemEval15-Task11</td>\n",
       "      <td>85,36</td>\n",
       "      <td>85,98</td>\n",
       "      <td>85,67</td>\n",
       "    </tr>\n",
       "    <tr>\n",
       "      <th>5</th>\n",
       "      <td>SemEval16</td>\n",
       "      <td>84,01</td>\n",
       "      <td>83,15</td>\n",
       "      <td>84,41</td>\n",
       "    </tr>\n",
       "    <tr>\n",
       "      <th>6</th>\n",
       "      <td>SemEval17-test</td>\n",
       "      <td>86,54</td>\n",
       "      <td>84,09</td>\n",
       "      <td>87,52</td>\n",
       "    </tr>\n",
       "    <tr>\n",
       "      <th>7</th>\n",
       "      <td>SemEval18</td>\n",
       "      <td>80,69</td>\n",
       "      <td>80,1</td>\n",
       "      <td>83,54</td>\n",
       "    </tr>\n",
       "    <tr>\n",
       "      <th>8</th>\n",
       "      <td>SentiStrength</td>\n",
       "      <td>78,68</td>\n",
       "      <td>83,88</td>\n",
       "      <td>80,08</td>\n",
       "    </tr>\n",
       "    <tr>\n",
       "      <th>9</th>\n",
       "      <td>Target-dependent</td>\n",
       "      <td>82,35</td>\n",
       "      <td>81,11</td>\n",
       "      <td>81,83</td>\n",
       "    </tr>\n",
       "    <tr>\n",
       "      <th>10</th>\n",
       "      <td>VADER</td>\n",
       "      <td>82,55</td>\n",
       "      <td>86,06</td>\n",
       "      <td>82,41</td>\n",
       "    </tr>\n",
       "    <tr>\n",
       "      <th>11</th>\n",
       "      <td>archeage</td>\n",
       "      <td>86,09</td>\n",
       "      <td>84,34</td>\n",
       "      <td>88,36</td>\n",
       "    </tr>\n",
       "    <tr>\n",
       "      <th>12</th>\n",
       "      <td>debate08</td>\n",
       "      <td>79,28</td>\n",
       "      <td>76,08</td>\n",
       "      <td>79,07</td>\n",
       "    </tr>\n",
       "    <tr>\n",
       "      <th>13</th>\n",
       "      <td>hobbit</td>\n",
       "      <td>77,4</td>\n",
       "      <td>86,59</td>\n",
       "      <td>78,37</td>\n",
       "    </tr>\n",
       "    <tr>\n",
       "      <th>14</th>\n",
       "      <td>iphone</td>\n",
       "      <td>80,25</td>\n",
       "      <td>79,7</td>\n",
       "      <td>80,06</td>\n",
       "    </tr>\n",
       "    <tr>\n",
       "      <th>15</th>\n",
       "      <td>irony</td>\n",
       "      <td>67,62</td>\n",
       "      <td>69,05</td>\n",
       "      <td>66,19</td>\n",
       "    </tr>\n",
       "    <tr>\n",
       "      <th>16</th>\n",
       "      <td>movie</td>\n",
       "      <td>82,35</td>\n",
       "      <td>86,63</td>\n",
       "      <td>82,18</td>\n",
       "    </tr>\n",
       "    <tr>\n",
       "      <th>17</th>\n",
       "      <td>ntua</td>\n",
       "      <td>83,06</td>\n",
       "      <td>78,03</td>\n",
       "      <td>83,1</td>\n",
       "    </tr>\n",
       "    <tr>\n",
       "      <th>18</th>\n",
       "      <td>person</td>\n",
       "      <td>77,23</td>\n",
       "      <td>79,05</td>\n",
       "      <td>76,08</td>\n",
       "    </tr>\n",
       "    <tr>\n",
       "      <th>19</th>\n",
       "      <td>sanders</td>\n",
       "      <td>82,6</td>\n",
       "      <td>80,96</td>\n",
       "      <td>84,97</td>\n",
       "    </tr>\n",
       "    <tr>\n",
       "      <th>20</th>\n",
       "      <td>sarcasm</td>\n",
       "      <td>67,32</td>\n",
       "      <td>71,79</td>\n",
       "      <td>66,07</td>\n",
       "    </tr>\n",
       "    <tr>\n",
       "      <th>21</th>\n",
       "      <td>sentiment140</td>\n",
       "      <td>83,02</td>\n",
       "      <td>82,73</td>\n",
       "      <td>86,62</td>\n",
       "    </tr>\n",
       "  </tbody>\n",
       "</table>\n",
       "</div>"
      ],
      "text/plain": [
       "           Embedding  ... Roberta: roberta-base / CONTEXT_CONCAT\n",
       "0                HCR  ...                                  75,63\n",
       "1     Narr-KDML-2012  ...                                  87,37\n",
       "2           STS-gold  ...                                  82,89\n",
       "3          SemEval13  ...                                  81,11\n",
       "4   SemEval15-Task11  ...                                  85,67\n",
       "5          SemEval16  ...                                  84,41\n",
       "6     SemEval17-test  ...                                  87,52\n",
       "7          SemEval18  ...                                  83,54\n",
       "8      SentiStrength  ...                                  80,08\n",
       "9   Target-dependent  ...                                  81,83\n",
       "10             VADER  ...                                  82,41\n",
       "11          archeage  ...                                  88,36\n",
       "12          debate08  ...                                  79,07\n",
       "13            hobbit  ...                                  78,37\n",
       "14            iphone  ...                                  80,06\n",
       "15             irony  ...                                  66,19\n",
       "16             movie  ...                                  82,18\n",
       "17              ntua  ...                                   83,1\n",
       "18            person  ...                                  76,08\n",
       "19           sanders  ...                                  84,97\n",
       "20           sarcasm  ...                                  66,07\n",
       "21      sentiment140  ...                                  86,62\n",
       "\n",
       "[22 rows x 4 columns]"
      ]
     },
     "execution_count": 40,
     "metadata": {
      "tags": []
     },
     "output_type": "execute_result"
    }
   ],
   "source": [
    "df_context_beststatic"
   ]
  },
  {
   "cell_type": "code",
   "execution_count": 41,
   "metadata": {
    "colab": {},
    "colab_type": "code",
    "executionInfo": {
     "elapsed": 1964,
     "status": "ok",
     "timestamp": 1594579648574,
     "user": {
      "displayName": "Ricardo Moura",
      "photoUrl": "https://lh3.googleusercontent.com/a-/AOh14Gh4BPVXR6IythXBJgaEEl5JosseAHCEwlRIxpBjww=s64",
      "userId": "10784804889662280666"
     },
     "user_tz": 180
    },
    "id": "5u4L4kxc-aXa"
   },
   "outputs": [],
   "source": [
    "df_context_beststatic = df_context_beststatic.stack().str.replace(',','.').unstack()"
   ]
  },
  {
   "cell_type": "code",
   "execution_count": 42,
   "metadata": {
    "colab": {},
    "colab_type": "code",
    "executionInfo": {
     "elapsed": 1953,
     "status": "ok",
     "timestamp": 1594579648575,
     "user": {
      "displayName": "Ricardo Moura",
      "photoUrl": "https://lh3.googleusercontent.com/a-/AOh14Gh4BPVXR6IythXBJgaEEl5JosseAHCEwlRIxpBjww=s64",
      "userId": "10784804889662280666"
     },
     "user_tz": 180
    },
    "id": "05WFV64O2zJN"
   },
   "outputs": [],
   "source": [
    "df_context_beststatic[\"Embedding\"] = df_context_beststatic[\"Embedding\"].apply(deParaDatasetName)"
   ]
  },
  {
   "cell_type": "code",
   "execution_count": 43,
   "metadata": {
    "colab": {},
    "colab_type": "code",
    "executionInfo": {
     "elapsed": 1942,
     "status": "ok",
     "timestamp": 1594579648576,
     "user": {
      "displayName": "Ricardo Moura",
      "photoUrl": "https://lh3.googleusercontent.com/a-/AOh14Gh4BPVXR6IythXBJgaEEl5JosseAHCEwlRIxpBjww=s64",
      "userId": "10784804889662280666"
     },
     "user_tz": 180
    },
    "id": "fHdLHveLMxPn"
   },
   "outputs": [],
   "source": [
    "df_context_beststatic = df_context_beststatic.reindex([15,20,17,4,21,18,13,14,16,19,1,11,7,12,0,2,8,9,10,3,6,5])"
   ]
  },
  {
   "cell_type": "code",
   "execution_count": 44,
   "metadata": {
    "colab": {},
    "colab_type": "code",
    "executionInfo": {
     "elapsed": 1931,
     "status": "ok",
     "timestamp": 1594579648577,
     "user": {
      "displayName": "Ricardo Moura",
      "photoUrl": "https://lh3.googleusercontent.com/a-/AOh14Gh4BPVXR6IythXBJgaEEl5JosseAHCEwlRIxpBjww=s64",
      "userId": "10784804889662280666"
     },
     "user_tz": 180
    },
    "id": "UCK-uSdEndVW"
   },
   "outputs": [],
   "source": [
    "#dicionario que contem os datasets como key e o value é uma lista ordenada dos melhores embedding com metricas. Do maior para o menor valor\n",
    "seq_champion = {\n",
    "}\n",
    "\n",
    "#dicionario que contem os datasets como key e o value é uma lista ordenada dos melhores embeddings com rankings. Do maior para o menor valor\n",
    "seq_champion_rank = {\n",
    "}\n",
    "\n",
    "#dicionario que contem os embeddings como key e o value é o ranksum\n",
    "dict_emb_ranksum = {\n",
    "    \n",
    "}"
   ]
  },
  {
   "cell_type": "code",
   "execution_count": 45,
   "metadata": {
    "colab": {},
    "colab_type": "code",
    "executionInfo": {
     "elapsed": 1919,
     "status": "ok",
     "timestamp": 1594579648578,
     "user": {
      "displayName": "Ricardo Moura",
      "photoUrl": "https://lh3.googleusercontent.com/a-/AOh14Gh4BPVXR6IythXBJgaEEl5JosseAHCEwlRIxpBjww=s64",
      "userId": "10784804889662280666"
     },
     "user_tz": 180
    },
    "id": "Y_FXrclFn5Y2"
   },
   "outputs": [],
   "source": [
    "# For para popular o seq_champion\n",
    "for ind in df_context_beststatic.index:\n",
    "  df_row = df_context_beststatic.loc[ind, :]\n",
    "  #print(df_row.sort_values(by=[]))\n",
    "  dataset = df_row[0]\n",
    "  embval = df_row[1:]\n",
    "  embvalsort = embval.sort_values(ascending=False)\n",
    "  seq_champion.update({dataset: embvalsort})\n",
    "  "
   ]
  },
  {
   "cell_type": "code",
   "execution_count": 46,
   "metadata": {
    "colab": {},
    "colab_type": "code",
    "executionInfo": {
     "elapsed": 1907,
     "status": "ok",
     "timestamp": 1594579648579,
     "user": {
      "displayName": "Ricardo Moura",
      "photoUrl": "https://lh3.googleusercontent.com/a-/AOh14Gh4BPVXR6IythXBJgaEEl5JosseAHCEwlRIxpBjww=s64",
      "userId": "10784804889662280666"
     },
     "user_tz": 180
    },
    "id": "eAnUDKI_jwZq"
   },
   "outputs": [],
   "source": [
    "def populateSeqChampionRank(dicionario):\n",
    "  # passo1: colocar em ordem\n",
    "  for key in dicionario:\n",
    "    seq = dicionario.get(key)\n",
    "    seq_rank = seq.copy()\n",
    "    points = 0\n",
    "    ix_before = seq.index[0]\n",
    "    for ix in seq.index:\n",
    "      points = points + 1\n",
    "      if ix == seq.index[0]:\n",
    "        seq_rank[ix] = points\n",
    "      elif seq[ix] == seq[ix_before]:\n",
    "        print(key, ix, ix_before, seq[ix], seq[ix_before], seq_rank[ix_before])\n",
    "        seq_rank[ix] = seq_rank[ix_before]\n",
    "      else:\n",
    "        seq_rank[ix] = points\n",
    "        ix_before = ix\n",
    "    seq_champion_rank.update({key: seq_rank})\n",
    "\n",
    "  #print(seq_champion_rank['SemEval-Fig'])\n",
    "\n",
    "  #passo2: distribuir os pesos\n",
    "  for key in seq_champion_rank:\n",
    "    seq = seq_champion_rank.get(key)\n",
    "    seq_rank = seq.copy()\n",
    "    for i in range(seq.count()):\n",
    "      position = seq[seq[:] == i]\n",
    "      qtd = position.count()\n",
    "      if qtd >= 2:\n",
    "        #print(position)\n",
    "        soma = i\n",
    "        for j in range(1, qtd):\n",
    "          #print(\"for: \", i, soma, j)\n",
    "          soma = soma + (i + j)\n",
    "        #print(qtd, soma, str(float(soma/qtd)))\n",
    "        seq_rank[seq_rank[:] == i] = float(soma / qtd)\n",
    "    seq_champion_rank.update({key: seq_rank})\n",
    "\n",
    "  \n",
    "\n",
    "  #print(seq_champion_rank['SemEval-Fig'])\n",
    "\n",
    "  "
   ]
  },
  {
   "cell_type": "code",
   "execution_count": 47,
   "metadata": {
    "colab": {},
    "colab_type": "code",
    "executionInfo": {
     "elapsed": 1897,
     "status": "ok",
     "timestamp": 1594579648579,
     "user": {
      "displayName": "Ricardo Moura",
      "photoUrl": "https://lh3.googleusercontent.com/a-/AOh14Gh4BPVXR6IythXBJgaEEl5JosseAHCEwlRIxpBjww=s64",
      "userId": "10784804889662280666"
     },
     "user_tz": 180
    },
    "id": "mUM-j9YTkpJ4"
   },
   "outputs": [],
   "source": [
    "populateSeqChampionRank(seq_champion)\n"
   ]
  },
  {
   "cell_type": "code",
   "execution_count": 48,
   "metadata": {
    "colab": {},
    "colab_type": "code",
    "executionInfo": {
     "elapsed": 1884,
     "status": "ok",
     "timestamp": 1594579648580,
     "user": {
      "displayName": "Ricardo Moura",
      "photoUrl": "https://lh3.googleusercontent.com/a-/AOh14Gh4BPVXR6IythXBJgaEEl5JosseAHCEwlRIxpBjww=s64",
      "userId": "10784804889662280666"
     },
     "user_tz": 180
    },
    "id": "lFWsSfZHRPpj"
   },
   "outputs": [],
   "source": [
    "def populateEmbRankSum():\n",
    "  dict_emb_ranksum.clear()\n",
    "  for key in seq_champion_rank:\n",
    "    #pegando os ranks do dataset\n",
    "    ranks = seq_champion_rank.get(key)\n",
    "    for ix in ranks.index:\n",
    "      embRankSum = dict_emb_ranksum.get(ix)\n",
    "      if embRankSum == None:\n",
    "        embRankSum = 0\n",
    "      dict_emb_ranksum.update({ix : ranks[ix]+embRankSum})\n"
   ]
  },
  {
   "cell_type": "code",
   "execution_count": 49,
   "metadata": {
    "colab": {},
    "colab_type": "code",
    "executionInfo": {
     "elapsed": 1873,
     "status": "ok",
     "timestamp": 1594579648581,
     "user": {
      "displayName": "Ricardo Moura",
      "photoUrl": "https://lh3.googleusercontent.com/a-/AOh14Gh4BPVXR6IythXBJgaEEl5JosseAHCEwlRIxpBjww=s64",
      "userId": "10784804889662280666"
     },
     "user_tz": 180
    },
    "id": "jWb9YvsZdtbR"
   },
   "outputs": [],
   "source": [
    "def returnSortedRankEmbSums():\n",
    "  s = pd.Series(dict_emb_ranksum)\n",
    "  s = s.rank().sort_values(ascending=True)\n",
    "  s = s.apply(lambda x: int(x))\n",
    "  return s"
   ]
  },
  {
   "cell_type": "code",
   "execution_count": 50,
   "metadata": {
    "colab": {},
    "colab_type": "code",
    "executionInfo": {
     "elapsed": 1861,
     "status": "ok",
     "timestamp": 1594579648582,
     "user": {
      "displayName": "Ricardo Moura",
      "photoUrl": "https://lh3.googleusercontent.com/a-/AOh14Gh4BPVXR6IythXBJgaEEl5JosseAHCEwlRIxpBjww=s64",
      "userId": "10784804889662280666"
     },
     "user_tz": 180
    },
    "id": "Doq892T3UsIW"
   },
   "outputs": [],
   "source": [
    "populateEmbRankSum()"
   ]
  },
  {
   "cell_type": "code",
   "execution_count": 51,
   "metadata": {
    "colab": {},
    "colab_type": "code",
    "executionInfo": {
     "elapsed": 1848,
     "status": "ok",
     "timestamp": 1594579648583,
     "user": {
      "displayName": "Ricardo Moura",
      "photoUrl": "https://lh3.googleusercontent.com/a-/AOh14Gh4BPVXR6IythXBJgaEEl5JosseAHCEwlRIxpBjww=s64",
      "userId": "10784804889662280666"
     },
     "user_tz": 180
    },
    "id": "4cGZp8GAZyhz"
   },
   "outputs": [],
   "source": [
    "#variavel com a lista ordenada das somas dos ranks\n",
    "sortedRankEmbSums = returnSortedRankEmbSums()\n"
   ]
  },
  {
   "cell_type": "code",
   "execution_count": 52,
   "metadata": {
    "colab": {
     "base_uri": "https://localhost:8080/",
     "height": 68
    },
    "colab_type": "code",
    "executionInfo": {
     "elapsed": 1837,
     "status": "ok",
     "timestamp": 1594579648584,
     "user": {
      "displayName": "Ricardo Moura",
      "photoUrl": "https://lh3.googleusercontent.com/a-/AOh14Gh4BPVXR6IythXBJgaEEl5JosseAHCEwlRIxpBjww=s64",
      "userId": "10784804889662280666"
     },
     "user_tz": 180
    },
    "id": "v8dhe1sXV76d",
    "outputId": "a69aef29-207d-4854-b0fc-4f12fa68d059"
   },
   "outputs": [
    {
     "data": {
      "text/plain": [
       "{'Bert: bert-base-uncased / CONTEXT_CONCAT': 46,\n",
       " 'Emo2Vec': 44,\n",
       " 'Roberta: roberta-base / CONTEXT_CONCAT': 42}"
      ]
     },
     "execution_count": 52,
     "metadata": {
      "tags": []
     },
     "output_type": "execute_result"
    }
   ],
   "source": [
    "dict_emb_ranksum"
   ]
  },
  {
   "cell_type": "code",
   "execution_count": 53,
   "metadata": {
    "colab": {},
    "colab_type": "code",
    "executionInfo": {
     "elapsed": 1819,
     "status": "ok",
     "timestamp": 1594579648584,
     "user": {
      "displayName": "Ricardo Moura",
      "photoUrl": "https://lh3.googleusercontent.com/a-/AOh14Gh4BPVXR6IythXBJgaEEl5JosseAHCEwlRIxpBjww=s64",
      "userId": "10784804889662280666"
     },
     "user_tz": 180
    },
    "id": "gbGE-GbLUqKk"
   },
   "outputs": [],
   "source": [
    "def isTheWinner(embVal:float, dsname):\n",
    "  \"\"\"\n",
    "  Metodo para retornar se um determinado valor é o de maior precisáo de um dataset\n",
    "  embVal: valor da precisao\n",
    "  dsname: nome do dataset\n",
    "  \"\"\"\n",
    "  seq = seq_champion.get(dsname)\n",
    "  val = seq[0]\n",
    "  return float(embVal) == float(val)\n"
   ]
  },
  {
   "cell_type": "code",
   "execution_count": 54,
   "metadata": {
    "colab": {
     "base_uri": "https://localhost:8080/",
     "height": 34
    },
    "colab_type": "code",
    "executionInfo": {
     "elapsed": 1807,
     "status": "ok",
     "timestamp": 1594579648585,
     "user": {
      "displayName": "Ricardo Moura",
      "photoUrl": "https://lh3.googleusercontent.com/a-/AOh14Gh4BPVXR6IythXBJgaEEl5JosseAHCEwlRIxpBjww=s64",
      "userId": "10784804889662280666"
     },
     "user_tz": 180
    },
    "id": "Vq2Ev5GUWJ7E",
    "outputId": "3e4381c1-d644-4b19-82c3-dd0ec4a7aef4"
   },
   "outputs": [
    {
     "name": "stdout",
     "output_type": "stream",
     "text": [
      "False\n"
     ]
    }
   ],
   "source": [
    "print(isTheWinner(84.94, 'sentiment140'))"
   ]
  },
  {
   "cell_type": "code",
   "execution_count": 55,
   "metadata": {
    "colab": {},
    "colab_type": "code",
    "executionInfo": {
     "elapsed": 1789,
     "status": "ok",
     "timestamp": 1594579648586,
     "user": {
      "displayName": "Ricardo Moura",
      "photoUrl": "https://lh3.googleusercontent.com/a-/AOh14Gh4BPVXR6IythXBJgaEEl5JosseAHCEwlRIxpBjww=s64",
      "userId": "10784804889662280666"
     },
     "user_tz": 180
    },
    "id": "iU3LjX5YY6WV"
   },
   "outputs": [],
   "source": [
    "def printWinnerTableFormat(embVal:float, dsname):\n",
    "  if (isTheWinner(embVal, dsname)):\n",
    "    return '\\\\textbf{'+str(embVal)+'}'\n",
    "  return embVal"
   ]
  },
  {
   "cell_type": "code",
   "execution_count": 56,
   "metadata": {
    "colab": {
     "base_uri": "https://localhost:8080/",
     "height": 34
    },
    "colab_type": "code",
    "executionInfo": {
     "elapsed": 1778,
     "status": "ok",
     "timestamp": 1594579648586,
     "user": {
      "displayName": "Ricardo Moura",
      "photoUrl": "https://lh3.googleusercontent.com/a-/AOh14Gh4BPVXR6IythXBJgaEEl5JosseAHCEwlRIxpBjww=s64",
      "userId": "10784804889662280666"
     },
     "user_tz": 180
    },
    "id": "PBcqsf7LZoFr",
    "outputId": "e3bda1af-f9b9-4092-ac6c-c4b758e6db3f"
   },
   "outputs": [
    {
     "name": "stdout",
     "output_type": "stream",
     "text": [
      "84.94\n"
     ]
    }
   ],
   "source": [
    "print(printWinnerTableFormat(84.94, 'sentiment140'))"
   ]
  },
  {
   "cell_type": "code",
   "execution_count": 57,
   "metadata": {
    "colab": {},
    "colab_type": "code",
    "executionInfo": {
     "elapsed": 1759,
     "status": "ok",
     "timestamp": 1594579648587,
     "user": {
      "displayName": "Ricardo Moura",
      "photoUrl": "https://lh3.googleusercontent.com/a-/AOh14Gh4BPVXR6IythXBJgaEEl5JosseAHCEwlRIxpBjww=s64",
      "userId": "10784804889662280666"
     },
     "user_tz": 180
    },
    "id": "VKyviryOdDUf"
   },
   "outputs": [],
   "source": [
    "def countWins(embName):\n",
    "  count = 0\n",
    "  #iterando nos resultados por dataset\n",
    "  for key in seq_champion:\n",
    "    seq = seq_champion.get(key)\n",
    "    embVal = seq[embName]\n",
    "    if (embVal == seq[0]):\n",
    "      count = count + 1\n",
    "  return count\n",
    "\n"
   ]
  },
  {
   "cell_type": "code",
   "execution_count": 58,
   "metadata": {
    "colab": {
     "base_uri": "https://localhost:8080/",
     "height": 34
    },
    "colab_type": "code",
    "executionInfo": {
     "elapsed": 1744,
     "status": "ok",
     "timestamp": 1594579648588,
     "user": {
      "displayName": "Ricardo Moura",
      "photoUrl": "https://lh3.googleusercontent.com/a-/AOh14Gh4BPVXR6IythXBJgaEEl5JosseAHCEwlRIxpBjww=s64",
      "userId": "10784804889662280666"
     },
     "user_tz": 180
    },
    "id": "hKfRH6uEgY2j",
    "outputId": "96a085eb-60d3-4fcc-f8b7-0b3ce4efba5a"
   },
   "outputs": [
    {
     "data": {
      "text/plain": [
       "11"
      ]
     },
     "execution_count": 58,
     "metadata": {
      "tags": []
     },
     "output_type": "execute_result"
    }
   ],
   "source": [
    "countWins('Emo2Vec')"
   ]
  },
  {
   "cell_type": "code",
   "execution_count": 59,
   "metadata": {
    "colab": {
     "base_uri": "https://localhost:8080/",
     "height": 54
    },
    "colab_type": "code",
    "executionInfo": {
     "elapsed": 1729,
     "status": "ok",
     "timestamp": 1594579648588,
     "user": {
      "displayName": "Ricardo Moura",
      "photoUrl": "https://lh3.googleusercontent.com/a-/AOh14Gh4BPVXR6IythXBJgaEEl5JosseAHCEwlRIxpBjww=s64",
      "userId": "10784804889662280666"
     },
     "user_tz": 180
    },
    "id": "A2kcoFj7Tsmu",
    "outputId": "08397e65-3abf-4929-bc59-572e72a631a2"
   },
   "outputs": [
    {
     "name": "stdout",
     "output_type": "stream",
     "text": [
      "dict_keys(['irony', 'sarcasm', 'aisopos', 'SemEval-Fig', 'sentiment140', 'person', 'hobbit', 'iphone6', 'movie', 'sanders', 'Narr', 'archeage', 'SemEval18', 'OMD', 'HCR', 'STS-gold', 'SentiStrength', 'Target-dependent', 'Vader', 'SemEval13', 'SemEval17', 'SemEval16'])\n"
     ]
    }
   ],
   "source": [
    "print(seq_champion.keys())"
   ]
  },
  {
   "cell_type": "code",
   "execution_count": 60,
   "metadata": {
    "colab": {
     "base_uri": "https://localhost:8080/",
     "height": 85
    },
    "colab_type": "code",
    "executionInfo": {
     "elapsed": 1713,
     "status": "ok",
     "timestamp": 1594579648589,
     "user": {
      "displayName": "Ricardo Moura",
      "photoUrl": "https://lh3.googleusercontent.com/a-/AOh14Gh4BPVXR6IythXBJgaEEl5JosseAHCEwlRIxpBjww=s64",
      "userId": "10784804889662280666"
     },
     "user_tz": 180
    },
    "id": "i_4h6ztlUFyS",
    "outputId": "e2bb404b-5b03-4641-f0d8-1f195a8904b2"
   },
   "outputs": [
    {
     "name": "stdout",
     "output_type": "stream",
     "text": [
      "Roberta: roberta-base / CONTEXT_CONCAT      86.62\n",
      "Bert: bert-base-uncased / CONTEXT_CONCAT    83.02\n",
      "Emo2Vec                                     82.73\n",
      "Name: 21, dtype: object\n"
     ]
    }
   ],
   "source": [
    "print(seq_champion.get('sentiment140'))"
   ]
  },
  {
   "cell_type": "code",
   "execution_count": 61,
   "metadata": {
    "colab": {
     "base_uri": "https://localhost:8080/",
     "height": 765
    },
    "colab_type": "code",
    "executionInfo": {
     "elapsed": 2361,
     "status": "ok",
     "timestamp": 1594579649262,
     "user": {
      "displayName": "Ricardo Moura",
      "photoUrl": "https://lh3.googleusercontent.com/a-/AOh14Gh4BPVXR6IythXBJgaEEl5JosseAHCEwlRIxpBjww=s64",
      "userId": "10784804889662280666"
     },
     "user_tz": 180
    },
    "id": "b66CI_WbG_tZ",
    "outputId": "5b2823bf-3249-4957-9ef8-92ba3af39c2a"
   },
   "outputs": [
    {
     "data": {
      "text/html": [
       "<div>\n",
       "<style scoped>\n",
       "    .dataframe tbody tr th:only-of-type {\n",
       "        vertical-align: middle;\n",
       "    }\n",
       "\n",
       "    .dataframe tbody tr th {\n",
       "        vertical-align: top;\n",
       "    }\n",
       "\n",
       "    .dataframe thead th {\n",
       "        text-align: right;\n",
       "    }\n",
       "</style>\n",
       "<table border=\"1\" class=\"dataframe\">\n",
       "  <thead>\n",
       "    <tr style=\"text-align: right;\">\n",
       "      <th></th>\n",
       "      <th>Embedding</th>\n",
       "      <th>Bert: bert-base-uncased / CONTEXT_CONCAT</th>\n",
       "      <th>Emo2Vec</th>\n",
       "      <th>Roberta: roberta-base / CONTEXT_CONCAT</th>\n",
       "    </tr>\n",
       "  </thead>\n",
       "  <tbody>\n",
       "    <tr>\n",
       "      <th>15</th>\n",
       "      <td>irony</td>\n",
       "      <td>67.62</td>\n",
       "      <td>69.05</td>\n",
       "      <td>66.19</td>\n",
       "    </tr>\n",
       "    <tr>\n",
       "      <th>20</th>\n",
       "      <td>sarcasm</td>\n",
       "      <td>67.32</td>\n",
       "      <td>71.79</td>\n",
       "      <td>66.07</td>\n",
       "    </tr>\n",
       "    <tr>\n",
       "      <th>17</th>\n",
       "      <td>aisopos</td>\n",
       "      <td>83.06</td>\n",
       "      <td>78.03</td>\n",
       "      <td>83.1</td>\n",
       "    </tr>\n",
       "    <tr>\n",
       "      <th>4</th>\n",
       "      <td>SemEval-Fig</td>\n",
       "      <td>85.36</td>\n",
       "      <td>85.98</td>\n",
       "      <td>85.67</td>\n",
       "    </tr>\n",
       "    <tr>\n",
       "      <th>21</th>\n",
       "      <td>sentiment140</td>\n",
       "      <td>83.02</td>\n",
       "      <td>82.73</td>\n",
       "      <td>86.62</td>\n",
       "    </tr>\n",
       "    <tr>\n",
       "      <th>18</th>\n",
       "      <td>person</td>\n",
       "      <td>77.23</td>\n",
       "      <td>79.05</td>\n",
       "      <td>76.08</td>\n",
       "    </tr>\n",
       "    <tr>\n",
       "      <th>13</th>\n",
       "      <td>hobbit</td>\n",
       "      <td>77.4</td>\n",
       "      <td>86.59</td>\n",
       "      <td>78.37</td>\n",
       "    </tr>\n",
       "    <tr>\n",
       "      <th>14</th>\n",
       "      <td>iphone6</td>\n",
       "      <td>80.25</td>\n",
       "      <td>79.7</td>\n",
       "      <td>80.06</td>\n",
       "    </tr>\n",
       "    <tr>\n",
       "      <th>16</th>\n",
       "      <td>movie</td>\n",
       "      <td>82.35</td>\n",
       "      <td>86.63</td>\n",
       "      <td>82.18</td>\n",
       "    </tr>\n",
       "    <tr>\n",
       "      <th>19</th>\n",
       "      <td>sanders</td>\n",
       "      <td>82.6</td>\n",
       "      <td>80.96</td>\n",
       "      <td>84.97</td>\n",
       "    </tr>\n",
       "    <tr>\n",
       "      <th>1</th>\n",
       "      <td>Narr</td>\n",
       "      <td>85.41</td>\n",
       "      <td>88.84</td>\n",
       "      <td>87.37</td>\n",
       "    </tr>\n",
       "    <tr>\n",
       "      <th>11</th>\n",
       "      <td>archeage</td>\n",
       "      <td>86.09</td>\n",
       "      <td>84.34</td>\n",
       "      <td>88.36</td>\n",
       "    </tr>\n",
       "    <tr>\n",
       "      <th>7</th>\n",
       "      <td>SemEval18</td>\n",
       "      <td>80.69</td>\n",
       "      <td>80.1</td>\n",
       "      <td>83.54</td>\n",
       "    </tr>\n",
       "    <tr>\n",
       "      <th>12</th>\n",
       "      <td>OMD</td>\n",
       "      <td>79.28</td>\n",
       "      <td>76.08</td>\n",
       "      <td>79.07</td>\n",
       "    </tr>\n",
       "    <tr>\n",
       "      <th>0</th>\n",
       "      <td>HCR</td>\n",
       "      <td>75.89</td>\n",
       "      <td>74.58</td>\n",
       "      <td>75.63</td>\n",
       "    </tr>\n",
       "    <tr>\n",
       "      <th>2</th>\n",
       "      <td>STS-gold</td>\n",
       "      <td>81.71</td>\n",
       "      <td>86.58</td>\n",
       "      <td>82.89</td>\n",
       "    </tr>\n",
       "    <tr>\n",
       "      <th>8</th>\n",
       "      <td>SentiStrength</td>\n",
       "      <td>78.68</td>\n",
       "      <td>83.88</td>\n",
       "      <td>80.08</td>\n",
       "    </tr>\n",
       "    <tr>\n",
       "      <th>9</th>\n",
       "      <td>Target-dependent</td>\n",
       "      <td>82.35</td>\n",
       "      <td>81.11</td>\n",
       "      <td>81.83</td>\n",
       "    </tr>\n",
       "    <tr>\n",
       "      <th>10</th>\n",
       "      <td>Vader</td>\n",
       "      <td>82.55</td>\n",
       "      <td>86.06</td>\n",
       "      <td>82.41</td>\n",
       "    </tr>\n",
       "    <tr>\n",
       "      <th>3</th>\n",
       "      <td>SemEval13</td>\n",
       "      <td>79.88</td>\n",
       "      <td>87.44</td>\n",
       "      <td>81.11</td>\n",
       "    </tr>\n",
       "    <tr>\n",
       "      <th>6</th>\n",
       "      <td>SemEval17</td>\n",
       "      <td>86.54</td>\n",
       "      <td>84.09</td>\n",
       "      <td>87.52</td>\n",
       "    </tr>\n",
       "    <tr>\n",
       "      <th>5</th>\n",
       "      <td>SemEval16</td>\n",
       "      <td>84.01</td>\n",
       "      <td>83.15</td>\n",
       "      <td>84.41</td>\n",
       "    </tr>\n",
       "  </tbody>\n",
       "</table>\n",
       "</div>"
      ],
      "text/plain": [
       "           Embedding  ... Roberta: roberta-base / CONTEXT_CONCAT\n",
       "15             irony  ...                                  66.19\n",
       "20           sarcasm  ...                                  66.07\n",
       "17           aisopos  ...                                   83.1\n",
       "4        SemEval-Fig  ...                                  85.67\n",
       "21      sentiment140  ...                                  86.62\n",
       "18            person  ...                                  76.08\n",
       "13            hobbit  ...                                  78.37\n",
       "14           iphone6  ...                                  80.06\n",
       "16             movie  ...                                  82.18\n",
       "19           sanders  ...                                  84.97\n",
       "1               Narr  ...                                  87.37\n",
       "11          archeage  ...                                  88.36\n",
       "7          SemEval18  ...                                  83.54\n",
       "12               OMD  ...                                  79.07\n",
       "0                HCR  ...                                  75.63\n",
       "2           STS-gold  ...                                  82.89\n",
       "8      SentiStrength  ...                                  80.08\n",
       "9   Target-dependent  ...                                  81.83\n",
       "10             Vader  ...                                  82.41\n",
       "3          SemEval13  ...                                  81.11\n",
       "6          SemEval17  ...                                  87.52\n",
       "5          SemEval16  ...                                  84.41\n",
       "\n",
       "[22 rows x 4 columns]"
      ]
     },
     "execution_count": 61,
     "metadata": {
      "tags": []
     },
     "output_type": "execute_result"
    }
   ],
   "source": [
    "df_context_beststatic"
   ]
  },
  {
   "cell_type": "code",
   "execution_count": 62,
   "metadata": {
    "colab": {
     "base_uri": "https://localhost:8080/",
     "height": 459
    },
    "colab_type": "code",
    "executionInfo": {
     "elapsed": 2346,
     "status": "ok",
     "timestamp": 1594579649263,
     "user": {
      "displayName": "Ricardo Moura",
      "photoUrl": "https://lh3.googleusercontent.com/a-/AOh14Gh4BPVXR6IythXBJgaEEl5JosseAHCEwlRIxpBjww=s64",
      "userId": "10784804889662280666"
     },
     "user_tz": 180
    },
    "id": "I6QAyvp0Cr8I",
    "outputId": "1bc3a293-3da6-4d87-c279-6442fa38126c"
   },
   "outputs": [
    {
     "name": "stdout",
     "output_type": "stream",
     "text": [
      "irony & \\textbf{69.05} & 66.19 & 67.62 \\\\\n",
      "sarcasm & \\textbf{71.79} & 66.07 & 67.32 \\\\\n",
      "aisopos & 78.03 & \\textbf{83.1} & 83.06 \\\\\n",
      "SemEval-Fig & \\textbf{85.98} & 85.67 & 85.36 \\\\\n",
      "sentiment140 & 82.73 & \\textbf{86.62} & 83.02 \\\\\n",
      "person & \\textbf{79.05} & 76.08 & 77.23 \\\\\n",
      "hobbit & \\textbf{86.59} & 78.37 & 77.4 \\\\\n",
      "iphone6 & 79.7 & 80.06 & \\textbf{80.25} \\\\\n",
      "movie & \\textbf{86.63} & 82.18 & 82.35 \\\\\n",
      "sanders & 80.96 & \\textbf{84.97} & 82.6 \\\\\n",
      "Narr & \\textbf{88.84} & 87.37 & 85.41 \\\\\n",
      "archeage & 84.34 & \\textbf{88.36} & 86.09 \\\\\n",
      "SemEval18 & 80.1 & \\textbf{83.54} & 80.69 \\\\\n",
      "OMD & 76.08 & 79.07 & \\textbf{79.28} \\\\\n",
      "HCR & 74.58 & 75.63 & \\textbf{75.89} \\\\\n",
      "STS-gold & \\textbf{86.58} & 82.89 & 81.71 \\\\\n",
      "SentiStrength & \\textbf{83.88} & 80.08 & 78.68 \\\\\n",
      "Target-dependent & 81.11 & 81.83 & \\textbf{82.35} \\\\\n",
      "Vader & \\textbf{86.06} & 82.41 & 82.55 \\\\\n",
      "SemEval13 & \\textbf{87.44} & 81.11 & 79.88 \\\\\n",
      "SemEval17 & 84.09 & \\textbf{87.52} & 86.54 \\\\\n",
      "SemEval16 & 83.15 & \\textbf{84.41} & 84.01 \\\\\n",
      "\\noalign{\\smallskip}\\hline\n",
      "\\#wins & 11 &  7 &  4 &  \\\\\n",
      "rank sums & 44 & 42 & 46 & \\\\\n",
      "rank position & 2 & 1 & 3 & \\\\\n"
     ]
    }
   ],
   "source": [
    "for ind in df_context_beststatic.index:\n",
    "  print (df_context_beststatic[\"Embedding\"][ind],\n",
    "         '&', printWinnerTableFormat(df_context_beststatic[\"Emo2Vec\"][ind], df_context_beststatic[\"Embedding\"][ind]),\n",
    "         '&', printWinnerTableFormat(df_context_beststatic[\"Roberta: roberta-base / CONTEXT_CONCAT\"][ind], df_context_beststatic[\"Embedding\"][ind]),\n",
    "         '&', printWinnerTableFormat(df_context_beststatic[\"Bert: bert-base-uncased / CONTEXT_CONCAT\"][ind], df_context_beststatic[\"Embedding\"][ind]), '\\\\\\\\')\n",
    "print(\"\\\\noalign{\\\\smallskip}\\\\hline\")\n",
    "print(\"\\\\#wins &\", countWins(\"Emo2Vec\"),\"& \", \n",
    "      countWins(\"Roberta: roberta-base / CONTEXT_CONCAT\"),\"& \", \n",
    "      countWins(\"Bert: bert-base-uncased / CONTEXT_CONCAT\"),\"\\\\\\\\\")\n",
    "print(\"rank sums &\",dict_emb_ranksum[\"Emo2Vec\"],\"&\",\n",
    "      dict_emb_ranksum[\"Roberta: roberta-base / CONTEXT_CONCAT\"],\"&\",\n",
    "      dict_emb_ranksum[\"Bert: bert-base-uncased / CONTEXT_CONCAT\"], \"\\\\\\\\\")\n",
    "print(\"rank position &\", sortedRankEmbSums['Emo2Vec'], \"&\", \n",
    "      sortedRankEmbSums['Roberta: roberta-base / CONTEXT_CONCAT'] ,\"&\", \n",
    "      sortedRankEmbSums['Bert: bert-base-uncased / CONTEXT_CONCAT'], \"\\\\\\\\\")"
   ]
  },
  {
   "cell_type": "code",
   "execution_count": 62,
   "metadata": {
    "colab": {},
    "colab_type": "code",
    "executionInfo": {
     "elapsed": 2344,
     "status": "ok",
     "timestamp": 1594579649266,
     "user": {
      "displayName": "Ricardo Moura",
      "photoUrl": "https://lh3.googleusercontent.com/a-/AOh14Gh4BPVXR6IythXBJgaEEl5JosseAHCEwlRIxpBjww=s64",
      "userId": "10784804889662280666"
     },
     "user_tz": 180
    },
    "id": "3IVutA-4UW6Q"
   },
   "outputs": [],
   "source": []
  }
 ],
 "metadata": {
  "colab": {
   "authorship_tag": "ABX9TyNFsIP4pGLyyX6lMlVtVhRd",
   "collapsed_sections": [],
   "mount_file_id": "18YqNJ9EiloCFcgw03FIBpEvdUpPY5fCt",
   "name": "organize_result_context_RF.ipynb",
   "provenance": []
  },
  "kernelspec": {
   "display_name": "p36workshop",
   "language": "python",
   "name": "p36workshop"
  },
  "language_info": {
   "codemirror_mode": {
    "name": "ipython",
    "version": 2
   },
   "file_extension": ".py",
   "mimetype": "text/x-python",
   "name": "python",
   "nbconvert_exporter": "python",
   "pygments_lexer": "ipython2",
   "version": "2.7.16"
  }
 },
 "nbformat": 4,
 "nbformat_minor": 1
}
